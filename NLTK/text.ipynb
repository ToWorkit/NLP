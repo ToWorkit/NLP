{
 "cells": [
  {
   "cell_type": "code",
   "execution_count": 1,
   "metadata": {},
   "outputs": [
    {
     "name": "stdout",
     "output_type": "stream",
     "text": [
      "*** Introductory Examples for the NLTK Book ***\n",
      "Loading text1, ..., text9 and sent1, ..., sent9\n",
      "Type the name of the text or sentence to view it.\n",
      "Type: 'texts()' or 'sents()' to list the materials.\n",
      "text1: Moby Dick by Herman Melville 1851\n",
      "text2: Sense and Sensibility by Jane Austen 1811\n",
      "text3: The Book of Genesis\n",
      "text4: Inaugural Address Corpus\n",
      "text5: Chat Corpus\n",
      "text6: Monty Python and the Holy Grail\n",
      "text7: Wall Street Journal\n",
      "text8: Personals Corpus\n",
      "text9: The Man Who Was Thursday by G . K . Chesterton 1908\n"
     ]
    }
   ],
   "source": [
    "import nltk\n",
    "from nltk.book import *"
   ]
  },
  {
   "cell_type": "markdown",
   "metadata": {},
   "source": [
    "## 搜索文本"
   ]
  },
  {
   "cell_type": "code",
   "execution_count": 5,
   "metadata": {},
   "outputs": [
    {
     "name": "stdout",
     "output_type": "stream",
     "text": [
      "Displaying 25 of 4625 matches:\n",
      "                                      to a Grammar School ) The pale Usher -- \n",
      "known nations of the world . He loved to dust his old grammars ; it somehow mi\n",
      " mortality . \" While you take in hand to school others , and to teach them by \n",
      "u take in hand to school others , and to teach them by what name a whale - fis\n",
      "h them by what name a whale - fish is to be called in our tongue leaving out ,\n",
      "d Ger . WALLEN ; A . S . WALW - IAN , to roll , to wallow .\" -- RICHARDSON ' S\n",
      "LLEN ; A . S . WALW - IAN , to roll , to wallow .\" -- RICHARDSON ' S DICTIONAR\n",
      "f a poor devil of a Sub - Sub appears to have gone through the long Vaticans a\n",
      " picking up whatever random allusions to whales he could anyways find in any b\n",
      "ose commentator I am . Thou belongest to that hopeless , sallow tribe which no\n",
      "g ; but with whom one sometimes loves to sit , and feel poor - devilish , too \n",
      "d grow convivial upon tears ; and say to them bluntly , with full eyes and emp\n",
      "or by how much the more pains ye take to please the world , by so much the mor\n",
      "ut gulp down your tears and hie aloft to the royal - mast with your hearts ; f\n",
      "- GENESIS . \" Leviathan maketh a path to shine after him ; One would think the\n",
      " after him ; One would think the deep to be hoary .\" -- JOB . \" Now the Lord h\n",
      "ow the Lord had prepared a great fish to swallow up Jonah .\" -- JONAH . \" Ther\n",
      "is that Leviathan whom thou hast made to play therein .\" -- PSALMS . \" In that\n",
      "heir teeth , of which he brought some to the king . ... The best whales were c\n",
      " great Leviathan that maketh the seas to seethe like boiling pan .\" -- LORD BA\n",
      "y like a whale .\" -- HAMLET . \" Which to secure , no skill of leach ' s art Mo\n",
      " leach ' s art Mote him availle , but to returne againe To his wound ' s worke\n",
      "e him availle , but to returne againe To his wound ' s worker , that with lowl\n",
      "ess paine , Like as the wounded whale to shore flies thro ' the maine .\" -- TH\n",
      " .\" -- SIR WILLIAM DAVENANT . PREFACE TO GONDIBERT . \" What spermacetti is , m\n",
      "-----------\n",
      "Displaying 25 of 822 matches:\n",
      "ast PART 24 / m boo . 26 / m and sexy lol U115 boo . JOIN PART he drew a girl w\n",
      "ope he didnt draw a penis PART ewwwww lol & a head between her legs JOIN JOIN s\n",
      "a bowl i got a blunt an a bong ...... lol JOIN well , glad it worked out my cha\n",
      "e \" PART Hi U121 in ny . ACTION would lol @ U121 . . . but appearently she does\n",
      "30 make sure u buy a nice ring for U6 lol U7 Hi U115 . ACTION isnt falling for \n",
      " didnt ya hear !!!! PART JOIN geeshhh lol U6 PART hes deaf ppl here dont get it\n",
      "es nobody here i wanna misbeahve with lol JOIN so read it . thanks U7 .. Im hap\n",
      "ies want to chat can i talk to him !! lol U121 !!! forwards too lol JOIN ALL PE\n",
      "k to him !! lol U121 !!! forwards too lol JOIN ALL PErvs ... redirect to U121 '\n",
      " loves ME the most i love myself JOIN lol U44 how do u know that what ? jerkett\n",
      "ng wrong ... i can see it in his eyes lol U20 = fiance Jerketts lmao wtf yah I \n",
      "cooler by the minute what 'd I miss ? lol noo there too much work ! why not ?? \n",
      " that mean I want you ? U6 hello room lol U83 and this .. has been the grammar \n",
      " the rule he 's in PM land now though lol ah ok i wont bug em then someone wann\n",
      "flight to hell :) lmao bbl maybe PART LOL lol U7 it was me , U83 hahah U83 ! 80\n",
      "ht to hell :) lmao bbl maybe PART LOL lol U7 it was me , U83 hahah U83 ! 808265\n",
      "082653953 K-Fed got his ass kicked .. Lol . ACTION laughs . i got a first class\n",
      " . i got a first class ticket to hell lol U7 JOIN any texas girls in here ? any\n",
      " . whats up U155 i was only kidding . lol he 's a douchebag . Poor U121 i 'm bo\n",
      " ??? sits with U30 Cum to my shower . lol U121 . ACTION U1370 watches his nads \n",
      " ur nad with a stick . ca u U23 ewwww lol *sniffs* ewwwwww PART U115 ! owww spl\n",
      "ACTION is resisting . ur female right lol U115 beeeeehave Remember the LAst tim\n",
      "pm's me . charge that is 1.99 / min . lol @ innocent hahah lol .... yeah LOLOLO\n",
      " is 1.99 / min . lol @ innocent hahah lol .... yeah LOLOLOLLL U12 thats not nic\n",
      "s . lmao no U115 Check my record . :) Lol lick em U7 U23 how old r u lol Way to\n"
     ]
    }
   ],
   "source": [
    "# 搜索单词\n",
    "text1.concordance('to')\n",
    "print('-----------')\n",
    "text5.concordance('lol')"
   ]
  },
  {
   "cell_type": "code",
   "execution_count": 7,
   "metadata": {},
   "outputs": [
    {
     "name": "stdout",
     "output_type": "stream",
     "text": [
      "in was with of from could as has had on appeared came seems seemed\n",
      "answered desires smoke presented swung paced\n"
     ]
    }
   ],
   "source": [
    "# 搜索相似词意\n",
    "text1.similar('loved')"
   ]
  },
  {
   "cell_type": "code",
   "execution_count": 9,
   "metadata": {},
   "outputs": [
    {
     "name": "stdout",
     "output_type": "stream",
     "text": [
      ",_the ._the but_her now_the house_the ,_a but_the ,_all been_the ,_her\n",
      "._my ._this herself_the interest_the and_what it_their lived_a\n",
      "them_the and_the him_the\n"
     ]
    }
   ],
   "source": [
    "# 搜索共同的上下文\n",
    "# 两个词都可以填补搜索结果的空白处\n",
    "text2.common_contexts(['in', 'to'])"
   ]
  },
  {
   "cell_type": "code",
   "execution_count": 19,
   "metadata": {},
   "outputs": [
    {
     "data": {
      "image/png": "[encoded data removed]",
      "text/plain": [
       "<matplotlib.figure.Figure at 0x2f37831bc88>"
      ]
     },
     "metadata": {},
     "output_type": "display_data"
    }
   ],
   "source": [
    "# 词汇分布图\n",
    "text4.dispersion_plot([\"citizens\", \"democracy\", \"freedom\", \"duties\", \"America\"])"
   ]
  },
  {
   "cell_type": "code",
   "execution_count": 20,
   "metadata": {},
   "outputs": [
    {
     "ename": "TypeError",
     "evalue": "generate() missing 1 required positional argument: 'words'",
     "output_type": "error",
     "traceback": [
      "\u001b[1;31m---------------------------------------------------------------------------\u001b[0m",
      "\u001b[1;31mTypeError\u001b[0m                                 Traceback (most recent call last)",
      "\u001b[1;32m<ipython-input-20-174eb2215900>\u001b[0m in \u001b[0;36m<module>\u001b[1;34m()\u001b[0m\n\u001b[0;32m      1\u001b[0m \u001b[1;31m# 自动生成文章\u001b[0m\u001b[1;33m\u001b[0m\u001b[1;33m\u001b[0m\u001b[0m\n\u001b[1;32m----> 2\u001b[1;33m \u001b[0mtext1\u001b[0m\u001b[1;33m.\u001b[0m\u001b[0mgenerate\u001b[0m\u001b[1;33m(\u001b[0m\u001b[1;33m)\u001b[0m\u001b[1;33m\u001b[0m\u001b[0m\n\u001b[0m",
      "\u001b[1;31mTypeError\u001b[0m: generate() missing 1 required positional argument: 'words'"
     ]
    }
   ],
   "source": [
    "# 自动生成文章\n",
    "text1.generate()"
   ]
  },
  {
   "cell_type": "code",
   "execution_count": 23,
   "metadata": {},
   "outputs": [
    {
     "data": {
      "text/plain": [
       "2789"
      ]
     },
     "execution_count": 23,
     "metadata": {},
     "output_type": "execute_result"
    }
   ],
   "source": [
    "# 计数词汇\n",
    "len(text3)\n",
    "\n",
    "sorted(set(text3))\n",
    "\n",
    "len(set(text3))"
   ]
  },
  {
   "cell_type": "code",
   "execution_count": null,
   "metadata": {
    "collapsed": true
   },
   "outputs": [],
   "source": []
  }
 ],
 "metadata": {
  "kernelspec": {
   "display_name": "Python 3",
   "language": "python",
   "name": "python3"
  },
  "language_info": {
   "codemirror_mode": {
    "name": "ipython",
    "version": 3
   },
   "file_extension": ".py",
   "mimetype": "text/x-python",
   "name": "python",
   "nbconvert_exporter": "python",
   "pygments_lexer": "ipython3",
   "version": "3.6.1"
  }
 },
 "nbformat": 4,
 "nbformat_minor": 2
}

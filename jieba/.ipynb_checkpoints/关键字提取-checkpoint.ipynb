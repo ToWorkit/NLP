{
 "cells": [
  {
   "cell_type": "code",
   "execution_count": 1,
   "metadata": {
    "collapsed": true
   },
   "outputs": [],
   "source": [
    "import jieba\n",
    "import jieba.analyse"
   ]
  },
  {
   "cell_type": "code",
   "execution_count": 2,
   "metadata": {
    "collapsed": true
   },
   "outputs": [],
   "source": [
    "_str = '''据韩媒报道，韩国航空宇宙产业公司(KAI)生产的两架超音速飞机T-50TH已移交给泰国空军。\n",
    "\n",
    "据悉，泰国空军订购的4架超音速飞机T-50TH中的2架飞机于25日抵达泰国中部北榄坡府空军基地，完成了移交程序。\n",
    "\n",
    "此前，泰国于2015年订购了4架飞机，当天为首批移交。泰国军方表示，进口飞机为最新机型，将把泰国空军水平提升至世界水平。\n",
    "\n",
    "报道称，韩国超音速飞机T-50TH以超音速高级教练机为基础开发，泰国方面将用其替代目前使用的捷克产L-39高级教练机。'''"
   ]
  },
  {
   "cell_type": "code",
   "execution_count": 3,
   "metadata": {},
   "outputs": [
    {
     "name": "stderr",
     "output_type": "stream",
     "text": [
      "Building prefix dict from the default dictionary ...\n",
      "Loading model from cache C:\\Users\\JUSTDO~1\\AppData\\Local\\Temp\\jieba.cache\n",
      "Loading model cost 1.041 seconds.\n",
      "Prefix dict has been built succesfully.\n"
     ]
    },
    {
     "name": "stdout",
     "output_type": "stream",
     "text": [
      "泰国 0.7214747250487671\n",
      "超音速 0.5051258314986301\n",
      "50TH 0.4912918151876712\n",
      "移交 0.34795708144191784\n",
      "飞机 0.3265414838942466\n",
      "空军 0.27794791293369864\n",
      "教练机 0.26183211589369865\n",
      "架飞机 0.24487213758136986\n",
      "订购 0.23872032455178083\n",
      "韩国 0.19022411729041097\n",
      "高级 0.17917637668273972\n",
      "韩媒 0.1637639383958904\n",
      "KAI 0.1637639383958904\n",
      "25 0.1637639383958904\n",
      "北榄坡府 0.1637639383958904\n",
      "2015 0.1637639383958904\n",
      "39 0.1637639383958904\n",
      "报道 0.16110704600438355\n",
      "水平 0.1330065845558904\n",
      "两架 0.12603009981068494\n"
     ]
    }
   ],
   "source": [
    "# 基于TF-IDF\n",
    "# topK -> 最重要的个数\n",
    "# withWeight -> 权重\n",
    "for s, w in jieba.analyse.extract_tags(_str, topK = 20, withWeight = True):\n",
    "    print('%s %s' % (s, w))"
   ]
  },
  {
   "cell_type": "code",
   "execution_count": 4,
   "metadata": {},
   "outputs": [
    {
     "name": "stdout",
     "output_type": "stream",
     "text": [
      "泰国, 1.0\n",
      "空军, 0.480452417652205\n",
      "超音速, 0.46415561055933674\n",
      "飞机, 0.46045437465715\n",
      "移交, 0.42669358143999003\n",
      "水平, 0.4215106968140159\n",
      "韩国, 0.41014545233072486\n",
      "订购, 0.31885016079305695\n",
      "报道, 0.30348737384521135\n",
      "替代, 0.291814347374395\n"
     ]
    }
   ],
   "source": [
    "# 基于textrank\n",
    "# http://blog.csdn.net/kamendula/article/details/51756552\n",
    "for s, w in jieba.analyse.textrank(_str, topK = 10, withWeight = True):\n",
    "    print('{} {}'.format(s, w))"
   ]
  },
  {
   "cell_type": "code",
   "execution_count": null,
   "metadata": {
    "collapsed": true
   },
   "outputs": [],
   "source": []
  }
 ],
 "metadata": {
  "kernelspec": {
   "display_name": "Python 3",
   "language": "python",
   "name": "python3"
  },
  "language_info": {
   "codemirror_mode": {
    "name": "ipython",
    "version": 3
   },
   "file_extension": ".py",
   "mimetype": "text/x-python",
   "name": "python",
   "nbconvert_exporter": "python",
   "pygments_lexer": "ipython3",
   "version": "3.6.1"
  }
 },
 "nbformat": 4,
 "nbformat_minor": 2
}

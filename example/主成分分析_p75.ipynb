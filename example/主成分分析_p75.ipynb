{
 "cells": [
  {
   "cell_type": "markdown",
   "metadata": {},
   "source": [
    "## 逐步向前选择，逐步向后删除和决策树归纳是属于直接删除不相关属性(维)方法。\n",
    "## 主成分分析是一种用于连续属性的数据降维方法，它构造了原始数据的一个正交变换，新空间的基底去除了原始空间基底下数据的相关性，只需要使用少数新变量就能够解释原始数据中的大部分变异"
   ]
  },
  {
   "cell_type": "markdown",
   "metadata": {},
   "source": [
    "> ### 在应用中，通常是选出比原始变量个数少，能解释大部分数据中的变量的几个新变量，即所谓主成分，来代替原始变量进行建模"
   ]
  },
  {
   "cell_type": "code",
   "execution_count": 1,
   "metadata": {
    "collapsed": true
   },
   "outputs": [],
   "source": [
    "# 主成分分析降维\n",
    "import pandas as pd"
   ]
  },
  {
   "cell_type": "code",
   "execution_count": 2,
   "metadata": {
    "collapsed": true
   },
   "outputs": [],
   "source": [
    "# 数据文件\n",
    "inputfile = 'E:\\\\NLP\\\\Python数据分析与挖掘实战\\\\chapter4\\\\demo\\\\data\\\\principal_component.xls'\n",
    "# 降维后的储存地址\n",
    "outputfile = 'E:\\\\NLP\\\\Python数据分析与挖掘实战\\\\chapter4\\\\demo\\\\tmp\\\\dimention_reducted.xls'"
   ]
  },
  {
   "cell_type": "code",
   "execution_count": 3,
   "metadata": {
    "collapsed": true
   },
   "outputs": [],
   "source": [
    "# 载入数据\n",
    "data = pd.read_excel(inputfile, header = None)"
   ]
  },
  {
   "cell_type": "code",
   "execution_count": 4,
   "metadata": {
    "collapsed": true
   },
   "outputs": [],
   "source": [
    "# PCA 主成分分析\n",
    "from sklearn.decomposition import PCA"
   ]
  },
  {
   "cell_type": "code",
   "execution_count": 5,
   "metadata": {},
   "outputs": [
    {
     "data": {
      "text/plain": [
       "array([[ 0.56788461,  0.2280431 ,  0.23281436,  0.22427336,  0.3358618 ,\n",
       "         0.43679539,  0.03861081,  0.46466998],\n",
       "       [ 0.64801531,  0.24732373, -0.17085432, -0.2089819 , -0.36050922,\n",
       "        -0.55908747,  0.00186891,  0.05910423],\n",
       "       [-0.45139763,  0.23802089, -0.17685792, -0.11843804, -0.05173347,\n",
       "        -0.20091919, -0.00124421,  0.80699041],\n",
       "       [-0.19404741,  0.9021939 , -0.00730164, -0.01424541,  0.03106289,\n",
       "         0.12563004,  0.11152105, -0.3448924 ],\n",
       "       [-0.06133747, -0.03383817,  0.12652433,  0.64325682, -0.3896425 ,\n",
       "        -0.10681901,  0.63233277,  0.04720838],\n",
       "       [ 0.02579655, -0.06678747,  0.12816343, -0.57023937, -0.52642373,\n",
       "         0.52280144,  0.31167833,  0.0754221 ],\n",
       "       [-0.03800378,  0.09520111,  0.15593386,  0.34300352, -0.56640021,\n",
       "         0.18985251, -0.69902952,  0.04505823],\n",
       "       [-0.10147399,  0.03937889,  0.91023327, -0.18760016,  0.06193777,\n",
       "        -0.34598258, -0.02090066,  0.02137393]])"
      ]
     },
     "execution_count": 5,
     "metadata": {},
     "output_type": "execute_result"
    }
   ],
   "source": [
    "pca = PCA()\n",
    "# 训练\n",
    "pca.fit(data)\n",
    "# 返回模型的各个特征向量\n",
    "pca.components_"
   ]
  },
  {
   "cell_type": "code",
   "execution_count": 6,
   "metadata": {},
   "outputs": [
    {
     "data": {
      "text/plain": [
       "array([  7.74011263e-01,   1.56949443e-01,   4.27594216e-02,\n",
       "         2.40659228e-02,   1.50278048e-03,   4.10990447e-04,\n",
       "         2.07718405e-04,   9.24594471e-05])"
      ]
     },
     "execution_count": 6,
     "metadata": {},
     "output_type": "execute_result"
    }
   ],
   "source": [
    "# 返回各个成分各自的方差百分比(贡献率)\n",
    "pca.explained_variance_ratio_"
   ]
  },
  {
   "cell_type": "code",
   "execution_count": 7,
   "metadata": {},
   "outputs": [
    {
     "data": {
      "text/plain": [
       "0.97372012837096444"
      ]
     },
     "execution_count": 7,
     "metadata": {},
     "output_type": "execute_result"
    }
   ],
   "source": [
    "# 选取前3个主成分进行计算\n",
    "pca = PCA(3)\n",
    "# 训练\n",
    "pca.fit(data)\n",
    "# 降低维度\n",
    "low_d = pca.transform(data)\n",
    "# 保存结果\n",
    "pd.DataFrame(low_d).to_excel(outputfile)\n",
    "# 累计贡献率 \n",
    "pca.explained_variance_ratio_.sum()\n",
    "# 必要时可以使用 inverse_transform() 函数来复原数据\n",
    "# pca.inverse_transform(low_d)"
   ]
  },
  {
   "cell_type": "code",
   "execution_count": 8,
   "metadata": {
    "collapsed": true
   },
   "outputs": [],
   "source": [
    "# 书籍 p77"
   ]
  },
  {
   "cell_type": "markdown",
   "metadata": {},
   "source": [
    "### 使用PCA() 对一个10 * 4 维的随机矩阵进行主成分分析"
   ]
  },
  {
   "cell_type": "code",
   "execution_count": 9,
   "metadata": {},
   "outputs": [],
   "source": [
    "from sklearn.decomposition import PCA\n",
    "import numpy as np"
   ]
  },
  {
   "cell_type": "code",
   "execution_count": 10,
   "metadata": {},
   "outputs": [
    {
     "name": "stdout",
     "output_type": "stream",
     "text": [
      "[[  5.84479741e-01   8.02773252e-01   6.57184323e-01   1.52296554e-01]\n",
      " [  3.77853477e-01   7.68072906e-01   5.65778162e-01   5.21616961e-01]\n",
      " [  3.60423365e-01   8.37558046e-02   6.03165648e-01   8.69730195e-01]\n",
      " [  5.57205282e-01   1.07908949e-01   8.52047179e-01   1.35574251e-01]\n",
      " [  8.51998314e-01   2.23947066e-01   3.51960099e-01   5.14972865e-01]\n",
      " [  8.56440404e-01   1.48693552e-01   8.90069064e-01   1.06427414e-01]\n",
      " [  7.54616931e-05   9.40553609e-01   2.64825359e-01   9.02300495e-03]\n",
      " [  7.84046138e-01   4.91554410e-01   9.29123035e-01   2.80537553e-01]\n",
      " [  5.57047341e-01   1.13007308e-01   8.21963522e-01   7.55925022e-01]\n",
      " [  1.66700341e-01   4.13307588e-01   2.93361745e-01   8.30415062e-01]]\n"
     ]
    }
   ],
   "source": [
    "# 10 * 4 维随机矩阵\n",
    "D = np.random.rand(10, 4)\n",
    "# 选取前3个主成分进行计算\n",
    "# 4个 贡献率为 百分比\n",
    "pca = PCA(3)\n",
    "pca.fit(D)\n",
    "print(D)"
   ]
  },
  {
   "cell_type": "code",
   "execution_count": 11,
   "metadata": {},
   "outputs": [
    {
     "data": {
      "text/plain": [
       "array([[-0.51835472,  0.71548546, -0.40873816, -0.22874017],\n",
       "       [-0.38912662, -0.22599755, -0.35957919,  0.81744014],\n",
       "       [ 0.74370485,  0.48038762, -0.30067731,  0.35457578]])"
      ]
     },
     "execution_count": 11,
     "metadata": {},
     "output_type": "execute_result"
    }
   ],
   "source": [
    "# 返回模型的各个特征向量\n",
    "pca.components_"
   ]
  },
  {
   "cell_type": "code",
   "execution_count": 12,
   "metadata": {},
   "outputs": [
    {
     "name": "stdout",
     "output_type": "stream",
     "text": [
      "[ 0.48394627  0.3705363   0.07631603]\n"
     ]
    }
   ],
   "source": [
    "# 返回各个成分各自的方差百分比(贡献率)\n",
    "ratio_ = pca.explained_variance_ratio_\n",
    "print(ratio_)"
   ]
  },
  {
   "cell_type": "code",
   "execution_count": 13,
   "metadata": {},
   "outputs": [
    {
     "data": {
      "text/plain": [
       "0.93079859954226551"
      ]
     },
     "execution_count": 13,
     "metadata": {},
     "output_type": "execute_result"
    }
   ],
   "source": [
    "# 累计贡献率\n",
    "ratio_.sum()"
   ]
  },
  {
   "cell_type": "code",
   "execution_count": null,
   "metadata": {
    "collapsed": true
   },
   "outputs": [],
   "source": []
  }
 ],
 "metadata": {
  "kernelspec": {
   "display_name": "Python 3",
   "language": "python",
   "name": "python3"
  },
  "language_info": {
   "codemirror_mode": {
    "name": "ipython",
    "version": 3
   },
   "file_extension": ".py",
   "mimetype": "text/x-python",
   "name": "python",
   "nbconvert_exporter": "python",
   "pygments_lexer": "ipython3",
   "version": "3.6.1"
  }
 },
 "nbformat": 4,
 "nbformat_minor": 2
}

{
 "cells": [
  {
   "cell_type": "markdown",
   "metadata": {},
   "source": [
    "### 模型输入\n",
    "> p_199"
   ]
  },
  {
   "cell_type": "code",
   "execution_count": 1,
   "metadata": {
    "collapsed": true
   },
   "outputs": [],
   "source": [
    "import pandas as pd"
   ]
  },
  {
   "cell_type": "code",
   "execution_count": 2,
   "metadata": {
    "collapsed": true
   },
   "outputs": [],
   "source": [
    "# 数据文件\n",
    "inputfile = 'E:\\\\NLP\\\\Python_Data_Analysis_And_Mining_Actual_Combat\\\\chapter9\\\\demo\\data\\\\moment.csv'\n",
    "outputfile_1 = 'E:\\\\NLP\\\\Python_Data_Analysis_And_Mining_Actual_Combat\\\\chapter9\\\\demo\\\\tmp\\\\cm_train_svm.csv'\n",
    "outputfile_2 = 'E:\\\\NLP\\\\Python_Data_Analysis_And_Mining_Actual_Combat\\\\chapter9\\\\demo\\\\tmp\\\\cm_test_svm.csv'\n",
    "# 读取数据，指定编码\n",
    "data = pd.read_csv(inputfile, encoding = 'gbk')\n",
    "# 转为矩阵方便处理\n",
    "data = data.as_matrix()"
   ]
  },
  {
   "cell_type": "code",
   "execution_count": 3,
   "metadata": {},
   "outputs": [
    {
     "name": "stdout",
     "output_type": "stream",
     "text": [
      "<class 'numpy.ndarray'>\n"
     ]
    }
   ],
   "source": [
    "# 引入随机函数\n",
    "from numpy.random import shuffle\n",
    "# 随机打乱数据\n",
    "shuffle(data)\n",
    "# 选取前80%为训练数据\n",
    "data_train = data[:int(0.8*len(data)), :]\n",
    "# 选取后20%为测试数据\n",
    "data_test = data[int(0.8 * len(data)):, :]\n",
    "print(type(data_train))"
   ]
  },
  {
   "cell_type": "markdown",
   "metadata": {},
   "source": [
    "### SVM(支持向量机)\n",
    "> p_200"
   ]
  },
  {
   "cell_type": "markdown",
   "metadata": {},
   "source": [
    "### 输入层"
   ]
  },
  {
   "cell_type": "code",
   "execution_count": 4,
   "metadata": {},
   "outputs": [
    {
     "name": "stdout",
     "output_type": "stream",
     "text": [
      "[[ 0.52900119  0.49027027  0.26443159 ..., -0.00419519 -0.00357085\n",
      "   0.00592027]\n",
      " [ 0.56781361  0.58540704  0.2516147  ..., -0.00343437 -0.00258571\n",
      "   0.0054227 ]\n",
      " [ 0.56735922  0.50208265  0.18490267 ...,  0.00243368 -0.00520144\n",
      "  -0.00512189]\n",
      " ..., \n",
      " [ 0.54432264  0.52223984  0.26366696 ..., -0.00367885  0.00452595\n",
      "  -0.00669789]\n",
      " [ 0.44343942  0.52585771  0.1894128  ..., -0.00646552 -0.00697062\n",
      "   0.00908709]\n",
      " [ 0.61812279  0.53977945  0.27486656 ..., -0.0025752   0.0036275\n",
      "   0.0142242 ]]\n",
      "--------------------\n",
      "[[ 15.87003582  14.70810819   7.93294776 ...,  -0.12585585  -0.1071255\n",
      "    0.17760813]\n",
      " [ 17.03440839  17.56221132   7.54844103 ...,  -0.10303122  -0.07757142\n",
      "    0.162681  ]\n",
      " [ 17.02077651  15.06247947   5.54708016 ...,   0.07301037  -0.15604332\n",
      "   -0.1536567 ]\n",
      " ..., \n",
      " [ 16.32967932  15.66719526   7.91000883 ...,  -0.11036553   0.13577844\n",
      "   -0.20093685]\n",
      " [ 13.30318251  15.77573133   5.68238409 ...,  -0.19396572  -0.20911866\n",
      "    0.27261282]\n",
      " [ 18.54368373  16.19338359   8.24599665 ...,  -0.07725585   0.10882497\n",
      "    0.42672591]]\n"
     ]
    }
   ],
   "source": [
    "# 构造特征和标签\n",
    "# 训练集\n",
    "# 从 下标为 2 的位置开始截取，一直取到结尾(含头), 尾部只能取 负值\n",
    "# 放大特征\n",
    "print(data_train[:, 2:])\n",
    "print('-' * 20)\n",
    "x_train = data_train[:, 2:] * 30\n",
    "print(x_train)\n",
    "# 索引为 0 的列数据\n",
    "y_train = data_train[:, 0].astype(int)\n",
    "# 测试集\n",
    "x_test = data_test[:, 2:] * 30\n",
    "y_test = data_test[:, 0].astype(int)"
   ]
  },
  {
   "cell_type": "markdown",
   "metadata": {},
   "source": [
    "### 训练层"
   ]
  },
  {
   "cell_type": "code",
   "execution_count": 5,
   "metadata": {},
   "outputs": [
    {
     "data": {
      "text/plain": [
       "SVC(C=1.0, cache_size=200, class_weight=None, coef0=0.0,\n",
       "  decision_function_shape=None, degree=3, gamma='auto', kernel='rbf',\n",
       "  max_iter=-1, probability=False, random_state=None, shrinking=True,\n",
       "  tol=0.001, verbose=False)"
      ]
     },
     "execution_count": 5,
     "metadata": {},
     "output_type": "execute_result"
    }
   ],
   "source": [
    "# 导入SVM(支持向量机)\n",
    "from sklearn import svm\n",
    "# 构建模型\n",
    "model = svm.SVC()\n",
    "# 训练数据\n",
    "model.fit(x_train, y_train)"
   ]
  },
  {
   "cell_type": "code",
   "execution_count": 6,
   "metadata": {},
   "outputs": [],
   "source": [
    "# 用于保存训练模型的模块\n",
    "# http://blog.csdn.net/coffee_cream/article/details/51754484\n",
    "import pickle\n",
    "# wb -> 以二进制格式打开一个文件只用于写入。如果该文件已存在则将其覆盖。如果该文件不存在，创建新文件\n",
    "pickle.dump(model, open('./model/svm.model', 'wb'))\n",
    "#  上面这句话保存模型或，下次就可以使用训练好的svm模型了\n",
    "# model = pickle.load(open('./model/svm.model', 'rb))"
   ]
  },
  {
   "cell_type": "markdown",
   "metadata": {},
   "source": [
    "### 输出层"
   ]
  },
  {
   "cell_type": "code",
   "execution_count": 7,
   "metadata": {
    "collapsed": true
   },
   "outputs": [],
   "source": [
    "# 导入输出相关的库，生成混淆矩阵\n",
    "from sklearn import metrics\n",
    "# 将训练标签和预测训练标签做混淆矩阵\n",
    "cm_train = metrics.confusion_matrix(y_train, model.predict(x_train))\n",
    "# 将测试标签和预测测试标签做混淆矩阵\n",
    "cm_test = metrics.confusion_matrix(y_test, model.predict(x_test))"
   ]
  },
  {
   "cell_type": "code",
   "execution_count": 8,
   "metadata": {},
   "outputs": [
    {
     "name": "stdout",
     "output_type": "stream",
     "text": [
      "[[38  0  1  0  0]\n",
      " [ 0 36  1  0  0]\n",
      " [ 0  0 62  0  0]\n",
      " [ 0  0  4 15  0]\n",
      " [ 0  1  0  1  3]]\n",
      "[[11  1  0  0  0]\n",
      " [ 0  7  0  0  0]\n",
      " [ 1  0 15  0  0]\n",
      " [ 0  0  0  5  0]\n",
      " [ 0  1  0  0  0]]\n"
     ]
    }
   ],
   "source": [
    "print(cm_train)\n",
    "print(cm_test)\n",
    "# 保存结果\n",
    "pd.DataFrame(cm_train, index = range(1, 6), columns = range(1, 6)).to_csv(outputfile_1)\n",
    "pd.DataFrame(cm_test, index = range(1, 6), columns = range(1, 6)).to_csv(outputfile_2)"
   ]
  },
  {
   "cell_type": "code",
   "execution_count": null,
   "metadata": {
    "collapsed": true
   },
   "outputs": [],
   "source": []
  }
 ],
 "metadata": {
  "kernelspec": {
   "display_name": "Python 3",
   "language": "python",
   "name": "python3"
  },
  "language_info": {
   "codemirror_mode": {
    "name": "ipython",
    "version": 3
   },
   "file_extension": ".py",
   "mimetype": "text/x-python",
   "name": "python",
   "nbconvert_exporter": "python",
   "pygments_lexer": "ipython3",
   "version": "3.6.1"
  }
 },
 "nbformat": 4,
 "nbformat_minor": 2
}

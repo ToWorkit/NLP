{
 "cells": [
  {
   "cell_type": "markdown",
   "metadata": {},
   "source": [
    "### 模型输入\n",
    "> p_199"
   ]
  },
  {
   "cell_type": "code",
   "execution_count": 1,
   "metadata": {
    "collapsed": true
   },
   "outputs": [],
   "source": [
    "import pandas as pd"
   ]
  },
  {
   "cell_type": "code",
   "execution_count": 2,
   "metadata": {
    "collapsed": true
   },
   "outputs": [],
   "source": [
    "# 数据文件\n",
    "inputfile = 'E:\\\\NLP\\\\Python_Data_Analysis_And_Mining_Actual_Combat\\\\chapter9\\\\demo\\data\\\\moment.csv'\n",
    "# 读取数据，指定编码\n",
    "data = pd.read_csv(inputfile, encoding = 'gbk')\n",
    "# 转为矩阵方便处理\n",
    "data = data.as_matrix()"
   ]
  },
  {
   "cell_type": "code",
   "execution_count": 7,
   "metadata": {},
   "outputs": [
    {
     "name": "stdout",
     "output_type": "stream",
     "text": [
      "<class 'numpy.ndarray'>\n"
     ]
    }
   ],
   "source": [
    "# 引入随机函数\n",
    "from random import shuffle\n",
    "# 随机打乱数据\n",
    "shuffle(data)\n",
    "# 选取前80%为训练数据\n",
    "data_train = data[:int(0.8 * len(data)), :]\n",
    "# 选取后20%为测试数据\n",
    "data_test = data[int(0.8 * len(data)):, :]\n",
    "print(type(data_train))"
   ]
  },
  {
   "cell_type": "markdown",
   "metadata": {},
   "source": [
    "### SVM(支持向量机)\n",
    "> p_200"
   ]
  },
  {
   "cell_type": "code",
   "execution_count": 6,
   "metadata": {},
   "outputs": [
    {
     "name": "stdout",
     "output_type": "stream",
     "text": [
      "[[ 0.58282291  0.54377368  0.25282873 ..., -0.01264314 -0.01609036\n",
      "  -0.04153624]\n",
      " [ 0.58282291  0.54377368  0.25282873 ..., -0.01264314 -0.01609036\n",
      "  -0.04153624]\n",
      " [ 0.58282291  0.54377368  0.25282873 ..., -0.01264314 -0.01609036\n",
      "  -0.04153624]\n",
      " ..., \n",
      " [ 0.58209287  0.57147339  0.28030316 ..., -0.00402317 -0.00237222\n",
      "   0.0056939 ]\n",
      " [ 0.58970574  0.59374302  0.25224248 ...,  0.0033034  -0.00341666\n",
      "  -0.00527342]\n",
      " [ 0.55984092  0.56969501  0.33063425 ...,  0.00842443  0.00639565\n",
      "  -0.00459988]]\n"
     ]
    }
   ],
   "source": [
    "# 构造特征和标签\n",
    "# 训练集\n",
    "# 从 下标为 2 的位置开始截取，一直取到结尾(含头), 尾部只能取 负值\n",
    "x_train = data_train[:, 2:] * 30\n",
    "# 索引为 0 的列数据\n",
    "y_train = data_train[:, 0].astype(int)\n",
    "# 测试集\n",
    "x_test = data_test[:, 2:] * 30\n",
    "y_test = data_test[:, 0].astype(int)"
   ]
  },
  {
   "cell_type": "code",
   "execution_count": 10,
   "metadata": {},
   "outputs": [
    {
     "data": {
      "text/plain": [
       "650.960000000001"
      ]
     },
     "execution_count": 10,
     "metadata": {},
     "output_type": "execute_result"
    }
   ],
   "source": [
    "777.58 * 12 - 8680"
   ]
  },
  {
   "cell_type": "code",
   "execution_count": null,
   "metadata": {
    "collapsed": true
   },
   "outputs": [],
   "source": []
  }
 ],
 "metadata": {
  "kernelspec": {
   "display_name": "Python 3",
   "language": "python",
   "name": "python3"
  },
  "language_info": {
   "codemirror_mode": {
    "name": "ipython",
    "version": 3
   },
   "file_extension": ".py",
   "mimetype": "text/x-python",
   "name": "python",
   "nbconvert_exporter": "python",
   "pygments_lexer": "ipython3",
   "version": "3.6.1"
  }
 },
 "nbformat": 4,
 "nbformat_minor": 2
}

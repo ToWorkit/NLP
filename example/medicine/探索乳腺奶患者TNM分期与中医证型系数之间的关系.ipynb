{
 "cells": [
  {
   "cell_type": "markdown",
   "metadata": {},
   "source": [
    "### Apriori关联规则\n",
    "> p_191"
   ]
  },
  {
   "cell_type": "code",
   "execution_count": 1,
   "metadata": {},
   "outputs": [],
   "source": [
    "import pandas as pd\n",
    "# 导入自行编写的Apriori函数\n",
    "from apriori import *\n",
    "# 导入时间库用来计算用时\n",
    "import time"
   ]
  },
  {
   "cell_type": "code",
   "execution_count": 8,
   "metadata": {},
   "outputs": [
    {
     "name": "stdout",
     "output_type": "stream",
     "text": [
      "0      A2\n",
      "1      A2\n",
      "2      A2\n",
      "3      A2\n",
      "4      A2\n",
      "5      A1\n",
      "6      A1\n",
      "7      A1\n",
      "8      A1\n",
      "9      A1\n",
      "10     A1\n",
      "11     A3\n",
      "12     A2\n",
      "13     A2\n",
      "14     A2\n",
      "15     A1\n",
      "16     A2\n",
      "17     A1\n",
      "18     A1\n",
      "19     A1\n",
      "20     A3\n",
      "21     A3\n",
      "22     A3\n",
      "23     A1\n",
      "24     A2\n",
      "25     A3\n",
      "26     A3\n",
      "27     A1\n",
      "28     A3\n",
      "29     A1\n",
      "       ..\n",
      "900    A2\n",
      "901    A3\n",
      "902    A3\n",
      "903    A2\n",
      "904    A3\n",
      "905    A3\n",
      "906    A3\n",
      "907    A3\n",
      "908    A3\n",
      "909    A1\n",
      "910    A3\n",
      "911    A1\n",
      "912    A1\n",
      "913    A1\n",
      "914    A1\n",
      "915    A2\n",
      "916    A3\n",
      "917    A2\n",
      "918    A2\n",
      "919    A3\n",
      "920    A2\n",
      "921    A2\n",
      "922    A3\n",
      "923    A3\n",
      "924    A2\n",
      "925    A4\n",
      "926    A4\n",
      "927    A4\n",
      "928    A4\n",
      "929    A4\n",
      "Name: 0, Length: 930, dtype: object\n"
     ]
    }
   ],
   "source": [
    "# 输入事务集文件\n",
    "inputfile = 'E:\\\\NLP\\\\Python_Data_Analysis_And_Mining_Actual_Combat\\\\chapter8\\\\demo\\\\data\\\\apriori.txt'\n",
    "# 读取数据, dtype -> 每列的数据类型\n",
    "data = pd.read_csv(inputfile, header = None, dtype = object)\n",
    "print(data[0])"
   ]
  },
  {
   "cell_type": "code",
   "execution_count": null,
   "metadata": {
    "collapsed": true
   },
   "outputs": [],
   "source": [
    " "
   ]
  }
 ],
 "metadata": {
  "kernelspec": {
   "display_name": "Python 3",
   "language": "python",
   "name": "python3"
  },
  "language_info": {
   "codemirror_mode": {
    "name": "ipython",
    "version": 3
   },
   "file_extension": ".py",
   "mimetype": "text/x-python",
   "name": "python",
   "nbconvert_exporter": "python",
   "pygments_lexer": "ipython3",
   "version": "3.6.1"
  }
 },
 "nbformat": 4,
 "nbformat_minor": 2
}

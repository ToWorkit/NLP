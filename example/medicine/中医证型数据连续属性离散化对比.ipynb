{
 "cells": [
  {
   "cell_type": "code",
   "execution_count": 1,
   "metadata": {
    "collapsed": true
   },
   "outputs": [],
   "source": [
    "import pandas as pd\n",
    "import numpy as np"
   ]
  },
  {
   "cell_type": "code",
   "execution_count": 11,
   "metadata": {},
   "outputs": [
    {
     "name": "stdout",
     "output_type": "stream",
     "text": [
      "0      0.056\n",
      "1      0.488\n",
      "2      0.107\n",
      "3      0.322\n",
      "4      0.242\n",
      "5      0.389\n",
      "6      0.246\n",
      "7      0.330\n",
      "8      0.257\n",
      "9      0.205\n",
      "10     0.330\n",
      "11     0.235\n",
      "12     0.267\n",
      "13     0.281\n",
      "14     0.184\n",
      "15     0.271\n",
      "16     0.100\n",
      "17     0.173\n",
      "18     0.302\n",
      "19     0.176\n",
      "20     0.172\n",
      "21     0.195\n",
      "22     0.281\n",
      "23     0.245\n",
      "24     0.156\n",
      "25     0.168\n",
      "26     0.211\n",
      "27     0.255\n",
      "28     0.279\n",
      "29     0.341\n",
      "       ...  \n",
      "900    0.277\n",
      "901    0.135\n",
      "902    0.214\n",
      "903    0.173\n",
      "904    0.205\n",
      "905    0.384\n",
      "906    0.134\n",
      "907    0.184\n",
      "908    0.294\n",
      "909    0.341\n",
      "910    0.317\n",
      "911    0.098\n",
      "912    0.195\n",
      "913    0.102\n",
      "914    0.172\n",
      "915    0.415\n",
      "916    0.122\n",
      "917    0.106\n",
      "918    0.107\n",
      "919    0.165\n",
      "920    0.302\n",
      "921    0.127\n",
      "922    0.152\n",
      "923    0.131\n",
      "924    0.311\n",
      "925    0.284\n",
      "926    0.103\n",
      "927    0.287\n",
      "928    0.296\n",
      "929    0.169\n",
      "Name: 肝气郁结证型系数, Length: 930, dtype: float64\n"
     ]
    }
   ],
   "source": [
    "# 数据地址\n",
    "datafile = 'E:\\\\NLP\\\\Python_Data_Analysis_And_Mining_Actual_Combat\\\\chapter4\\\\demo\\\\data\\\\discretization_data.xls'\n",
    "# 读取数据\n",
    "data = pd.read_excel(datafile)\n",
    "# copy 以‘肝气郁结证型系数’为索引列的数据 防止原始数据被污染\n",
    "data = data[u'肝气郁结证型系数'].copy()\n",
    "print(data)"
   ]
  },
  {
   "cell_type": "code",
   "execution_count": 3,
   "metadata": {
    "collapsed": true
   },
   "outputs": [],
   "source": [
    "k = 4 "
   ]
  },
  {
   "cell_type": "code",
   "execution_count": 4,
   "metadata": {},
   "outputs": [
    {
     "name": "stdout",
     "output_type": "stream",
     "text": [
      "0      0\n",
      "1      3\n",
      "2      0\n",
      "3      2\n",
      "4      1\n",
      "5      3\n",
      "6      1\n",
      "7      2\n",
      "8      1\n",
      "9      1\n",
      "10     2\n",
      "11     1\n",
      "12     2\n",
      "13     2\n",
      "14     1\n",
      "15     2\n",
      "16     0\n",
      "17     1\n",
      "18     2\n",
      "19     1\n",
      "20     1\n",
      "21     1\n",
      "22     2\n",
      "23     1\n",
      "24     1\n",
      "25     1\n",
      "26     1\n",
      "27     1\n",
      "28     2\n",
      "29     2\n",
      "      ..\n",
      "900    2\n",
      "901    0\n",
      "902    1\n",
      "903    1\n",
      "904    1\n",
      "905    2\n",
      "906    0\n",
      "907    1\n",
      "908    2\n",
      "909    2\n",
      "910    2\n",
      "911    0\n",
      "912    1\n",
      "913    0\n",
      "914    1\n",
      "915    3\n",
      "916    0\n",
      "917    0\n",
      "918    0\n",
      "919    1\n",
      "920    2\n",
      "921    0\n",
      "922    1\n",
      "923    0\n",
      "924    2\n",
      "925    2\n",
      "926    0\n",
      "927    2\n",
      "928    2\n",
      "929    1\n",
      "Name: 肝气郁结证型系数, Length: 930, dtype: category\n",
      "Categories (4, int64): [0 < 1 < 2 < 3]\n"
     ]
    }
   ],
   "source": [
    "# 等宽离散化，各个类比依次命名为0， 1， 2， 3\n",
    "'''\n",
    "cut()函数可以将一个数组中的数据切分成几个部分。\n",
    "\n",
    "将数据分为几个部分，就称为几个面元。\n",
    "\n",
    "cut(数据数组,面元数组)\n",
    "https://www.cnblogs.com/fightfordream/p/7072966.html\n",
    "'''\n",
    "d1 = pd.cut(data, k, labels = range(k))\n",
    "print(d1)"
   ]
  },
  {
   "cell_type": "code",
   "execution_count": 13,
   "metadata": {},
   "outputs": [
    {
     "name": "stdout",
     "output_type": "stream",
     "text": [
      "[0.0, 0.25, 0.5, 0.75, 1.0]\n",
      "-11.718281828459045\n"
     ]
    }
   ],
   "source": [
    "# 等频离散化\n",
    "w = [1.0 * i / k for i in range(k + 1)]\n",
    "print(w)\n",
    "# 使用 describe 函数自动计算分位数\n",
    "# percentiles -> 指定分位数分位标准\n",
    "# 切片取值\n",
    "w = data.describe(percentiles = w)[4:4 + k + 1]\n",
    "w[0] = w[0] * (1 - np.e - 10)\n",
    "print(1 - np.e - 10)\n",
    "d2 = pd.cut(data, w, labels = range(k))"
   ]
  },
  {
   "cell_type": "code",
   "execution_count": 6,
   "metadata": {},
   "outputs": [
    {
     "name": "stdout",
     "output_type": "stream",
     "text": [
      "          0\n",
      "3  0.136954\n",
      "0  0.220441\n",
      "2  0.295007\n",
      "1  0.408679\n"
     ]
    }
   ],
   "source": [
    "# K-means 聚类\n",
    "from sklearn.cluster import KMeans\n",
    "# 建立模型，n_jobs -> 并行数(一般情况下等于cpu数)\n",
    "kmodel = KMeans(n_clusters = k, n_jobs = 4)\n",
    "# 训练模型\n",
    "# reshape -> 给予数组一个新的形状，而不改变它的数据，参数为元组\n",
    "# ML_BASE/blob/master/ml_base/_numpy/_numpy.ipynb\n",
    "kmodel.fit(data.values.reshape((len(data), 1)))\n",
    "# 输出聚类中心，并且排序(默认是随机序的)\n",
    "# DataFrame 中的排序 -> sort_values\n",
    "c = pd.DataFrame(kmodel.cluster_centers_).sort_values(0)\n",
    "print(c)\n",
    "# 相邻两项求中点，作边界点\n",
    "w = c.rolling(window=2,center=False).mean().iloc[1:]\n",
    "# 把 首尾 的边界点加上\n",
    "w = [0] + list(w[0]) + [data.max()]\n",
    "d3 = pd.cut(data, w, labels = range(k))"
   ]
  },
  {
   "cell_type": "code",
   "execution_count": 7,
   "metadata": {
    "collapsed": true
   },
   "outputs": [],
   "source": [
    "# 自定义作图函数来显示聚类结果\n",
    "def cluster_plot(d, k):\n",
    "    import matplotlib.pyplot as plt\n",
    "    # 正常显示中文标签, 设置 FangSong/黑体\n",
    "    plt.rcParams['font.sans-serif'] = [u'SimHei']\n",
    "    # 解决 负号 的显示问题\n",
    "    plt.rcParams['axes.unicode_minus'] = False\n",
    "    # 创建图像区域，指定比例\n",
    "    plt.figure(figsize = (8, 3))\n",
    "    for j in range(0, k):\n",
    "        plt.plot(data[d ==j], [i for i in d[d == j]], 'o')\n",
    "    plt.ylim(-0.5, k-0.5)\n",
    "    return plt"
   ]
  },
  {
   "cell_type": "code",
   "execution_count": 8,
   "metadata": {},
   "outputs": [
    {
     "data": {
      "image/png": "[encoded data removed]",
      "text/plain": [
       "<matplotlib.figure.Figure at 0x1822edb54e0>"
      ]
     },
     "metadata": {},
     "output_type": "display_data"
    }
   ],
   "source": [
    "# 等宽离散化\n",
    "cluster_plot(d1, k).show()"
   ]
  },
  {
   "cell_type": "code",
   "execution_count": 9,
   "metadata": {},
   "outputs": [
    {
     "data": {
      "image/png": "[encoded data removed]",
      "text/plain": [
       "<matplotlib.figure.Figure at 0x18232549dd8>"
      ]
     },
     "metadata": {},
     "output_type": "display_data"
    }
   ],
   "source": [
    "# 等频离散化\n",
    "cluster_plot(d2, k).show()"
   ]
  },
  {
   "cell_type": "code",
   "execution_count": 10,
   "metadata": {},
   "outputs": [
    {
     "data": {
      "image/png": "[encoded data removed]",
      "text/plain": [
       "<matplotlib.figure.Figure at 0x18232622f98>"
      ]
     },
     "metadata": {},
     "output_type": "display_data"
    }
   ],
   "source": [
    "# (一维)聚类离散化\n",
    "cluster_plot(d3, k).show()"
   ]
  },
  {
   "cell_type": "code",
   "execution_count": null,
   "metadata": {
    "collapsed": true
   },
   "outputs": [],
   "source": []
  }
 ],
 "metadata": {
  "kernelspec": {
   "display_name": "Python 3",
   "language": "python",
   "name": "python3"
  },
  "language_info": {
   "codemirror_mode": {
    "name": "ipython",
    "version": 3
   },
   "file_extension": ".py",
   "mimetype": "text/x-python",
   "name": "python",
   "nbconvert_exporter": "python",
   "pygments_lexer": "ipython3",
   "version": "3.6.1"
  }
 },
 "nbformat": 4,
 "nbformat_minor": 2
}

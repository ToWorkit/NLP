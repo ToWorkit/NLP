{
 "cells": [
  {
   "cell_type": "code",
   "execution_count": 1,
   "metadata": {
    "collapsed": true
   },
   "outputs": [],
   "source": [
    "import pandas as pd\n",
    "import numpy as np"
   ]
  },
  {
   "cell_type": "code",
   "execution_count": 2,
   "metadata": {},
   "outputs": [],
   "source": [
    "# 数据地址\n",
    "datafile = 'E:\\\\NLP\\\\Python数据分析与挖掘实战\\\\chapter4\\\\demo\\\\data\\\\discretization_data.xls'\n",
    "# 读取数据\n",
    "data = pd.read_excel(datafile)\n",
    "# copy 以‘肝气郁结证型系数’为索引列的数据 防止原始数据被污染\n",
    "data = data[u'肝气郁结证型系数'].copy()"
   ]
  },
  {
   "cell_type": "code",
   "execution_count": 3,
   "metadata": {
    "collapsed": true
   },
   "outputs": [],
   "source": [
    "k = 4 "
   ]
  },
  {
   "cell_type": "code",
   "execution_count": 4,
   "metadata": {},
   "outputs": [],
   "source": [
    "# 等宽离散化，各个类比依次命名为0， 1， 2， 3\n",
    "'''\n",
    "cut()函数可以将一个数组中的数据切分成几个部分。\n",
    "\n",
    "将数据分为几个部分，就称为几个面元。\n",
    "\n",
    "cut(数据数组,面元数组)\n",
    "https://www.cnblogs.com/fightfordream/p/7072966.html\n",
    "'''\n",
    "d1 = pd.cut(data, k, labels = range(k))"
   ]
  },
  {
   "cell_type": "code",
   "execution_count": 5,
   "metadata": {},
   "outputs": [],
   "source": [
    "# 等频离散化\n",
    "w = [1.0 * i / k for i in range(k + 1)]\n",
    "# 使用 describe 函数自动计算分位数\n",
    "# percentiles -> 指定分位数分位标准\n",
    "# 切片取值\n",
    "w = data.describe(percentiles = w)[4:4 + k + 1]\n",
    "w[0] = w[0] * (1 - np.e - 10)\n",
    "# print(1 - np.e - 10)\n",
    "d2 = pd.cut(data, w, labels = range(k))"
   ]
  },
  {
   "cell_type": "code",
   "execution_count": 6,
   "metadata": {},
   "outputs": [
    {
     "name": "stdout",
     "output_type": "stream",
     "text": [
      "          0\n",
      "1  0.137643\n",
      "0  0.221225\n",
      "3  0.295406\n",
      "2  0.408679\n"
     ]
    }
   ],
   "source": [
    "# K-means 聚类\n",
    "from sklearn.cluster import KMeans\n",
    "# 建立模型，n_jobs -> 并行数(一般情况下等于cpu数)\n",
    "kmodel = KMeans(n_clusters = k, n_jobs = 4)\n",
    "# 训练模型\n",
    "# reshape -> 给予数组一个新的形状，而不改变它的数据，参数为元组\n",
    "# ML_BASE/blob/master/ml_base/_numpy/_numpy.ipynb\n",
    "kmodel.fit(data.values.reshape((len(data), 1)))\n",
    "# 输出聚类中心，并且排序(默认是随机序的)\n",
    "# DataFrame 中的排序 -> sort_values\n",
    "c = pd.DataFrame(kmodel.cluster_centers_).sort_values(0)\n",
    "print(c)\n",
    "# 相邻两项求中点，作边界点\n",
    "w = c.rolling(window=2,center=False).mean().iloc[1:]\n",
    "# 把 首尾 的边界点加上\n",
    "w = [0] + list(w[0]) + [data.max()]\n",
    "d3 = pd.cut(data, w, labels = range(k))"
   ]
  },
  {
   "cell_type": "code",
   "execution_count": 7,
   "metadata": {
    "collapsed": true
   },
   "outputs": [],
   "source": [
    "# 自定义作图函数来显示聚类结果\n",
    "def cluster_plot(d, k):\n",
    "    import matplotlib.pyplot as plt\n",
    "    # 正常显示中文标签, 设置 FangSong/黑体\n",
    "    plt.rcParams['font.sans-serif'] = [u'SimHei']\n",
    "    # 解决 负号 的显示问题\n",
    "    plt.rcParams['axes.unicode_minus'] = False\n",
    "    # 创建图像区域，指定比例\n",
    "    plt.figure(figsize = (8, 3))\n",
    "    for j in range(0, k):\n",
    "        plt.plot(data[d ==j], [i for i in d[d == j]], 'o')\n",
    "    plt.ylim(-0.5, k-0.5)\n",
    "    return plt"
   ]
  },
  {
   "cell_type": "code",
   "execution_count": 8,
   "metadata": {},
   "outputs": [
    {
     "data": {
      "image/png": "[encoded data removed]",
      "text/plain": [
       "<matplotlib.figure.Figure at 0x26199834cc0>"
      ]
     },
     "metadata": {},
     "output_type": "display_data"
    }
   ],
   "source": [
    "# 等宽离散化\n",
    "cluster_plot(d1, k).show()"
   ]
  },
  {
   "cell_type": "code",
   "execution_count": 9,
   "metadata": {},
   "outputs": [
    {
     "data": {
      "image/png": "[encoded data removed]",
      "text/plain": [
       "<matplotlib.figure.Figure at 0x2619cfdbac8>"
      ]
     },
     "metadata": {},
     "output_type": "display_data"
    }
   ],
   "source": [
    "# 等频离散化\n",
    "cluster_plot(d2, k).show()"
   ]
  },
  {
   "cell_type": "code",
   "execution_count": 10,
   "metadata": {},
   "outputs": [
    {
     "data": {
      "image/png": "[encoded data removed]",
      "text/plain": [
       "<matplotlib.figure.Figure at 0x2619d09dd68>"
      ]
     },
     "metadata": {},
     "output_type": "display_data"
    }
   ],
   "source": [
    "# (一维)聚类离散化\n",
    "cluster_plot(d3, k).show()"
   ]
  },
  {
   "cell_type": "code",
   "execution_count": null,
   "metadata": {
    "collapsed": true
   },
   "outputs": [],
   "source": []
  }
 ],
 "metadata": {
  "kernelspec": {
   "display_name": "Python 3",
   "language": "python",
   "name": "python3"
  },
  "language_info": {
   "codemirror_mode": {
    "name": "ipython",
    "version": 3
   },
   "file_extension": ".py",
   "mimetype": "text/x-python",
   "name": "python",
   "nbconvert_exporter": "python",
   "pygments_lexer": "ipython3",
   "version": "3.6.1"
  }
 },
 "nbformat": 4,
 "nbformat_minor": 2
}

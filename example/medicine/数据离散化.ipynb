{
 "cells": [
  {
   "cell_type": "markdown",
   "metadata": {},
   "source": [
    "### 由于Apriori关联规则算法无法处理连续型数值变量，所以使用聚类算法对各个证型系数进行离散化处理\n",
    "> p_188"
   ]
  },
  {
   "cell_type": "code",
   "execution_count": 1,
   "metadata": {},
   "outputs": [],
   "source": [
    "import pandas as pd\n",
    "# 导入KMeans聚类\n",
    "from sklearn.cluster import KMeans"
   ]
  },
  {
   "cell_type": "code",
   "execution_count": 2,
   "metadata": {
    "collapsed": true
   },
   "outputs": [],
   "source": [
    "# 带聚类文件\n",
    "datafile = 'E:\\\\NLP\\\\Python_Data_Analysis_And_Mining_Actual_Combat\\\\chapter8\\\\demo\\\\data\\\\data.xls'\n",
    "# 离散化处理之后的保存文件\n",
    "processedfile = 'E:\\\\NLP\\\\Python_Data_Analysis_And_Mining_Actual_Combat\\\\chapter8\\\\demo\\\\tmp\\\\data_processed.xls'"
   ]
  },
  {
   "cell_type": "code",
   "execution_count": 3,
   "metadata": {
    "collapsed": true
   },
   "outputs": [],
   "source": [
    "# 各证型系数标签\n",
    "typelabel = {\n",
    "    '肝气郁结证型系数': 'A',\n",
    "    '热毒蕴结证型系数': 'B',\n",
    "    '冲任失调证型系数': 'C',\n",
    "    '气血两虚证型系数': 'D',\n",
    "    '脾胃虚弱证型系数': 'E',\n",
    "    '肝肾阴虚证型系数': 'F'\n",
    "}\n",
    "# 需要聚类的类别\n",
    "k = 4"
   ]
  },
  {
   "cell_type": "code",
   "execution_count": 6,
   "metadata": {},
   "outputs": [
    {
     "name": "stdout",
     "output_type": "stream",
     "text": [
      "['肝气郁结证型系数', '热毒蕴结证型系数', '冲任失调证型系数', '气血两虚证型系数', '脾胃虚弱证型系数', '肝肾阴虚证型系数']\n",
      "Empty DataFrame\n",
      "Columns: []\n",
      "Index: []\n",
      "Series([], dtype: float64)\n"
     ]
    }
   ],
   "source": [
    "# 读取数据\n",
    "data = pd.read_excel(datafile)\n",
    "# 各证型系数\n",
    "keys = list(typelabel.keys())\n",
    "print(keys)\n",
    "# 结果储存容器\n",
    "result = pd.DataFrame()\n",
    "print(result)\n",
    "test = pd.Series()\n",
    "print(test)"
   ]
  },
  {
   "cell_type": "code",
   "execution_count": null,
   "metadata": {
    "collapsed": true
   },
   "outputs": [],
   "source": [
    "# 依次对每个证型系数进行聚类\n",
    "for i in range(len(keys)):\n",
    "    # 调用K-Means算法进行聚类离散化\n",
    "    print('当前进行 %s 的聚类' %(keys[i]))\n",
    "    # n_jobs = 4 并行数，一般等于cpu数就好\n",
    "    kmodel = KMeans(n_clusters = k, n_jobs = 4)\n",
    "    # 训练 (取对应证型系数的那一列并转为矩阵形式)\n",
    "    kmodel.fit(data[[keys[i]]].as_matrix())\n",
    "    \n",
    "    # 聚类中心\n",
    "    r1 = pd.DataFrame(kmodel.cluster_centers_, columns = [typelabel[keys[i]]])\n",
    "    # 分类统计 看上面的 test 和 result 打印的结果就明白了\n",
    "    r2 = "
   ]
  }
 ],
 "metadata": {
  "kernelspec": {
   "display_name": "Python 3",
   "language": "python",
   "name": "python3"
  },
  "language_info": {
   "codemirror_mode": {
    "name": "ipython",
    "version": 3
   },
   "file_extension": ".py",
   "mimetype": "text/x-python",
   "name": "python",
   "nbconvert_exporter": "python",
   "pygments_lexer": "ipython3",
   "version": "3.6.1"
  }
 },
 "nbformat": 4,
 "nbformat_minor": 2
}

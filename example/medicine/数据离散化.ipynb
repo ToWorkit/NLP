{
 "cells": [
  {
   "cell_type": "markdown",
   "metadata": {},
   "source": [
    "### 由于Apriori关联规则算法无法处理连续型数值变量，所以使用聚类算法对各个证型系数进行离散化处理\n",
    "> p_188"
   ]
  },
  {
   "cell_type": "code",
   "execution_count": 1,
   "metadata": {},
   "outputs": [],
   "source": [
    "import pandas as pd\n",
    "# 导入KMeans聚类\n",
    "from sklearn.cluster import KMeans"
   ]
  },
  {
   "cell_type": "code",
   "execution_count": 2,
   "metadata": {
    "collapsed": true
   },
   "outputs": [],
   "source": [
    "# 带聚类文件\n",
    "datafile = 'E:\\\\NLP\\\\Python_Data_Analysis_And_Mining_Actual_Combat\\\\chapter8\\\\demo\\\\data\\\\data.xls'\n",
    "# 离散化处理之后的保存文件\n",
    "processedfile = 'E:\\\\NLP\\\\Python_Data_Analysis_And_Mining_Actual_Combat\\\\chapter8\\\\demo\\\\tmp\\\\data_processed_test.xls'"
   ]
  },
  {
   "cell_type": "code",
   "execution_count": 3,
   "metadata": {
    "collapsed": true
   },
   "outputs": [],
   "source": [
    "# 各证型系数标签\n",
    "typelabel = {\n",
    "    '肝气郁结证型系数': 'A',\n",
    "    '热毒蕴结证型系数': 'B',\n",
    "    '冲任失调证型系数': 'C',\n",
    "    '气血两虚证型系数': 'D',\n",
    "    '脾胃虚弱证型系数': 'E',\n",
    "    '肝肾阴虚证型系数': 'F'\n",
    "}\n",
    "# 需要聚类的类别\n",
    "k = 4"
   ]
  },
  {
   "cell_type": "code",
   "execution_count": 4,
   "metadata": {},
   "outputs": [
    {
     "name": "stdout",
     "output_type": "stream",
     "text": [
      "['肝气郁结证型系数', '热毒蕴结证型系数', '冲任失调证型系数', '气血两虚证型系数', '脾胃虚弱证型系数', '肝肾阴虚证型系数']\n",
      "Empty DataFrame\n",
      "Columns: []\n",
      "Index: []\n",
      "Series([], dtype: float64)\n"
     ]
    }
   ],
   "source": [
    "# 读取数据\n",
    "data = pd.read_excel(datafile)\n",
    "# 各证型系数\n",
    "keys = list(typelabel.keys())\n",
    "print(keys)\n",
    "# 结果储存容器\n",
    "result = pd.DataFrame()\n",
    "print(result)\n",
    "test = pd.Series()\n",
    "print(test)"
   ]
  },
  {
   "cell_type": "code",
   "execution_count": 7,
   "metadata": {},
   "outputs": [
    {
     "name": "stdout",
     "output_type": "stream",
     "text": [
      "当前进行 肝气郁结证型系数 的聚类\n",
      "1    0.136954\n",
      "2    0.220441\n",
      "3    0.295007\n",
      "4    0.408679\n",
      "Name: A, dtype: float64\n",
      "--------------------\n",
      "1         NaN\n",
      "2    0.178698\n",
      "3    0.257724\n",
      "4    0.351843\n",
      "Name: A, dtype: float64\n",
      "当前进行 热毒蕴结证型系数 的聚类\n"
     ]
    },
    {
     "name": "stderr",
     "output_type": "stream",
     "text": [
      "C:\\Users\\Just Do It\\Anaconda3\\lib\\site-packages\\ipykernel_launcher.py:28: SettingWithCopyWarning: \n",
      "A value is trying to be set on a copy of a slice from a DataFrame\n",
      "\n",
      "See the caveats in the documentation: http://pandas.pydata.org/pandas-docs/stable/indexing.html#indexing-view-versus-copy\n"
     ]
    },
    {
     "name": "stdout",
     "output_type": "stream",
     "text": [
      "1    0.097456\n",
      "2    0.209629\n",
      "3    0.386804\n",
      "4    0.593103\n",
      "Name: B, dtype: float64\n",
      "--------------------\n",
      "1         NaN\n",
      "2    0.153543\n",
      "3    0.298217\n",
      "4    0.489954\n",
      "Name: B, dtype: float64\n",
      "当前进行 冲任失调证型系数 的聚类\n",
      "1    0.158588\n",
      "2    0.245232\n",
      "3    0.332136\n",
      "4    0.514514\n",
      "Name: C, dtype: float64\n",
      "--------------------\n",
      "1         NaN\n",
      "2    0.201910\n",
      "3    0.288684\n",
      "4    0.423325\n",
      "Name: C, dtype: float64\n",
      "当前进行 气血两虚证型系数 的聚类\n",
      "1    0.134880\n",
      "2    0.210129\n",
      "3    0.294429\n",
      "4    0.425023\n",
      "Name: D, dtype: float64\n",
      "--------------------\n",
      "1         NaN\n",
      "2    0.172505\n",
      "3    0.252279\n",
      "4    0.359726\n",
      "Name: D, dtype: float64\n",
      "当前进行 脾胃虚弱证型系数 的聚类\n",
      "1    0.111396\n",
      "2    0.194000\n",
      "3    0.321747\n",
      "4    0.430376\n",
      "Name: E, dtype: float64\n",
      "--------------------\n",
      "1         NaN\n",
      "2    0.152698\n",
      "3    0.257873\n",
      "4    0.376062\n",
      "Name: E, dtype: float64\n",
      "当前进行 肝肾阴虚证型系数 的聚类\n",
      "1    0.142080\n",
      "2    0.216207\n",
      "3    0.306566\n",
      "4    0.402719\n",
      "Name: F, dtype: float64\n",
      "--------------------\n",
      "1         NaN\n",
      "2    0.179143\n",
      "3    0.261386\n",
      "4    0.354643\n",
      "Name: F, dtype: float64\n"
     ]
    }
   ],
   "source": [
    "# 依次对每个证型系数进行聚类\n",
    "for i in range(len(keys)):\n",
    "    # 调用K-Means算法进行聚类离散化\n",
    "    print('当前进行 %s 的聚类' %(keys[i]))\n",
    "    # n_jobs = 4 并行数，一般等于cpu数就好\n",
    "    kmodel = KMeans(n_clusters = k, n_jobs = 4)\n",
    "    # 训练 (取对应证型系数的那一列并转为矩阵形式)\n",
    "    kmodel.fit(data[[keys[i]]].as_matrix())\n",
    "    \n",
    "    # 聚类中心\n",
    "    r1 = pd.DataFrame(kmodel.cluster_centers_, columns = [typelabel[keys[i]]])\n",
    "    # 分类统计 看上面的 test 和 result 打印的结果就明白了\n",
    "    r2 = pd.Series(kmodel.labels_).value_counts()\n",
    "    # 再转为DataFrame形式, 记录各个类别的数目\n",
    "    r2 = pd.DataFrame(r2, columns = [typelabel[keys[i]] + 'n'])\n",
    "    # 匹配聚类中心和类别数目\n",
    "    # 以值排序\n",
    "#     r = pd.concat([r1, r2], axis = 1).sort_values(typelabel[keys[i]])\n",
    "    r = pd.concat([r1, r2], axis = 1).sort_values(typelabel[keys[i]])\n",
    "#     print(r)\n",
    "    r.index = [1, 2, 3, 4]\n",
    "    print(r[typelabel[keys[i]]])\n",
    "    print('-' * 20)\n",
    "    # rolling_mean() 用来计算相邻 2列 的均值，以此作为边界点\n",
    "    r[typelabel[keys[i]]] = pd.Series.rolling(r[typelabel[keys[i]]], 2).mean()\n",
    "    # 将原来的聚类中心改为边界点\n",
    "    print(r[typelabel[keys[i]]])\n",
    "    r[typelabel[keys[i]]][1] = 0.0\n",
    "    result = result.append(r.T)\n",
    "#     print(result)"
   ]
  },
  {
   "cell_type": "code",
   "execution_count": 6,
   "metadata": {},
   "outputs": [],
   "source": [
    "# 以Index排序(A, B, C, D, E, F)\n",
    "# result = result.sort_index()\n",
    "# print(result)\n",
    "# 保存文件\n",
    "# result.to_excel(processedfile)"
   ]
  },
  {
   "cell_type": "code",
   "execution_count": null,
   "metadata": {
    "collapsed": true
   },
   "outputs": [],
   "source": []
  }
 ],
 "metadata": {
  "kernelspec": {
   "display_name": "Python 3",
   "language": "python",
   "name": "python3"
  },
  "language_info": {
   "codemirror_mode": {
    "name": "ipython",
    "version": 3
   },
   "file_extension": ".py",
   "mimetype": "text/x-python",
   "name": "python",
   "nbconvert_exporter": "python",
   "pygments_lexer": "ipython3",
   "version": "3.6.1"
  }
 },
 "nbformat": 4,
 "nbformat_minor": 2
}

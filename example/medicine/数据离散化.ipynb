{
 "cells": [
  {
   "cell_type": "markdown",
   "metadata": {},
   "source": [
    "### 由于Apriori关联规则算法无法处理连续型数值变量，所以使用聚类算法对各个证型系数进行离散化处理\n",
    "> p_188"
   ]
  },
  {
   "cell_type": "code",
   "execution_count": 1,
   "metadata": {},
   "outputs": [],
   "source": [
    "import pandas as pd\n",
    "# 导入KMeans聚类\n",
    "from sklearn.cluster import KMeans"
   ]
  },
  {
   "cell_type": "code",
   "execution_count": 2,
   "metadata": {
    "collapsed": true
   },
   "outputs": [],
   "source": [
    "# 带聚类文件\n",
    "datafile = 'E:\\\\NLP\\\\Python_Data_Analysis_And_Mining_Actual_Combat\\\\chapter8\\\\demo\\\\data\\\\data.xls'\n",
    "# 离散化处理之后的保存文件\n",
    "processedfile = 'E:\\\\NLP\\\\Python_Data_Analysis_And_Mining_Actual_Combat\\\\chapter8\\\\demo\\\\tmp\\\\data_processed.xls'"
   ]
  },
  {
   "cell_type": "code",
   "execution_count": null,
   "metadata": {
    "collapsed": true
   },
   "outputs": [],
   "source": [
    "# 各证型系数标签\n",
    "typelabel = {\n",
    "    '肝气郁结证型系数': 'A',\n",
    "    '热毒蕴结证型系数': 'B',\n",
    "    '冲任失调证型系数': 'C',\n",
    "    '气血两虚证型系数': 'D',\n",
    "    '脾胃虚弱证型系数': 'E',\n",
    "    '肝肾阴虚证型系数': 'F'\n",
    "}\n",
    "# 需要聚类的类别\n",
    "k = 4"
   ]
  }
 ],
 "metadata": {
  "kernelspec": {
   "display_name": "Python 3",
   "language": "python",
   "name": "python3"
  },
  "language_info": {
   "codemirror_mode": {
    "name": "ipython",
    "version": 3
   },
   "file_extension": ".py",
   "mimetype": "text/x-python",
   "name": "python",
   "nbconvert_exporter": "python",
   "pygments_lexer": "ipython3",
   "version": "3.6.1"
  }
 },
 "nbformat": 4,
 "nbformat_minor": 2
}

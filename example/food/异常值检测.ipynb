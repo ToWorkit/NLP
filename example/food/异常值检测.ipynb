{
 "cells": [
  {
   "cell_type": "code",
   "execution_count": 1,
   "metadata": {
    "collapsed": true
   },
   "outputs": [],
   "source": [
    "import pandas as pd\n",
    "# 餐饮数据\n",
    "catering_sale = 'E:\\\\NLP\\\\Python数据分析与挖掘实战\\\\chapter3\\\\demo\\\\data\\\\catering_sale.xls'\n",
    "# 读取数据，指定‘日期’列为索引列\n",
    "data = pd.read_excel(catering_sale, index_col = u'日期')"
   ]
  },
  {
   "cell_type": "code",
   "execution_count": 2,
   "metadata": {
    "collapsed": true
   },
   "outputs": [],
   "source": [
    "# 导入图像库\n",
    "import matplotlib.pyplot as plt\n",
    "# 正常显示中文标签, 设置 FangSong/黑体\n",
    "plt.rcParams['font.sans-serif'] = [u'SimHei']\n",
    "# 解决 负号 的显示问题\n",
    "plt.rcParams['axes.unicode_minus'] = False"
   ]
  },
  {
   "cell_type": "code",
   "execution_count": 5,
   "metadata": {},
   "outputs": [],
   "source": [
    "# 建立图像\n",
    "plt.figure()\n",
    "# 画箱线图, 直接使用 DataFrame 的 内置方法\n",
    "p = data.boxplot(return_type = 'dict')\n",
    "# 'fliers' 即为异常值的标签\n",
    "# print(dir(p['fliers'][0]))\n",
    "x = p['fliers'][0].get_xdata()\n",
    "y = p['fliers'][0].get_ydata()\n",
    "# 从小到大排序，会操作原始数据"
   ]
  },
  {
   "cell_type": "code",
   "execution_count": 4,
   "metadata": {},
   "outputs": [
    {
     "data": {
      "image/png": "[encoded data removed]",
      "text/plain": [
       "<matplotlib.figure.Figure at 0x2467b6e8898>"
      ]
     },
     "metadata": {},
     "output_type": "display_data"
    }
   ],
   "source": [
    "# 用 annotate 添加注释\n",
    "# 其中有些相近的点，注释可能会出现重叠难以分辨，需要调试\n",
    "for i in range(len(x)):\n",
    "    if i > 0:\n",
    "        plt.annotate(y[i], xy = (x[i], y[i]), xytext = (x[i] + 0.05 - 0.8 / (y[i] - y[i - 1]), y[i]))\n",
    "    else:\n",
    "        plt.annotate(y[i], xy = (x[i], y[i]), xytext = (x[i] + 0.08, y[i]))\n",
    "# 显示箱型图\n",
    "plt.show()"
   ]
  },
  {
   "cell_type": "code",
   "execution_count": null,
   "metadata": {
    "collapsed": true
   },
   "outputs": [],
   "source": []
  }
 ],
 "metadata": {
  "kernelspec": {
   "display_name": "Python 3",
   "language": "python",
   "name": "python3"
  },
  "language_info": {
   "codemirror_mode": {
    "name": "ipython",
    "version": 3
   },
   "file_extension": ".py",
   "mimetype": "text/x-python",
   "name": "python",
   "nbconvert_exporter": "python",
   "pygments_lexer": "ipython3",
   "version": "3.6.1"
  }
 },
 "nbformat": 4,
 "nbformat_minor": 2
}

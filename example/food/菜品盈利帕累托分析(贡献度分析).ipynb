{
 "cells": [
  {
   "cell_type": "code",
   "execution_count": 1,
   "metadata": {
    "collapsed": true
   },
   "outputs": [],
   "source": [
    "import pandas as pd"
   ]
  },
  {
   "cell_type": "code",
   "execution_count": 2,
   "metadata": {},
   "outputs": [
    {
     "data": {
      "text/plain": [
       "菜品名\n",
       "A1     9173\n",
       "A2     5729\n",
       "A3     4811\n",
       "A4     3594\n",
       "A5     3195\n",
       "A6     3026\n",
       "A7     2378\n",
       "A8     1970\n",
       "A9     1877\n",
       "A10    1782\n",
       "Name: 盈利, dtype: int64"
      ]
     },
     "execution_count": 2,
     "metadata": {},
     "output_type": "execute_result"
    }
   ],
   "source": [
    "# 初始化参数\n",
    "# 餐饮菜品盈利数据\n",
    "dish_profit = 'E:\\\\NLP\\\\Python数据分析与挖掘实战\\\\chapter3\\\\demo\\\\data\\\\catering_dish_profit.xls'\n",
    "# 以‘菜品名’为索引列读取数据\n",
    "data = pd.read_excel(dish_profit, index_col = u'菜品名')\n",
    "# 将盈利数据copy一份，防止原始数据被污染\n",
    "data = data[u'盈利'].copy()\n",
    "# 从大到小排序\n",
    "'''\n",
    "sort -> 报错'Series' object has no attribute 'sort'\n",
    "sort_values 解决\n",
    "'''\n",
    "data.sort_values(ascending = False)"
   ]
  },
  {
   "cell_type": "code",
   "execution_count": 3,
   "metadata": {
    "collapsed": true
   },
   "outputs": [],
   "source": [
    "# 导入图像库\n",
    "import matplotlib.pyplot as plt\n",
    "# 正常显示中文标签, 设置 FangSong/黑体\n",
    "plt.rcParams['font.sans-serif'] = [u'SimHei']\n",
    "# 解决 负号 的显示问题\n",
    "plt.rcParams['axes.unicode_minus'] = False"
   ]
  },
  {
   "cell_type": "code",
   "execution_count": 5,
   "metadata": {},
   "outputs": [
    {
     "name": "stdout",
     "output_type": "stream",
     "text": [
      "菜品名\n",
      "A1      9173\n",
      "A2     14902\n",
      "A3     19713\n",
      "A4     23307\n",
      "A5     26502\n",
      "A6     29528\n",
      "A7     31906\n",
      "A8     33876\n",
      "A9     35753\n",
      "A10    37535\n",
      "Name: 盈利, dtype: int64\n",
      "37535\n"
     ]
    },
    {
     "data": {
      "image/png": "[encoded data removed]",
      "text/plain": [
       "<matplotlib.figure.Figure at 0x283554f9748>"
      ]
     },
     "metadata": {},
     "output_type": "display_data"
    }
   ],
   "source": [
    "# 设置图像大小\n",
    "plt.figure()\n",
    "# plot默认生成是曲线图，你可以通过kind参数生成其他的图形，可选的值为：line, bar, barh, kde, density, scatter\n",
    "data.plot(kind = 'bar')\n",
    "plt.ylabel(u'盈利(元)')\n",
    "# 单个累加值 / 总值\n",
    "p = 1.0 * data.cumsum() / data.sum()\n",
    "print(data.cumsum())\n",
    "print(data.sum())\n",
    "p.plot(color = 'r', secondary_y = True, style = '-o', linewidth = 2)\n",
    "# 添加说明(85%处的标记，包括了指定箭头样式)\n",
    "# format(p[6], '.4%') -> 小数点向后移两位并保留四位小数\n",
    "plt.annotate(format(p[6], '.4%'), xy = (6, p[6]), xytext = (6 * 0.9, p[6] * 0.9), arrowprops = dict(arrowstyle = '->', connectionstyle = 'arc3, rad = .2'))\n",
    "plt.ylabel(u'盈利(比例)')\n",
    "plt.show()"
   ]
  },
  {
   "cell_type": "code",
   "execution_count": null,
   "metadata": {
    "collapsed": true
   },
   "outputs": [],
   "source": []
  }
 ],
 "metadata": {
  "kernelspec": {
   "display_name": "Python 3",
   "language": "python",
   "name": "python3"
  },
  "language_info": {
   "codemirror_mode": {
    "name": "ipython",
    "version": 3
   },
   "file_extension": ".py",
   "mimetype": "text/x-python",
   "name": "python",
   "nbconvert_exporter": "python",
   "pygments_lexer": "ipython3",
   "version": "3.6.1"
  }
 },
 "nbformat": 4,
 "nbformat_minor": 2
}

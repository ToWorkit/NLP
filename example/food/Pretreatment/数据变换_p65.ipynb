{
 "cells": [
  {
   "cell_type": "markdown",
   "metadata": {},
   "source": [
    "# 简单函数变换"
   ]
  },
  {
   "cell_type": "markdown",
   "metadata": {},
   "source": [
    "> 简单函数变换是对原始数据进行某些数学函数变换，常用的变换包括平方，开方，取对数，差分运算等\n",
    "\n",
    "* x' = x ^ 2 \n",
    "* x ' = x ^ 1/2\n",
    "* x' = log(x)\n",
    "* https://baike.baidu.com/item/%E5%B7%AE%E5%88%86/10349967?fr=aladdin"
   ]
  },
  {
   "cell_type": "markdown",
   "metadata": {},
   "source": [
    "### 简单的函数变换常用来将不具有正态分布的数据变换成具有正态分布的数据"
   ]
  },
  {
   "cell_type": "markdown",
   "metadata": {},
   "source": [
    "> 在时间序列分析中，有时简单的对数变换或者差分运算就可以将非平稳序列转换成平稳序列"
   ]
  },
  {
   "cell_type": "markdown",
   "metadata": {},
   "source": [
    "## 实例"
   ]
  },
  {
   "cell_type": "code",
   "execution_count": null,
   "metadata": {
    "collapsed": true
   },
   "outputs": [],
   "source": [
    "> 个人年收入的取值范围为 10000元 到 10亿元，很大的一个区间，可以使用对数变换对其进行压缩是常用的一种变换处理方法"
   ]
  }
 ],
 "metadata": {
  "kernelspec": {
   "display_name": "Python 3",
   "language": "python",
   "name": "python3"
  },
  "language_info": {
   "codemirror_mode": {
    "name": "ipython",
    "version": 3
   },
   "file_extension": ".py",
   "mimetype": "text/x-python",
   "name": "python",
   "nbconvert_exporter": "python",
   "pygments_lexer": "ipython3",
   "version": "3.6.1"
  }
 },
 "nbformat": 4,
 "nbformat_minor": 2
}

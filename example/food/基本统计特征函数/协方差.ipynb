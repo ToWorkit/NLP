{
 "cells": [
  {
   "cell_type": "code",
   "execution_count": 2,
   "metadata": {
    "collapsed": true
   },
   "outputs": [],
   "source": [
    "# s1.cov(s2), s1, s2 均为Series，这种格式指定计算两个Series之间的协方差\n",
    "import pandas as pd\n",
    "import numpy as np"
   ]
  },
  {
   "cell_type": "code",
   "execution_count": 3,
   "metadata": {},
   "outputs": [
    {
     "name": "stdout",
     "output_type": "stream",
     "text": [
      "          0         1         2         3         4\n",
      "0 -1.237906 -0.516130  1.551148  0.957999 -0.483473\n",
      "1  1.277614  0.196498 -1.102900 -1.302203 -0.621442\n",
      "2  0.416598 -1.059867  3.053000 -1.061370 -1.869086\n",
      "3  0.873370  1.352236  0.762295  0.682361 -1.961201\n",
      "4  0.382893  0.109738  0.020411 -1.016844  0.244170\n",
      "5  0.509980 -1.257808  0.487494 -0.488660 -1.374350\n"
     ]
    },
    {
     "data": {
      "text/html": [
       "<div>\n",
       "<style>\n",
       "    .dataframe thead tr:only-child th {\n",
       "        text-align: right;\n",
       "    }\n",
       "\n",
       "    .dataframe thead th {\n",
       "        text-align: left;\n",
       "    }\n",
       "\n",
       "    .dataframe tbody tr th {\n",
       "        vertical-align: top;\n",
       "    }\n",
       "</style>\n",
       "<table border=\"1\" class=\"dataframe\">\n",
       "  <thead>\n",
       "    <tr style=\"text-align: right;\">\n",
       "      <th></th>\n",
       "      <th>0</th>\n",
       "      <th>1</th>\n",
       "      <th>2</th>\n",
       "      <th>3</th>\n",
       "      <th>4</th>\n",
       "    </tr>\n",
       "  </thead>\n",
       "  <tbody>\n",
       "    <tr>\n",
       "      <th>0</th>\n",
       "      <td>0.736887</td>\n",
       "      <td>0.293073</td>\n",
       "      <td>-0.580531</td>\n",
       "      <td>-0.501763</td>\n",
       "      <td>-0.209522</td>\n",
       "    </tr>\n",
       "    <tr>\n",
       "      <th>1</th>\n",
       "      <td>0.293073</td>\n",
       "      <td>0.924150</td>\n",
       "      <td>-0.579709</td>\n",
       "      <td>0.272753</td>\n",
       "      <td>0.004744</td>\n",
       "    </tr>\n",
       "    <tr>\n",
       "      <th>2</th>\n",
       "      <td>-0.580531</td>\n",
       "      <td>-0.579709</td>\n",
       "      <td>1.993594</td>\n",
       "      <td>0.343078</td>\n",
       "      <td>-0.621489</td>\n",
       "    </tr>\n",
       "    <tr>\n",
       "      <th>3</th>\n",
       "      <td>-0.501763</td>\n",
       "      <td>0.272753</td>\n",
       "      <td>0.343078</td>\n",
       "      <td>0.930103</td>\n",
       "      <td>-0.167615</td>\n",
       "    </tr>\n",
       "    <tr>\n",
       "      <th>4</th>\n",
       "      <td>-0.209522</td>\n",
       "      <td>0.004744</td>\n",
       "      <td>-0.621489</td>\n",
       "      <td>-0.167615</td>\n",
       "      <td>0.755342</td>\n",
       "    </tr>\n",
       "  </tbody>\n",
       "</table>\n",
       "</div>"
      ],
      "text/plain": [
       "          0         1         2         3         4\n",
       "0  0.736887  0.293073 -0.580531 -0.501763 -0.209522\n",
       "1  0.293073  0.924150 -0.579709  0.272753  0.004744\n",
       "2 -0.580531 -0.579709  1.993594  0.343078 -0.621489\n",
       "3 -0.501763  0.272753  0.343078  0.930103 -0.167615\n",
       "4 -0.209522  0.004744 -0.621489 -0.167615  0.755342"
      ]
     },
     "execution_count": 3,
     "metadata": {},
     "output_type": "execute_result"
    }
   ],
   "source": [
    "# 产生6 * 5随机矩阵\n",
    "D = pd.DataFrame(np.random.randn(6, 5))\n",
    "print(D)\n",
    "# 计算协方差矩阵\n",
    "D.cov()"
   ]
  },
  {
   "cell_type": "code",
   "execution_count": 4,
   "metadata": {},
   "outputs": [
    {
     "data": {
      "text/plain": [
       "0.29307305892297747"
      ]
     },
     "execution_count": 4,
     "metadata": {},
     "output_type": "execute_result"
    }
   ],
   "source": [
    "# 计算第一列和第二列的协方差\n",
    "D[0].cov(D[1])"
   ]
  },
  {
   "cell_type": "code",
   "execution_count": null,
   "metadata": {
    "collapsed": true
   },
   "outputs": [],
   "source": []
  }
 ],
 "metadata": {
  "kernelspec": {
   "display_name": "Python 3",
   "language": "python",
   "name": "python3"
  },
  "language_info": {
   "codemirror_mode": {
    "name": "ipython",
    "version": 3
   },
   "file_extension": ".py",
   "mimetype": "text/x-python",
   "name": "python",
   "nbconvert_exporter": "python",
   "pygments_lexer": "ipython3",
   "version": "3.6.1"
  }
 },
 "nbformat": 4,
 "nbformat_minor": 2
}

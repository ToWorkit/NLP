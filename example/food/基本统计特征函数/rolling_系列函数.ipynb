{
 "cells": [
  {
   "cell_type": "markdown",
   "metadata": {},
   "source": [
    "### rolling_系列是pandas的函数，而不是DataFrame或者Series对象的方法"
   ]
  },
  {
   "cell_type": "markdown",
   "metadata": {},
   "source": [
    "#### 例如使用格式为 pd.rolling_mean(D, k) -> 每k列计算一次均值，滚动计算"
   ]
  },
  {
   "cell_type": "code",
   "execution_count": 1,
   "metadata": {
    "collapsed": true
   },
   "outputs": [],
   "source": [
    "import pandas as pd"
   ]
  },
  {
   "cell_type": "code",
   "execution_count": 2,
   "metadata": {},
   "outputs": [
    {
     "name": "stdout",
     "output_type": "stream",
     "text": [
      "0      0\n",
      "1      1\n",
      "2      2\n",
      "3      3\n",
      "4      4\n",
      "5      5\n",
      "6      6\n",
      "7      7\n",
      "8      8\n",
      "9      9\n",
      "10    10\n",
      "11    11\n",
      "12    12\n",
      "13    13\n",
      "14    14\n",
      "15    15\n",
      "16    16\n",
      "17    17\n",
      "18    18\n",
      "19    19\n",
      "dtype: int32\n"
     ]
    }
   ],
   "source": [
    "# 构造Series，0-19共20个整数\n",
    "D = pd.Series(range(0, 20))\n",
    "print(D)"
   ]
  },
  {
   "cell_type": "code",
   "execution_count": 3,
   "metadata": {},
   "outputs": [
    {
     "data": {
      "text/plain": [
       "0       0\n",
       "1       1\n",
       "2       3\n",
       "3       6\n",
       "4      10\n",
       "5      15\n",
       "6      21\n",
       "7      28\n",
       "8      36\n",
       "9      45\n",
       "10     55\n",
       "11     66\n",
       "12     78\n",
       "13     91\n",
       "14    105\n",
       "15    120\n",
       "16    136\n",
       "17    153\n",
       "18    171\n",
       "19    190\n",
       "dtype: int32"
      ]
     },
     "execution_count": 3,
     "metadata": {},
     "output_type": "execute_result"
    }
   ],
   "source": [
    "# 给出前n项和\n",
    "D.cumsum()"
   ]
  },
  {
   "cell_type": "code",
   "execution_count": 4,
   "metadata": {},
   "outputs": [
    {
     "name": "stderr",
     "output_type": "stream",
     "text": [
      "C:\\Users\\Just Do It\\Anaconda3\\lib\\site-packages\\ipykernel_launcher.py:2: FutureWarning: pd.rolling_sum is deprecated for Series and will be removed in a future version, replace with \n",
      "\tSeries.rolling(window=2,center=False).sum()\n",
      "  \n"
     ]
    },
    {
     "data": {
      "text/plain": [
       "0      NaN\n",
       "1      1.0\n",
       "2      3.0\n",
       "3      5.0\n",
       "4      7.0\n",
       "5      9.0\n",
       "6     11.0\n",
       "7     13.0\n",
       "8     15.0\n",
       "9     17.0\n",
       "10    19.0\n",
       "11    21.0\n",
       "12    23.0\n",
       "13    25.0\n",
       "14    27.0\n",
       "15    29.0\n",
       "16    31.0\n",
       "17    33.0\n",
       "18    35.0\n",
       "19    37.0\n",
       "dtype: float64"
      ]
     },
     "execution_count": 4,
     "metadata": {},
     "output_type": "execute_result"
    }
   ],
   "source": [
    "# 依次对相邻两项求和\n",
    "pd.rolling_sum(D, 2)"
   ]
  },
  {
   "cell_type": "code",
   "execution_count": null,
   "metadata": {
    "collapsed": true
   },
   "outputs": [],
   "source": []
  }
 ],
 "metadata": {
  "kernelspec": {
   "display_name": "Python 3",
   "language": "python",
   "name": "python3"
  },
  "language_info": {
   "codemirror_mode": {
    "name": "ipython",
    "version": 3
   },
   "file_extension": ".py",
   "mimetype": "text/x-python",
   "name": "python",
   "nbconvert_exporter": "python",
   "pygments_lexer": "ipython3",
   "version": "3.6.1"
  }
 },
 "nbformat": 4,
 "nbformat_minor": 2
}

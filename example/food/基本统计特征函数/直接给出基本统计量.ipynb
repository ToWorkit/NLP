{
 "cells": [
  {
   "cell_type": "markdown",
   "metadata": {},
   "source": [
    "### 给出6*5随机矩阵的 describe"
   ]
  },
  {
   "cell_type": "code",
   "execution_count": 1,
   "metadata": {
    "collapsed": true
   },
   "outputs": [],
   "source": [
    "import pandas as pd\n",
    "import numpy as np"
   ]
  },
  {
   "cell_type": "code",
   "execution_count": 3,
   "metadata": {},
   "outputs": [
    {
     "data": {
      "text/html": [
       "<div>\n",
       "<style>\n",
       "    .dataframe thead tr:only-child th {\n",
       "        text-align: right;\n",
       "    }\n",
       "\n",
       "    .dataframe thead th {\n",
       "        text-align: left;\n",
       "    }\n",
       "\n",
       "    .dataframe tbody tr th {\n",
       "        vertical-align: top;\n",
       "    }\n",
       "</style>\n",
       "<table border=\"1\" class=\"dataframe\">\n",
       "  <thead>\n",
       "    <tr style=\"text-align: right;\">\n",
       "      <th></th>\n",
       "      <th>0</th>\n",
       "      <th>1</th>\n",
       "      <th>2</th>\n",
       "      <th>3</th>\n",
       "      <th>4</th>\n",
       "    </tr>\n",
       "  </thead>\n",
       "  <tbody>\n",
       "    <tr>\n",
       "      <th>count</th>\n",
       "      <td>6.000000</td>\n",
       "      <td>6.000000</td>\n",
       "      <td>6.000000</td>\n",
       "      <td>6.000000</td>\n",
       "      <td>6.000000</td>\n",
       "    </tr>\n",
       "    <tr>\n",
       "      <th>mean</th>\n",
       "      <td>0.992036</td>\n",
       "      <td>-0.040449</td>\n",
       "      <td>0.158257</td>\n",
       "      <td>0.128781</td>\n",
       "      <td>-0.066558</td>\n",
       "    </tr>\n",
       "    <tr>\n",
       "      <th>std</th>\n",
       "      <td>0.820804</td>\n",
       "      <td>1.228368</td>\n",
       "      <td>1.018370</td>\n",
       "      <td>0.826140</td>\n",
       "      <td>1.282835</td>\n",
       "    </tr>\n",
       "    <tr>\n",
       "      <th>min</th>\n",
       "      <td>-0.339605</td>\n",
       "      <td>-1.858802</td>\n",
       "      <td>-0.716177</td>\n",
       "      <td>-0.992247</td>\n",
       "      <td>-1.533152</td>\n",
       "    </tr>\n",
       "    <tr>\n",
       "      <th>20%</th>\n",
       "      <td>0.656057</td>\n",
       "      <td>-0.694261</td>\n",
       "      <td>-0.571320</td>\n",
       "      <td>-0.348563</td>\n",
       "      <td>-0.512332</td>\n",
       "    </tr>\n",
       "    <tr>\n",
       "      <th>40%</th>\n",
       "      <td>0.811299</td>\n",
       "      <td>-0.519463</td>\n",
       "      <td>-0.348256</td>\n",
       "      <td>-0.183438</td>\n",
       "      <td>-0.510592</td>\n",
       "    </tr>\n",
       "    <tr>\n",
       "      <th>50%</th>\n",
       "      <td>0.983462</td>\n",
       "      <td>-0.031066</td>\n",
       "      <td>-0.192034</td>\n",
       "      <td>0.001037</td>\n",
       "      <td>-0.400491</td>\n",
       "    </tr>\n",
       "    <tr>\n",
       "      <th>60%</th>\n",
       "      <td>1.155625</td>\n",
       "      <td>0.457331</td>\n",
       "      <td>-0.035812</td>\n",
       "      <td>0.185512</td>\n",
       "      <td>-0.290389</td>\n",
       "    </tr>\n",
       "    <tr>\n",
       "      <th>80%</th>\n",
       "      <td>1.790840</td>\n",
       "      <td>0.783921</td>\n",
       "      <td>0.625474</td>\n",
       "      <td>0.822388</td>\n",
       "      <td>0.150564</td>\n",
       "    </tr>\n",
       "    <tr>\n",
       "      <th>max</th>\n",
       "      <td>1.877997</td>\n",
       "      <td>1.588581</td>\n",
       "      <td>1.995635</td>\n",
       "      <td>1.289033</td>\n",
       "      <td>2.296555</td>\n",
       "    </tr>\n",
       "  </tbody>\n",
       "</table>\n",
       "</div>"
      ],
      "text/plain": [
       "              0         1         2         3         4\n",
       "count  6.000000  6.000000  6.000000  6.000000  6.000000\n",
       "mean   0.992036 -0.040449  0.158257  0.128781 -0.066558\n",
       "std    0.820804  1.228368  1.018370  0.826140  1.282835\n",
       "min   -0.339605 -1.858802 -0.716177 -0.992247 -1.533152\n",
       "20%    0.656057 -0.694261 -0.571320 -0.348563 -0.512332\n",
       "40%    0.811299 -0.519463 -0.348256 -0.183438 -0.510592\n",
       "50%    0.983462 -0.031066 -0.192034  0.001037 -0.400491\n",
       "60%    1.155625  0.457331 -0.035812  0.185512 -0.290389\n",
       "80%    1.790840  0.783921  0.625474  0.822388  0.150564\n",
       "max    1.877997  1.588581  1.995635  1.289033  2.296555"
      ]
     },
     "execution_count": 3,
     "metadata": {},
     "output_type": "execute_result"
    }
   ],
   "source": [
    "D = pd.DataFrame(np.random.randn(6, 5))\n",
    "# 总数(非空数值)，平均值，标准差，最小值，分位数(默认1/4, 1/2, 3/4), 最大值\n",
    "# 指定分位数分位标准\n",
    "# percentiles = [0.2, 0.4, 0.6, 0.8]\n",
    "D.describe(percentiles = [0.2, 0.4, 0.6, 0.8])"
   ]
  },
  {
   "cell_type": "code",
   "execution_count": null,
   "metadata": {
    "collapsed": true
   },
   "outputs": [],
   "source": []
  }
 ],
 "metadata": {
  "kernelspec": {
   "display_name": "Python 3",
   "language": "python",
   "name": "python3"
  },
  "language_info": {
   "codemirror_mode": {
    "name": "ipython",
    "version": 3
   },
   "file_extension": ".py",
   "mimetype": "text/x-python",
   "name": "python",
   "nbconvert_exporter": "python",
   "pygments_lexer": "ipython3",
   "version": "3.6.1"
  }
 },
 "nbformat": 4,
 "nbformat_minor": 2
}

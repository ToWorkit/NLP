{
 "cells": [
  {
   "cell_type": "code",
   "execution_count": 1,
   "metadata": {},
   "outputs": [],
   "source": [
    "import pandas as pd\n",
    "# 导入数据、\n",
    "filename = 'E:\\\\NLP\\\\Python数据分析与挖掘实战\\\\chapter5\\\\demo\\\\data\\\\sales_data.xls'\n",
    "data = pd.read_excel(filename, index_col = u'序号')"
   ]
  },
  {
   "cell_type": "code",
   "execution_count": 2,
   "metadata": {
    "collapsed": true
   },
   "outputs": [],
   "source": [
    "# 导入的是文本数据，需要将其转为数值类数据\n",
    "# 1 来表示‘好’‘是’‘高’三个属性，-1 来表示‘坏’‘否’‘低’\n",
    "data[data == u'好'] = 1\n",
    "data[data == u'是'] = 1\n",
    "data[data == u'高'] = 1\n",
    "data[data != 1] = -1"
   ]
  },
  {
   "cell_type": "code",
   "execution_count": 5,
   "metadata": {},
   "outputs": [],
   "source": [
    "# 参考 example/modeling\n",
    "# astype -> 转为 int 类型\n",
    "# 取 前 3 列\n",
    "x = data.iloc[:, :3].as_matrix().astype(int)\n",
    "# 取 第 4 列的数据\n",
    "y = data.iloc[:, 3].as_matrix().astype(int)"
   ]
  },
  {
   "cell_type": "code",
   "execution_count": 6,
   "metadata": {},
   "outputs": [
    {
     "data": {
      "text/plain": [
       "DecisionTreeClassifier(class_weight=None, criterion='entropy', max_depth=None,\n",
       "            max_features=None, max_leaf_nodes=None,\n",
       "            min_impurity_split=1e-07, min_samples_leaf=1,\n",
       "            min_samples_split=2, min_weight_fraction_leaf=0.0,\n",
       "            presort=False, random_state=None, splitter='best')"
      ]
     },
     "execution_count": 6,
     "metadata": {},
     "output_type": "execute_result"
    }
   ],
   "source": [
    "# 使用scikit-learn建立基于信息熵的决策树模型\n",
    "from sklearn.tree import DecisionTreeClassifier as DTC\n",
    "# 建立决策树模型，基于信息熵\n",
    "dtc = DTC(criterion = 'entropy')\n",
    "# 训练模型\n",
    "dtc.fit(x, y)"
   ]
  },
  {
   "cell_type": "code",
   "execution_count": 8,
   "metadata": {},
   "outputs": [],
   "source": [
    "# 导入相关函数，可视化决策树\n",
    "# 导出的结果是一个 dot 文件，可以按照 Graphviz 来将其转为pdf或者png\n",
    "from sklearn.tree import export_graphviz\n",
    "from sklearn.externals.six import StringIO\n",
    "x = pd.DataFrame(x)\n",
    "with open('tree.dot', 'w') as f:\n",
    "    f = export_graphviz(dtc, feature_names = x.columns, out_file = f)"
   ]
  },
  {
   "cell_type": "code",
   "execution_count": null,
   "metadata": {
    "collapsed": true
   },
   "outputs": [],
   "source": [
    "# 参考 p94 进行可视化展示"
   ]
  }
 ],
 "metadata": {
  "kernelspec": {
   "display_name": "Python 3",
   "language": "python",
   "name": "python3"
  },
  "language_info": {
   "codemirror_mode": {
    "name": "ipython",
    "version": 3
   },
   "file_extension": ".py",
   "mimetype": "text/x-python",
   "name": "python",
   "nbconvert_exporter": "python",
   "pygments_lexer": "ipython3",
   "version": "3.6.1"
  }
 },
 "nbformat": 4,
 "nbformat_minor": 2
}

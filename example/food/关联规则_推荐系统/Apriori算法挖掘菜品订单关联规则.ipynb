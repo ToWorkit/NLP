{
 "cells": [
  {
   "cell_type": "code",
   "execution_count": 1,
   "metadata": {
    "collapsed": true
   },
   "outputs": [],
   "source": [
    "import pandas as pd"
   ]
  },
  {
   "cell_type": "code",
   "execution_count": null,
   "metadata": {
    "collapsed": true
   },
   "outputs": [],
   "source": [
    "# Apriori算法\n"
   ]
  },
  {
   "cell_type": "code",
   "execution_count": 2,
   "metadata": {},
   "outputs": [
    {
     "name": "stdout",
     "output_type": "stream",
     "text": [
      "[['a' 'c' 'e' nan]\n",
      " ['b' 'd' nan nan]\n",
      " ['b' 'c' nan nan]\n",
      " ['a' 'b' 'c' 'd']\n",
      " ['a' 'b' nan nan]\n",
      " ['b' 'c' nan nan]\n",
      " ['a' 'b' nan nan]\n",
      " ['a' 'b' 'c' 'e']\n",
      " ['a' 'b' 'c' nan]\n",
      " ['a' 'c' 'e' nan]]\n"
     ]
    }
   ],
   "source": [
    "# 菜品订单数据\n",
    "inputfile = 'E:\\\\NLP\\\\Python数据分析与挖掘实战\\\\chapter5\\\\demo\\\\data\\\\menu_orders.xls'\n",
    "outputfile  = 'E:\\\\NLP\\\\Python数据分析与挖掘实战\\\\chapter5\\\\demo\\\\tmp\\\\menu_orders_fit_end.xls'\n",
    "data = pd.read_excel(inputfile, header = None)\n",
    "print(data.as_matrix())"
   ]
  },
  {
   "cell_type": "code",
   "execution_count": 3,
   "metadata": {
    "scrolled": true
   },
   "outputs": [
    {
     "name": "stdout",
     "output_type": "stream",
     "text": [
      "\n",
      "转换原始数据至0-1矩阵\n",
      "     a    b    c    d    e\n",
      "0  1.0  0.0  1.0  0.0  1.0\n",
      "1  0.0  1.0  0.0  1.0  0.0\n",
      "2  0.0  1.0  1.0  0.0  0.0\n",
      "3  1.0  1.0  1.0  1.0  0.0\n",
      "4  1.0  1.0  0.0  0.0  0.0\n",
      "5  0.0  1.0  1.0  0.0  0.0\n",
      "6  1.0  1.0  0.0  0.0  0.0\n",
      "7  1.0  1.0  1.0  0.0  1.0\n",
      "8  1.0  1.0  1.0  0.0  0.0\n",
      "9  1.0  0.0  1.0  0.0  1.0\n"
     ]
    }
   ],
   "source": [
    "print(u'\\n转换原始数据至0-1矩阵')\n",
    "# 转换0-1矩阵的过渡函数\n",
    "# pd.notnull -> 参考python 各种实验_02 => 取非空的值\n",
    "ct = lambda x: pd.Series(1, index = x[pd.notnull(x)])\n",
    "# 用map方式执行\n",
    "b = map(ct, data.as_matrix())\n",
    "# 实现矩阵转换，空值用0填充\n",
    "data = pd.DataFrame(list(b)).fillna(0)\n",
    "print(data)\n",
    "# 转换完毕后删除中间变量 b，节省内存\n",
    "del b"
   ]
  },
  {
   "cell_type": "code",
   "execution_count": 4,
   "metadata": {
    "collapsed": true
   },
   "outputs": [],
   "source": [
    "# 最小支持度\n",
    "support = 0.2\n",
    "# 最小置信度\n",
    "confidence = 0.5\n",
    "# 连接符，用来区分不同的元素，如 A -> B(需要保证原始表格中不含有该字符)\n",
    "ms = '-->'"
   ]
  },
  {
   "cell_type": "code",
   "execution_count": null,
   "metadata": {
    "collapsed": true
   },
   "outputs": [],
   "source": [
    "# 保存结果\n",
    "find_rule(data, support, confidence, ms).ro_excel(outputfile)"
   ]
  }
 ],
 "metadata": {
  "kernelspec": {
   "display_name": "Python 3",
   "language": "python",
   "name": "python3"
  },
  "language_info": {
   "codemirror_mode": {
    "name": "ipython",
    "version": 3
   },
   "file_extension": ".py",
   "mimetype": "text/x-python",
   "name": "python",
   "nbconvert_exporter": "python",
   "pygments_lexer": "ipython3",
   "version": "3.6.1"
  }
 },
 "nbformat": 4,
 "nbformat_minor": 2
}

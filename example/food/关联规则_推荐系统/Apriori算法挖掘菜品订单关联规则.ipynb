{
 "cells": [
  {
   "cell_type": "code",
   "execution_count": 1,
   "metadata": {
    "collapsed": true
   },
   "outputs": [],
   "source": [
    "import pandas as pd"
   ]
  },
  {
   "cell_type": "markdown",
   "metadata": {},
   "source": [
    "## Apriori算法"
   ]
  },
  {
   "cell_type": "code",
   "execution_count": 52,
   "metadata": {},
   "outputs": [],
   "source": [
    "# 自定义连接函数，用于实现L_{k-1}到C_k的连接\n",
    "def connect_string(x, ms):\n",
    "    # split 返回结果为list -> 'a' => ['a']\n",
    "    x = list(map(lambda i: sorted(i.split(ms)), x))\n",
    "    print(x, '____1')\n",
    "    l = len(x[0])\n",
    "    r = []\n",
    "    print(x[1][:0], '____2')\n",
    "    print(sorted([x[l-2][l-1], x[0][l-1]]), '___3')\n",
    "    for i in range(len(x)):\n",
    "        for j in range(i, len(x)):\n",
    "            if x[i][:l-1] == x[j][:l-1] and x[i][l-1] != x[j][l-1]:\n",
    "                r.append(x[i][:l-1] + sorted([x[j][l-1], x[i][l-1]]))\n",
    "    return r\n",
    "\n",
    "# 寻找关联规则的函数\n",
    "def find_rule(d, support, confidence, ms = u'-->'):\n",
    "    # 定义输出结果\n",
    "    result = pd.DataFrame(index = ['support', 'confidence'])\n",
    "    # 支持度序列 平均数(每一项的和(列) / 长度(列)) => 项集的频率\n",
    "    support_series = 1.0 * d.sum() / len(d)\n",
    "    # 初步根据支持度筛序, 取索引值('a', 'b, 'c'...)\n",
    "    print(list(support_series[support_series > support]), '___4')\n",
    "    column = list(support_series[support_series > support].index)\n",
    "    print(column, '___5')\n",
    "    \n",
    "    k = 0\n",
    "#     while len(column) > 1:\n",
    "    k += 1\n",
    "    print('\\n正在进行第{}次搜索...'.format(k))\n",
    "    column = connect_string(column, ms)\n",
    "    print(column, '___6')\n",
    "    print('数目: %s' % len(column))\n",
    "    \n",
    "    # 新一批支持度的计算函数\n",
    "    # 按列(竖着看)计算乘积\n",
    "    sf = lambda i: d[i].prod(axis = 1, numeric_only = True)\n",
    "    # 创建连接数据（转置与原数据维度保持一致），这一操作很耗时间，耗内存，当数据集较大时，可以考虑并行计算进行优化\n",
    "    d_2 = pd.DataFrame(list(map(sf, column)), index = [ms.join(i) for i in column]).T\n",
    "    print(d_2, '___7')\n",
    "    print([ms.join(i) for i in column], '___8')\n",
    "    # 计算连接后的支持度 -> 平均数(每一项的和(列) / 长度(列)) => 项集的频率\n",
    "    support_series_2 = 1.0 * d_2[[ms.join(i) for i in column]].sum() / len(d)\n",
    "    print(type(support_series_2), '___9')\n",
    "    # 新一轮支持度筛序,去索引值\n",
    "    column = list(support_series_2[support_series_2 > support].index)\n",
    "    print(column, '__10')\n",
    "    # 合并支持度序列, Series需要赋值操作\n",
    "    support_series = support_series.append(support_series_2)\n",
    "    print(support_series, '__11')\n",
    "    column2 = []\n",
    "    \n",
    "    # "
   ]
  },
  {
   "cell_type": "code",
   "execution_count": null,
   "metadata": {
    "collapsed": true
   },
   "outputs": [],
   "source": []
  },
  {
   "cell_type": "code",
   "execution_count": 22,
   "metadata": {},
   "outputs": [
    {
     "name": "stdout",
     "output_type": "stream",
     "text": [
      "[['a' 'c' 'e' nan]\n",
      " ['b' 'd' nan nan]\n",
      " ['b' 'c' nan nan]\n",
      " ['a' 'b' 'c' 'd']\n",
      " ['a' 'b' nan nan]\n",
      " ['b' 'c' nan nan]\n",
      " ['a' 'b' nan nan]\n",
      " ['a' 'b' 'c' 'e']\n",
      " ['a' 'b' 'c' nan]\n",
      " ['a' 'c' 'e' nan]]\n"
     ]
    }
   ],
   "source": [
    "# 菜品订单数据\n",
    "inputfile = 'E:\\\\NLP\\\\Python数据分析与挖掘实战\\\\chapter5\\\\demo\\\\data\\\\menu_orders.xls'\n",
    "outputfile  = 'E:\\\\NLP\\\\Python数据分析与挖掘实战\\\\chapter5\\\\demo\\\\tmp\\\\menu_orders_fit_end.xls'\n",
    "data = pd.read_excel(inputfile, header = None)\n",
    "print(data.as_matrix())"
   ]
  },
  {
   "cell_type": "code",
   "execution_count": 23,
   "metadata": {
    "scrolled": true
   },
   "outputs": [
    {
     "name": "stdout",
     "output_type": "stream",
     "text": [
      "\n",
      "转换原始数据至0-1矩阵\n",
      "     a    b    c    d    e\n",
      "0  1.0  0.0  1.0  0.0  1.0\n",
      "1  0.0  1.0  0.0  1.0  0.0\n",
      "2  0.0  1.0  1.0  0.0  0.0\n",
      "3  1.0  1.0  1.0  1.0  0.0\n",
      "4  1.0  1.0  0.0  0.0  0.0\n",
      "5  0.0  1.0  1.0  0.0  0.0\n",
      "6  1.0  1.0  0.0  0.0  0.0\n",
      "7  1.0  1.0  1.0  0.0  1.0\n",
      "8  1.0  1.0  1.0  0.0  0.0\n",
      "9  1.0  0.0  1.0  0.0  1.0\n",
      "a    0.7\n",
      "b    0.8\n",
      "c    0.7\n",
      "d    0.2\n",
      "e    0.3\n",
      "dtype: float64\n"
     ]
    }
   ],
   "source": [
    "print(u'\\n转换原始数据至0-1矩阵')\n",
    "# 转换0-1矩阵的过渡函数\n",
    "# pd.notnull -> 参考python 各种实验_02 => 取非空的值\n",
    "ct = lambda x: pd.Series(1, index = x[pd.notnull(x)])\n",
    "# 用map方式执行\n",
    "b = map(ct, data.as_matrix())\n",
    "# 实现矩阵转换，空值用0填充\n",
    "data = pd.DataFrame(list(b)).fillna(0)\n",
    "print(data)\n",
    "# print(data.sum())\n",
    "# print(len(data))\n",
    "print(1.0 * data.sum() / len(data))\n",
    "# 转换完毕后删除中间变量 b，节省内存\n",
    "del b"
   ]
  },
  {
   "cell_type": "code",
   "execution_count": 4,
   "metadata": {
    "collapsed": true
   },
   "outputs": [],
   "source": [
    "# 最小支持度\n",
    "support = 0.2\n",
    "# 最小置信度\n",
    "confidence = 0.5\n",
    "# 连接符，用来区分不同的元素，如 A -> B(需要保证原始表格中不含有该字符)\n",
    "ms = '-->'"
   ]
  },
  {
   "cell_type": "code",
   "execution_count": 53,
   "metadata": {},
   "outputs": [
    {
     "name": "stdout",
     "output_type": "stream",
     "text": [
      "[0.69999999999999996, 0.80000000000000004, 0.69999999999999996, 0.29999999999999999] ___4\n",
      "['a', 'b', 'c', 'e'] ___5\n",
      "\n",
      "正在进行第1次搜索...\n",
      "[['a'], ['b'], ['c'], ['e']] ____1\n",
      "[] ____2\n",
      "['a', 'e'] ___3\n",
      "[['a', 'b'], ['a', 'c'], ['a', 'e'], ['b', 'c'], ['b', 'e'], ['c', 'e']] ___6\n",
      "数目: 6\n",
      "   a-->b  a-->c  a-->e  b-->c  b-->e  c-->e\n",
      "0    0.0    1.0    1.0    0.0    0.0    1.0\n",
      "1    0.0    0.0    0.0    0.0    0.0    0.0\n",
      "2    0.0    0.0    0.0    1.0    0.0    0.0\n",
      "3    1.0    1.0    0.0    1.0    0.0    0.0\n",
      "4    1.0    0.0    0.0    0.0    0.0    0.0\n",
      "5    0.0    0.0    0.0    1.0    0.0    0.0\n",
      "6    1.0    0.0    0.0    0.0    0.0    0.0\n",
      "7    1.0    1.0    1.0    1.0    1.0    1.0\n",
      "8    1.0    1.0    0.0    1.0    0.0    0.0\n",
      "9    0.0    1.0    1.0    0.0    0.0    1.0 ___7\n",
      "['a-->b', 'a-->c', 'a-->e', 'b-->c', 'b-->e', 'c-->e'] ___8\n",
      "<class 'pandas.core.series.Series'> ___9\n",
      "['a-->b', 'a-->c', 'a-->e', 'b-->c', 'c-->e'] __10\n",
      "a        0.7\n",
      "b        0.8\n",
      "c        0.7\n",
      "d        0.2\n",
      "e        0.3\n",
      "a-->b    0.5\n",
      "a-->c    0.5\n",
      "a-->e    0.3\n",
      "b-->c    0.5\n",
      "b-->e    0.1\n",
      "c-->e    0.3\n",
      "dtype: float64 __11\n"
     ]
    }
   ],
   "source": [
    "# 保存结果\n",
    "find_rule(data, support, confidence, ms)"
   ]
  },
  {
   "cell_type": "code",
   "execution_count": null,
   "metadata": {
    "collapsed": true
   },
   "outputs": [],
   "source": []
  }
 ],
 "metadata": {
  "kernelspec": {
   "display_name": "Python 3",
   "language": "python",
   "name": "python3"
  },
  "language_info": {
   "codemirror_mode": {
    "name": "ipython",
    "version": 3
   },
   "file_extension": ".py",
   "mimetype": "text/x-python",
   "name": "python",
   "nbconvert_exporter": "python",
   "pygments_lexer": "ipython3",
   "version": "3.6.1"
  }
 },
 "nbformat": 4,
 "nbformat_minor": 2
}

{
 "cells": [
  {
   "cell_type": "markdown",
   "metadata": {},
   "source": [
    "### plot() -> 绘制线性二维图，折线图\n",
    "### pie() -> 饼形图\n",
    "### hist() -> 二维条形直方图，可显示数据的分配情形\n",
    "### boxplot() -> 样本数据的箱型图\n",
    "### plot(logy=True) -> y轴的对数图形\n",
    "### plot(yerr=error) -> 误差条形图"
   ]
  },
  {
   "cell_type": "code",
   "execution_count": null,
   "metadata": {
    "collapsed": true
   },
   "outputs": [],
   "source": [
    "# 基础代码\n",
    "# 导入图像库\n",
    "import matplotlib.pyplot as plt\n",
    "# 正常显示中文标签, 设置 FangSong/黑体\n",
    "plt.rcParams['font.sans-serif'] = [u'SimHei']\n",
    "# 解决 负号 的显示问题\n",
    "plt.rcParams['axes.unicode_minus'] = False\n",
    "# 创建图像区域，指定比例\n",
    "plt.figure(figsize = (7, 5))"
   ]
  }
 ],
 "metadata": {
  "kernelspec": {
   "display_name": "Python 3",
   "language": "python",
   "name": "python3"
  },
  "language_info": {
   "codemirror_mode": {
    "name": "ipython",
    "version": 3
   },
   "file_extension": ".py",
   "mimetype": "text/x-python",
   "name": "python",
   "nbconvert_exporter": "python",
   "pygments_lexer": "ipython3",
   "version": "3.6.1"
  }
 },
 "nbformat": 4,
 "nbformat_minor": 2
}

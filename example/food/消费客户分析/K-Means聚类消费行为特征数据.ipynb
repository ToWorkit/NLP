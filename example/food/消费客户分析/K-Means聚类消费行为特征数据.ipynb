{
 "cells": [
  {
   "cell_type": "code",
   "execution_count": 1,
   "metadata": {
    "collapsed": true
   },
   "outputs": [],
   "source": [
    "import numpy as np\n",
    "import pandas as pd"
   ]
  },
  {
   "cell_type": "code",
   "execution_count": 2,
   "metadata": {
    "collapsed": true
   },
   "outputs": [],
   "source": [
    "# 数据参数\n",
    "inputfile = 'E:\\\\NLP\\\\Python数据分析与挖掘实战\\\\chapter5\\\\demo\\\\data\\\\consumption_data.xls'\n",
    "# 聚类的类别\n",
    "k = 3\n",
    "# 离散点阈值\n",
    "threshold = 2\n",
    "# 聚类最大循环次数\n",
    "iteration = 500\n",
    "# 读取数据\n",
    "data = pd.read_excel(inputfile, index_col = 'Id')\n",
    "# 数据标准差规范化 -> 处理后的数据均值为 0， 标准差为 1\n",
    "data_zs = 1.0 * (data -data .mean()) / data.std()"
   ]
  },
  {
   "cell_type": "code",
   "execution_count": 3,
   "metadata": {},
   "outputs": [
    {
     "data": {
      "text/plain": [
       "KMeans(algorithm='auto', copy_x=True, init='k-means++', max_iter=500,\n",
       "    n_clusters=3, n_init=10, n_jobs=4, precompute_distances='auto',\n",
       "    random_state=None, tol=0.0001, verbose=0)"
      ]
     },
     "execution_count": 3,
     "metadata": {},
     "output_type": "execute_result"
    }
   ],
   "source": [
    "# K-Means聚类\n",
    "from sklearn.cluster import KMeans\n",
    "# 分为 3 类， 并发数为 4， 最大迭代 500 次\n",
    "model = KMeans(n_clusters = k, n_jobs = 4, max_iter = iteration)\n",
    "# 开始聚类\n",
    "model.fit(data_zs)"
   ]
  },
  {
   "cell_type": "markdown",
   "metadata": {},
   "source": [
    "### 简单打印结果与详细输出原始数据及其类别参考K-means聚类分析"
   ]
  },
  {
   "cell_type": "markdown",
   "metadata": {},
   "source": [
    "### 标准化数据及其类别"
   ]
  },
  {
   "cell_type": "code",
   "execution_count": 4,
   "metadata": {},
   "outputs": [
    {
     "name": "stdout",
     "output_type": "stream",
     "text": [
      "            R         F         M\n",
      "Id                               \n",
      "17   5.683780 -1.039580 -0.063372\n",
      "30   3.223983 -0.357079  5.949751\n",
      "58   3.671219 -0.766579  2.598311\n",
      "77   4.565690  0.188922  0.558964\n",
      "91   3.298522 -0.220578 -0.168765\n",
      "103  5.087465 -0.766579  0.759841\n",
      "116  2.404051 -1.176080 -1.377282\n",
      "119  3.596680 -0.630079  0.449728\n",
      "130  1.658658  0.188922  0.352931\n",
      "139  4.714769  0.188922  1.072847\n",
      "193  4.192994 -1.176080  0.431252\n",
      "226  2.553129  0.325422  5.693935\n",
      "237  2.404051 -1.176080 -1.198557\n",
      "255  3.298522  0.461922  0.444683\n",
      "256  1.882276 -1.176080 -0.010403\n",
      "269  3.671219 -0.493579 -1.231526\n",
      "282  3.149444  0.598423 -0.207884\n",
      "298  3.894837  0.734923  0.530929\n",
      "300  3.298522 -0.493579  1.163202\n",
      "318  4.043915  1.826924  0.092614\n",
      "333  3.596680  0.188922  0.028408\n",
      "357  2.254972 -0.630079 -1.247263\n",
      "379  2.031354  0.188922 -0.243480\n",
      "400  1.658658 -1.039580  0.642555\n",
      "419  3.074904 -0.220578  0.280731\n",
      "526  1.584119 -1.039580  1.238071\n",
      "559  1.882276 -1.039580  1.010221\n",
      "612  3.149444 -1.176080  0.987049\n",
      "626  5.012926 -1.039580 -1.097706\n",
      "641  5.683780 -1.176080 -0.255430\n",
      "654  6.429173 -0.493579 -1.035471\n",
      "670  7.770880  1.280923  0.394509\n",
      "701  2.776747 -0.220578  0.406025\n",
      "721  3.074904  1.553924  1.174522\n",
      "738  2.627669 -0.357079 -0.575955\n",
      "793  2.702208 -0.493579  0.524570\n",
      "795  3.894837  1.553924 -0.536934\n",
      "876  1.956815 -1.039580 -0.496935\n",
      "884  3.820297 -0.903079 -0.203341\n",
      "902  2.925826 -0.766579  1.129590\n"
     ]
    }
   ],
   "source": [
    "# 标准化数据及其类别\n",
    "r = pd.concat([data_zs, pd.Series(model.labels_, index = data.index)], axis = 1)\n",
    "# 每个样本对应的类别\n",
    "# 重命名表头\n",
    "r.columns = list(data.columns) + ['聚类类别']\n",
    "# 筛选出 聚类类别 == 1 的值\n",
    "print(r[['R', 'F', 'M']][r['聚类类别'] == 1])"
   ]
  },
  {
   "cell_type": "code",
   "execution_count": 5,
   "metadata": {},
   "outputs": [
    {
     "name": "stdout",
     "output_type": "stream",
     "text": [
      "Id\n",
      "3      1.015762\n",
      "10     0.963867\n",
      "13     1.008692\n",
      "14     1.336743\n",
      "16     0.994034\n",
      "23     0.636732\n",
      "26     1.187973\n",
      "28     1.058972\n",
      "31     1.081499\n",
      "35     0.426717\n",
      "36     1.351730\n",
      "39     2.849060\n",
      "42     1.308715\n",
      "45     0.812585\n",
      "49     1.187293\n",
      "50     0.984808\n",
      "54     1.005113\n",
      "62     0.893358\n",
      "63     1.096972\n",
      "65     0.903822\n",
      "71     1.363035\n",
      "72     0.960079\n",
      "75     1.269320\n",
      "78     1.009831\n",
      "79     0.660663\n",
      "86     0.712530\n",
      "87     0.920576\n",
      "90     0.273766\n",
      "93     1.435632\n",
      "94     0.682310\n",
      "         ...   \n",
      "891    1.170057\n",
      "892    0.667187\n",
      "896    0.957613\n",
      "897    0.982399\n",
      "899    1.202092\n",
      "901    0.248479\n",
      "903    1.319329\n",
      "904    1.189020\n",
      "906    0.232003\n",
      "907    0.849913\n",
      "909    1.114179\n",
      "911    1.123684\n",
      "912    0.920755\n",
      "915    1.206863\n",
      "918    1.581306\n",
      "919    0.835296\n",
      "920    1.030262\n",
      "921    0.825983\n",
      "922    0.409997\n",
      "924    0.875111\n",
      "925    0.897273\n",
      "926    1.072712\n",
      "928    0.870499\n",
      "933    1.260840\n",
      "937    1.625227\n",
      "938    0.499510\n",
      "939    0.524808\n",
      "940    1.083012\n",
      "941    1.072184\n",
      "942    0.712370\n",
      "Length: 940, dtype: float64\n"
     ]
    }
   ],
   "source": [
    "norm = []\n",
    "# 逐一处理\n",
    "for i in range(k):\n",
    "    # 筛选出 聚类类别 == i 的值 减去 聚类中心值\n",
    "    norm_tmp = r[['R', 'F', 'M']][r['聚类类别'] == i] - model.cluster_centers_[i]\n",
    "    # 求出绝对距离\n",
    "    # linalg=linear（线性）+algebra（代数），norm则表示范数\n",
    "    # http://blog.csdn.net/lanchunhui/article/details/51004387\n",
    "    # apply -> https://www.cnblogs.com/paranoia/p/6196865.html\n",
    "    norm_tmp = norm_tmp.apply(np.linalg.norm, axis = 1)\n",
    "    # 求相对距离并添加\n",
    "    # 绝对距离 / 相对距离\n",
    "    norm.append(norm_tmp / norm_tmp.median())\n",
    "# 合并\n",
    "norm = pd.concat(norm)\n",
    "print(norm)"
   ]
  },
  {
   "cell_type": "code",
   "execution_count": 6,
   "metadata": {
    "collapsed": true
   },
   "outputs": [],
   "source": [
    "# 导入图像库\n",
    "import matplotlib.pyplot as plt\n",
    "# 正常显示中文标签, 设置 FangSong/黑体\n",
    "plt.rcParams['font.sans-serif'] = [u'SimHei']\n",
    "# 解决 负号 的显示问题\n",
    "plt.rcParams['axes.unicode_minus'] = False"
   ]
  },
  {
   "cell_type": "code",
   "execution_count": 7,
   "metadata": {},
   "outputs": [
    {
     "data": {
      "text/plain": [
       "<matplotlib.axes._subplots.AxesSubplot at 0x190c91b8860>"
      ]
     },
     "execution_count": 7,
     "metadata": {},
     "output_type": "execute_result"
    }
   ],
   "source": [
    "# 正常点\n",
    "norm[norm <= threshold].plot(style = 'go')"
   ]
  },
  {
   "cell_type": "code",
   "execution_count": 8,
   "metadata": {},
   "outputs": [
    {
     "data": {
      "text/plain": [
       "<matplotlib.axes._subplots.AxesSubplot at 0x190c91b8860>"
      ]
     },
     "execution_count": 8,
     "metadata": {},
     "output_type": "execute_result"
    }
   ],
   "source": [
    "# 离群点\n",
    "discrete_points = norm[norm > threshold]\n",
    "discrete_points.plot(style = 'ro')"
   ]
  },
  {
   "cell_type": "code",
   "execution_count": 9,
   "metadata": {
    "collapsed": true
   },
   "outputs": [],
   "source": [
    "# 离群点做标记\n",
    "for i in range(len(discrete_points)):\n",
    "    id = discrete_points.index[i]\n",
    "    # 基于索引位来选取数据集（含头不含尾）\n",
    "    n = discrete_points.iloc[i]\n",
    "    plt.annotate('(%s, %.2f)' %(id, n), xy = (id, n), xytext = (id, n))"
   ]
  },
  {
   "cell_type": "code",
   "execution_count": 10,
   "metadata": {},
   "outputs": [
    {
     "data": {
      "image/png": "[encoded data removed]",
      "text/plain": [
       "<matplotlib.figure.Figure at 0x190c9195b00>"
      ]
     },
     "metadata": {},
     "output_type": "display_data"
    }
   ],
   "source": [
    "# 作图\n",
    "plt.xlabel('编号')\n",
    "plt.ylabel('相对距离')\n",
    "plt.show()"
   ]
  },
  {
   "cell_type": "code",
   "execution_count": null,
   "metadata": {
    "collapsed": true
   },
   "outputs": [],
   "source": []
  }
 ],
 "metadata": {
  "kernelspec": {
   "display_name": "Python 3",
   "language": "python",
   "name": "python3"
  },
  "language_info": {
   "codemirror_mode": {
    "name": "ipython",
    "version": 3
   },
   "file_extension": ".py",
   "mimetype": "text/x-python",
   "name": "python",
   "nbconvert_exporter": "python",
   "pygments_lexer": "ipython3",
   "version": "3.6.1"
  }
 },
 "nbformat": 4,
 "nbformat_minor": 2
}

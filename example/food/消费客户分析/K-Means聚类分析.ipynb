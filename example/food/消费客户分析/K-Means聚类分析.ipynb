{
 "cells": [
  {
   "cell_type": "code",
   "execution_count": 1,
   "metadata": {
    "collapsed": true
   },
   "outputs": [],
   "source": [
    "# 使用K-Means算法聚类消费行为特征数据\n",
    "import pandas as pd"
   ]
  },
  {
   "cell_type": "code",
   "execution_count": 2,
   "metadata": {
    "collapsed": true
   },
   "outputs": [],
   "source": [
    "# 初始化数据\n",
    "# 客户消费情况数据 -> R => 最近一次消费时间间隔 F => 消费频率 M => 消费总金额\n",
    "inputfile = 'E:\\\\NLP\\\\Python数据分析与挖掘实战\\\\chapter5\\\\demo\\\\data\\\\consumption_data.xls'\n",
    "# 导出路径\n",
    "outputfile = 'E:\\\\NLP\\\\Python数据分析与挖掘实战\\\\chapter5\\\\demo\\\\tmp\\\\consumption_data_out.xls'"
   ]
  },
  {
   "cell_type": "code",
   "execution_count": 3,
   "metadata": {
    "collapsed": true
   },
   "outputs": [],
   "source": [
    "# 聚类的类型(几类)\n",
    "k = 3\n",
    "# 聚类最大循环次数\n",
    "iteration = 500"
   ]
  },
  {
   "cell_type": "code",
   "execution_count": 5,
   "metadata": {},
   "outputs": [],
   "source": [
    "# 读取数据, 根据ID\n",
    "data = pd.read_excel(inputfile, index_col = 'Id')\n",
    "# 标准差规范化 -> 处理后的数据均值为 0， 标准差为 1 => 数据标准化\n",
    "data_zs = 1.0 * (data - data.mean()) / data.std()"
   ]
  },
  {
   "cell_type": "code",
   "execution_count": 6,
   "metadata": {},
   "outputs": [
    {
     "data": {
      "text/plain": [
       "KMeans(algorithm='auto', copy_x=True, init='k-means++', max_iter=500,\n",
       "    n_clusters=3, n_init=10, n_jobs=4, precompute_distances='auto',\n",
       "    random_state=None, tol=0.0001, verbose=0)"
      ]
     },
     "execution_count": 6,
     "metadata": {},
     "output_type": "execute_result"
    }
   ],
   "source": [
    "# KMeans\n",
    "from sklearn.cluster import KMeans\n",
    "# 分为 k 类， 并发数是 4, 最大迭代 500 次\n",
    "model = KMeans(n_clusters = k, n_jobs = 4, max_iter = iteration)\n",
    "# 开始聚类\n",
    "model.fit(data_zs)"
   ]
  },
  {
   "cell_type": "code",
   "execution_count": 13,
   "metadata": {
    "scrolled": true
   },
   "outputs": [
    {
     "name": "stdout",
     "output_type": "stream",
     "text": [
      "1    559\n",
      "0    341\n",
      "2     40\n",
      "dtype: int64\n",
      "          0         1         2\n",
      "0 -0.160451  1.114802  0.392844\n",
      "1 -0.149353 -0.658893 -0.271780\n",
      "2  3.455055 -0.295654  0.449123\n",
      "          R         F         M  类别数目\n",
      "0 -0.160451  1.114802  0.392844   341\n",
      "1 -0.149353 -0.658893 -0.271780   559\n",
      "2  3.455055 -0.295654  0.449123    40\n"
     ]
    }
   ],
   "source": [
    "# 简单打印结果\n",
    "# 统计各个类别的数目\n",
    "r1 = pd.Series(model.labels_).value_counts()\n",
    "# 找出聚类中心\n",
    "r2 = pd.DataFrame(model.cluster_centers_)\n",
    "print(r1)\n",
    "print(r2)\n",
    "# 横向连接(0为纵向)，得到聚类中心对应的类别下的数目\n",
    "r = pd.concat([r2, r1], axis = 1)\n",
    "# 重命名表头\n",
    "r.columns = list(data.columns) + [u'类别数目']\n",
    "print(r)"
   ]
  },
  {
   "cell_type": "code",
   "execution_count": 14,
   "metadata": {
    "collapsed": true
   },
   "outputs": [],
   "source": [
    "# 详细输出原始数据及其类别\n",
    "# 输出每个样本对应的类别\n",
    "r = pd.concat([data, pd.Series(model.labels_, index = data.index)], axis = 1)\n",
    "# 重命名表头\n",
    "r.columns = list(data.columns) + [u'聚类类别']\n",
    "# 保存结果\n",
    "r.to_excel(outputfile)"
   ]
  },
  {
   "cell_type": "markdown",
   "metadata": {},
   "source": [
    "### 注意，Scikit-Learn中的 K-Means 算法仅仅支持欧式距离，原因在于采用其他的距离并不一定能够保证算法的收敛性\n",
    "> ### p_108看看表格结果"
   ]
  },
  {
   "cell_type": "code",
   "execution_count": 16,
   "metadata": {},
   "outputs": [
    {
     "name": "stdout",
     "output_type": "stream",
     "text": [
      "R       3.00\n",
      "F       5.00\n",
      "M    1507.11\n",
      "Name: 2, dtype: float64\n"
     ]
    }
   ],
   "source": [
    "# 绘制聚类后的概率密度图\n",
    "# 自定义作图函数\n",
    "def density_plot(data, title):\n",
    "    # 导入图像库\n",
    "    import matplotlib.pyplot as plt\n",
    "    # 正常显示中文标签, 设置 FangSong/黑体\n",
    "    plt.rcParams['font.sans-serif'] = [u'SimHei']\n",
    "    # 解决 负号 的显示问题\n",
    "    plt.rcParams['axes.unicode_minus'] = False\n",
    "    # 创建绘图区域\n",
    "    plt.figure()\n",
    "    # 逐行作图 -> 取一行的数据\n",
    "    for i in range(len(data.iloc[0])):\n",
    "        (data.iloc[:, i]).plot(kind = 'kde', label = data.columns[i], linewidth = 2)\n",
    "    plt.xlabel(u'人数')\n",
    "    plt.ylabel(u'密度')\n",
    "    plt.title(u'聚类类别%s各属性的密度曲线' % title)\n",
    "    plt.legend()\n",
    "    return plt"
   ]
  },
  {
   "cell_type": "code",
   "execution_count": 17,
   "metadata": {
    "collapsed": true
   },
   "outputs": [],
   "source": [
    "# 自定义作图函数\n",
    "def density_plot(data):\n",
    "    # 导入图像库\n",
    "    import matplotlib.pyplot as plt\n",
    "    # 正常显示中文标签, 设置 FangSong/黑体\n",
    "    plt.rcParams['font.sans-serif'] = [u'SimHei']\n",
    "    # 解决 负号 的显示问题\n",
    "    plt.rcParams['axes.unicode_minus'] = False\n",
    "    p = data.plot(kind = 'kde', linewidth = 2, subplots = True, sharex = False)\n",
    "    [p[i].set_ylabel(u'密度') for i in range(k)]\n",
    "    plt.legend()\n",
    "    return plt"
   ]
  },
  {
   "cell_type": "code",
   "execution_count": 19,
   "metadata": {},
   "outputs": [],
   "source": [
    "# 概率密度图文件名前缀\n",
    "pic_output = './pd_'\n",
    "for i in range(k):\n",
    "    density_plot(data[r[u'聚类类别'] == i]).savefig(u'%s%s.png' % (pic_output, i))"
   ]
  },
  {
   "cell_type": "code",
   "execution_count": null,
   "metadata": {
    "collapsed": true
   },
   "outputs": [],
   "source": [
    "### 对比分析，分群 1 时间间隔较短，消费次数多，而且消费金额较大，是高消费，高价值人群\n",
    "### 分群 2 时间间隔，消费次数和消费金额处于中等水平，代表这一般客户\n",
    "### 分群 3 时间间隔较长，消费次数少，消费金额也不是特别高，是价值较低的客户群体"
   ]
  }
 ],
 "metadata": {
  "kernelspec": {
   "display_name": "Python 3",
   "language": "python",
   "name": "python3"
  },
  "language_info": {
   "codemirror_mode": {
    "name": "ipython",
    "version": 3
   },
   "file_extension": ".py",
   "mimetype": "text/x-python",
   "name": "python",
   "nbconvert_exporter": "python",
   "pygments_lexer": "ipython3",
   "version": "3.6.1"
  }
 },
 "nbformat": 4,
 "nbformat_minor": 2
}

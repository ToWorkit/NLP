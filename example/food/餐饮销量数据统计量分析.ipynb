{
 "cells": [
  {
   "cell_type": "code",
   "execution_count": 1,
   "metadata": {
    "collapsed": true
   },
   "outputs": [],
   "source": [
    "import pandas as pd"
   ]
  },
  {
   "cell_type": "code",
   "execution_count": 2,
   "metadata": {},
   "outputs": [
    {
     "name": "stdout",
     "output_type": "stream",
     "text": [
      "                销量\n",
      "count   195.000000\n",
      "mean   2744.595385\n",
      "std     424.739407\n",
      "min     865.000000\n",
      "25%    2460.600000\n",
      "50%    2655.900000\n",
      "75%    3023.200000\n",
      "max    4065.200000\n"
     ]
    }
   ],
   "source": [
    "# 餐饮数据\n",
    "catering_sale = 'E:\\\\NLP\\\\Python数据分析与挖掘实战\\\\chapter3\\\\demo\\\\data\\\\catering_sale.xls'\n",
    "# 指定‘日期’列为索引列\n",
    "data = pd.read_excel(catering_sale, index_col = u'日期')\n",
    "# 过滤异常数据\n",
    "data = data[(data[u'销量'] > 400) & (data[u'销量'] < 5000)]\n",
    "# print(data)\n",
    "# 保存基本统计量\n",
    "statistics = data.describe()\n",
    "# 总数(非空数值)，平均值，标准差，最小值，分位数(1/4, 1/2, 3/4), 最大值\n",
    "print(statistics)"
   ]
  },
  {
   "cell_type": "code",
   "execution_count": 3,
   "metadata": {},
   "outputs": [
    {
     "name": "stdout",
     "output_type": "stream",
     "text": [
      "                销量\n",
      "count   195.000000\n",
      "mean   2744.595385\n",
      "std     424.739407\n",
      "min     865.000000\n",
      "25%    2460.600000\n",
      "50%    2655.900000\n",
      "75%    3023.200000\n",
      "max    4065.200000\n",
      "range  3200.200000\n",
      "var       0.154755\n",
      "dis     562.600000\n"
     ]
    }
   ],
   "source": [
    "# 参考书籍42页\n",
    "# 极差\n",
    "statistics.loc['range'] = statistics.loc['max'] - statistics.loc['min']\n",
    "# 变异系数\n",
    "statistics.loc['var'] = statistics.loc['std'] / statistics.loc['mean']\n",
    "# 四分位数间距\n",
    "statistics.loc['dis'] = statistics.loc['75%'] - statistics.loc['25%']\n",
    "print(statistics)"
   ]
  },
  {
   "cell_type": "code",
   "execution_count": null,
   "metadata": {
    "collapsed": true
   },
   "outputs": [],
   "source": []
  }
 ],
 "metadata": {
  "kernelspec": {
   "display_name": "Python 3",
   "language": "python",
   "name": "python3"
  },
  "language_info": {
   "codemirror_mode": {
    "name": "ipython",
    "version": 3
   },
   "file_extension": ".py",
   "mimetype": "text/x-python",
   "name": "python",
   "nbconvert_exporter": "python",
   "pygments_lexer": "ipython3",
   "version": "3.6.1"
  }
 },
 "nbformat": 4,
 "nbformat_minor": 2
}

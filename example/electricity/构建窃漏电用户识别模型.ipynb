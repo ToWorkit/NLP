{
 "cells": [
  {
   "cell_type": "code",
   "execution_count": 1,
   "metadata": {
    "collapsed": true
   },
   "outputs": [],
   "source": [
    "import pandas as pd\n",
    "# 导入随机函数shuffle，用来打散数据\n",
    "from random import shuffle"
   ]
  },
  {
   "cell_type": "code",
   "execution_count": 3,
   "metadata": {},
   "outputs": [
    {
     "name": "stdout",
     "output_type": "stream",
     "text": [
      "[[4 1 1 1]\n",
      " [4 0 4 1]\n",
      " [2 1 1 1]\n",
      " ..., \n",
      " [5 1 2 1]\n",
      " [2 1 0 0]\n",
      " [4 1 0 0]]\n",
      "\n",
      "\n",
      "<class 'numpy.ndarray'>\n"
     ]
    }
   ],
   "source": [
    "# 数据信息\n",
    "datafile = 'E:\\\\NLP\\\\Python数据分析与挖掘实战\\\\chapter6\\\\demo\\\\data\\\\model.xls'\n",
    "# 读取数据（前三列特征，第四列是标签）\n",
    "data = pd.read_excel(datafile)\n",
    "# 将表格转换为矩阵\n",
    "data = data.as_matrix()\n",
    "print(data)\n",
    "print('\\n')\n",
    "# 随机打乱数据\n",
    "shuffle(data)\n",
    "print(type(data))"
   ]
  },
  {
   "cell_type": "markdown",
   "metadata": {},
   "source": [
    "### 数据划分\n",
    ">### 随机选取20%作为测试集，剩下的80%作为训练集"
   ]
  },
  {
   "cell_type": "code",
   "execution_count": null,
   "metadata": {
    "collapsed": true
   },
   "outputs": [],
   "source": [
    "# 设置训练数据比例\n",
    "p = 0.8\n",
    "# 前 80% 为训练集\n",
    "train = data[:int(len(data) * p), :]\n",
    "# 后 20% 为测试集\n",
    "test = data[int(len(data) * p):, :]"
   ]
  }
 ],
 "metadata": {
  "kernelspec": {
   "display_name": "Python 3",
   "language": "python",
   "name": "python3"
  },
  "language_info": {
   "codemirror_mode": {
    "name": "ipython",
    "version": 3
   },
   "file_extension": ".py",
   "mimetype": "text/x-python",
   "name": "python",
   "nbconvert_exporter": "python",
   "pygments_lexer": "ipython3",
   "version": "3.6.1"
  }
 },
 "nbformat": 4,
 "nbformat_minor": 2
}

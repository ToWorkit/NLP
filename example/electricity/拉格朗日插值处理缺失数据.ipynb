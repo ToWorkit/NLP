{
 "cells": [
  {
   "cell_type": "code",
   "execution_count": 1,
   "metadata": {
    "collapsed": true
   },
   "outputs": [],
   "source": [
    "import pandas as pd\n",
    "# 导入拉格朗日插值函数\n",
    "from scipy.interpolate import lagrange"
   ]
  },
  {
   "cell_type": "code",
   "execution_count": 2,
   "metadata": {
    "collapsed": true
   },
   "outputs": [],
   "source": [
    "# 数据路径参数\n",
    "inputfile = 'E:\\\\NLP\\\\Python数据分析与挖掘实战\\\\chapter6\\\\demo\\\\data\\\\missing_data.xls'\n",
    "outputfile = 'E:\\\\NLP\\\\Python数据分析与挖掘实战\\\\chapter6\\\\demo\\\\tmp\\\\missing_data_output.xls'"
   ]
  },
  {
   "cell_type": "code",
   "execution_count": 3,
   "metadata": {
    "collapsed": true
   },
   "outputs": [],
   "source": [
    "# 读入数据\n",
    "data = pd.read_excel(inputfile, header = None)"
   ]
  },
  {
   "cell_type": "markdown",
   "metadata": {},
   "source": [
    "### 自定义列向量插值函数"
   ]
  },
  {
   "cell_type": "code",
   "execution_count": 4,
   "metadata": {
    "collapsed": true
   },
   "outputs": [],
   "source": [
    "# s为列向量，n为被插值的位置，k为前后的数据个数，缺省为5\n",
    "def ployinterp_column(s, n, k = 5):\n",
    "    # 取数(前五项和后五项)\n",
    "    y = s[list(range(n - k, n)) + list(range(n + 1, n + 1 + k))]\n",
    "    # 剔除空值\n",
    "    y = y[y.notnull()]\n",
    "    print(y.index, n)\n",
    "    # 插值并返回结果\n",
    "    return lagrange(y.index, list(y))(n)"
   ]
  },
  {
   "cell_type": "code",
   "execution_count": 5,
   "metadata": {},
   "outputs": [
    {
     "name": "stdout",
     "output_type": "stream",
     "text": [
      "Int64Index([0, 1, 2, 3, 4, 6, 7, 8, 9, 10], dtype='int64') 5\n",
      "Int64Index([7, 8, 9, 10, 11, 13, 14, 15, 16, 17], dtype='int64') 12\n",
      "Int64Index([0, 1, 2, 4, 5, 6, 7, 8], dtype='int64') 3\n",
      "Int64Index([5, 6, 7, 8, 9, 11, 12, 13, 14, 15], dtype='int64') 10\n",
      "Int64Index([14, 15, 16, 17, 18], dtype='int64') 19\n",
      "Int64Index([15, 16, 17, 18, 19], dtype='int64') 20\n",
      "Int64Index([0, 1, 2, 3, 5, 6, 8, 9], dtype='int64') 4\n",
      "Int64Index([2, 3, 4, 5, 6, 8, 9, 11, 12], dtype='int64') 7\n",
      "Int64Index([5, 6, 7, 8, 9, 11, 12, 13, 14, 15], dtype='int64') 10\n",
      "Int64Index([11, 12, 13, 14, 15, 17, 18, 19, 20], dtype='int64') 16\n"
     ]
    }
   ],
   "source": [
    "# 逐个元素判断是否需要插值\n",
    "for i in data.columns:\n",
    "    for j in range(len(data)):\n",
    "        if (data[i].isnull())[j]:\n",
    "            data[i][j] = ployinterp_column(data[i], j)"
   ]
  },
  {
   "cell_type": "code",
   "execution_count": 6,
   "metadata": {
    "collapsed": true
   },
   "outputs": [],
   "source": [
    "# 输出结果\n",
    "data.to_excel(outputfile, header = None, index = False)"
   ]
  },
  {
   "cell_type": "code",
   "execution_count": null,
   "metadata": {
    "collapsed": true
   },
   "outputs": [],
   "source": []
  }
 ],
 "metadata": {
  "kernelspec": {
   "display_name": "Python 3",
   "language": "python",
   "name": "python3"
  },
  "language_info": {
   "codemirror_mode": {
    "name": "ipython",
    "version": 3
   },
   "file_extension": ".py",
   "mimetype": "text/x-python",
   "name": "python",
   "nbconvert_exporter": "python",
   "pygments_lexer": "ipython3",
   "version": "3.6.1"
  }
 },
 "nbformat": 4,
 "nbformat_minor": 2
}

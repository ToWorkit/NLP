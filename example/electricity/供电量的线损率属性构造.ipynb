{
 "cells": [
  {
   "cell_type": "markdown",
   "metadata": {},
   "source": [
    "## 线损率 = ((供入电量 - 供出电量) / 供入电量) * 100%\n",
    "> 书籍p70"
   ]
  },
  {
   "cell_type": "code",
   "execution_count": 1,
   "metadata": {
    "collapsed": true
   },
   "outputs": [],
   "source": [
    "# 添加新的 线损率属性 \n",
    "import pandas as pd"
   ]
  },
  {
   "cell_type": "code",
   "execution_count": 2,
   "metadata": {
    "collapsed": true
   },
   "outputs": [],
   "source": [
    "# 供入供出的电量数据\n",
    "inputfile = 'E:\\\\NLP\\\\Python数据分析与挖掘实战\\\\chapter4\\\\demo\\\\data\\\\electricity_data.xls'\n",
    "# 构造 线损率属性 之后的数据文件\n",
    "outfile = 'E:\\\\NLP\\\\Python数据分析与挖掘实战\\\\chapter4\\\\demo\\\\tmp\\\\electricity_data_loss.xls'"
   ]
  },
  {
   "cell_type": "code",
   "execution_count": 3,
   "metadata": {},
   "outputs": [
    {
     "name": "stdout",
     "output_type": "stream",
     "text": [
      "   供入电量  供出电量       线损率\n",
      "0   986   912  0.075051\n",
      "1  1208  1083  0.103477\n",
      "2  1108   975  0.120036\n",
      "3  1082   934  0.136784\n",
      "4  1285  1102  0.142412\n"
     ]
    }
   ],
   "source": [
    "# 读入数据\n",
    "data = pd.read_excel(inputfile)\n",
    "# 构造线损率\n",
    "data[u'线损率'] = (data[u'供入电量'] - data[u'供出电量']) / data[u'供入电量']\n",
    "print(data)"
   ]
  },
  {
   "cell_type": "code",
   "execution_count": 4,
   "metadata": {
    "collapsed": true
   },
   "outputs": [],
   "source": [
    "# 保存结果\n",
    "data.to_excel(outfile, index = False)"
   ]
  }
 ],
 "metadata": {
  "kernelspec": {
   "display_name": "Python 3",
   "language": "python",
   "name": "python3"
  },
  "language_info": {
   "codemirror_mode": {
    "name": "ipython",
    "version": 3
   },
   "file_extension": ".py",
   "mimetype": "text/x-python",
   "name": "python",
   "nbconvert_exporter": "python",
   "pygments_lexer": "ipython3",
   "version": "3.6.1"
  }
 },
 "nbformat": 4,
 "nbformat_minor": 2
}

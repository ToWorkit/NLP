{
 "cells": [
  {
   "cell_type": "code",
   "execution_count": 1,
   "metadata": {
    "collapsed": true
   },
   "outputs": [],
   "source": [
    "import pandas as pd"
   ]
  },
  {
   "cell_type": "code",
   "execution_count": 2,
   "metadata": {},
   "outputs": [
    {
     "name": "stdout",
     "output_type": "stream",
     "text": [
      "[[ 41.         3.        17.       ...,   9.3       11.359392   5.008608]\n",
      " [ 27.         1.        10.       ...,  17.3        1.362202   4.000798]\n",
      " [ 40.         1.        15.       ...,   5.5        0.856075   2.168925]\n",
      " ..., \n",
      " [ 33.         1.        15.       ...,   7.6        0.491264   1.940736]\n",
      " [ 45.         1.        19.       ...,   8.4        2.302608   4.165392]\n",
      " [ 37.         1.        12.       ...,  14.7        2.994684   3.473316]]\n",
      "   年龄  教育  工龄  地址   收入   负债率      信用卡负债      其他负债\n",
      "0  41   3  17  12  176   9.3  11.359392  5.008608\n",
      "1  27   1  10   6   31  17.3   1.362202  4.000798\n",
      "2  40   1  15  14   55   5.5   0.856075  2.168925\n",
      "3  41   1  15  14  120   2.9   2.658720  0.821280\n"
     ]
    }
   ],
   "source": [
    "# 数据文件参数\n",
    "filename = 'E:\\\\NLP\\\\Python数据分析与挖掘实战\\\\chapter5\\\\demo\\\\data\\\\bankloan.xls'\n",
    "data = pd.read_excel(filename)\n",
    "# 切片，并转化为 numpy矩阵形式\n",
    "# 取前 8 列数据\n",
    "x = data.iloc[:,:8].as_matrix()\n",
    "# 4行 8列\n",
    "x_ = data.iloc[:4,:8]\n",
    "print(x)\n",
    "print(x_)\n",
    "# data.columns[[2, 3, 4]]"
   ]
  },
  {
   "cell_type": "code",
   "execution_count": 3,
   "metadata": {},
   "outputs": [
    {
     "name": "stdout",
     "output_type": "stream",
     "text": [
      "0    1\n",
      "1    0\n",
      "2    0\n",
      "3    0\n",
      "Name: 违约, dtype: int64\n",
      "[1 0 0 0 1 0 0 0 1 0 0 0 0 0 0 1 1 0 0 0 0 0 0 0 1 0 0 0 0 0 0 0 0 0 0 0 0\n",
      " 0 1 0 0 0 0 0 1 0 0 0 1 0 1 0 1 0 0 1 0 0 0 0 0 1 0 0 0 1 1 0 1 1 0 0 0 0\n",
      " 0 0 0 0 0 0 1 0 0 0 0 0 1 0 0 1 0 1 0 1 1 0 0 0 0 1 0 0 0 0 0 0 1 0 0 0 0\n",
      " 0 0 0 0 0 0 0 1 1 0 1 1 1 0 0 1 0 0 0 0 0 0 0 0 0 0 0 0 1 1 1 0 0 0 0 0 0\n",
      " 0 0 0 1 0 0 0 0 0 1 1 0 0 0 1 0 1 1 1 0 0 0 0 0 1 0 0 0 0 0 0 1 0 0 0 0 0\n",
      " 0 1 0 0 0 1 0 1 1 0 0 1 0 0 1 0 1 0 0 0 0 0 0 0 0 0 1 0 1 0 0 0 0 1 1 0 0\n",
      " 0 1 1 0 0 0 0 0 0 1 0 0 0 0 0 1 0 1 0 0 0 0 0 0 0 0 0 0 0 1 0 0 0 0 0 0 0\n",
      " 0 0 0 0 1 0 0 0 1 0 0 0 0 0 0 0 1 1 0 1 0 1 1 0 0 0 0 0 1 0 0 0 0 0 0 1 0\n",
      " 0 0 1 0 1 0 0 0 0 0 0 0 0 0 1 0 1 0 0 0 0 0 0 1 0 1 0 1 1 1 0 0 0 0 0 1 1\n",
      " 0 0 0 0 0 1 1 0 0 0 1 0 1 0 0 0 0 0 0 0 0 1 1 1 1 0 0 0 0 0 0 1 0 0 0 0 0\n",
      " 0 0 0 1 0 0 0 0 0 0 0 1 1 0 1 0 0 0 0 0 0 1 0 1 1 0 0 0 0 1 0 0 0 1 0 0 0\n",
      " 0 0 0 0 0 0 1 1 0 0 0 1 0 1 0 0 0 1 0 0 0 1 0 1 0 0 1 0 0 0 0 0 0 0 0 0 1\n",
      " 1 0 0 0 1 1 0 0 0 0 1 0 0 0 0 0 0 1 0 0 0 0 1 0 0 1 1 1 0 0 0 0 1 0 0 0 0\n",
      " 1 0 0 1 0 1 1 1 0 0 1 1 1 1 1 0 0 1 1 0 1 0 0 1 0 0 0 0 0 0 0 0 0 1 0 0 0\n",
      " 0 0 0 0 0 0 0 0 0 0 0 1 1 1 1 0 0 0 0 1 0 1 0 0 0 1 0 0 0 0 1 1 1 1 0 0 0\n",
      " 0 0 0 1 0 0 0 0 0 1 1 0 0 1 0 1 0 0 1 1 0 1 0 0 0 0 0 0 1 1 0 0 0 0 1 1 1\n",
      " 0 0 1 0 1 1 0 1 0 0 0 0 1 0 1 0 0 0 1 0 1 0 0 0 1 1 1 0 0 0 0 0 0 0 0 0 0\n",
      " 0 0 0 1 1 0 0 1 1 0 0 0 0 0 0 0 1 0 0 0 0 1 0 0 1 0 0 0 0 0 0 0 1 0 0 0 0\n",
      " 0 0 0 0 0 0 0 1 0 0 0 1 0 0 1 1 0 0 0 1 0 1 0 0 0 0 1 0 0 1 0 0 0 0]\n"
     ]
    }
   ],
   "source": [
    "y_ = data.iloc[:4, 8]\n",
    "print(y_)\n",
    "# 取第 9 列数据\n",
    "y = data.iloc[:, 8].as_matrix()\n",
    "print(y)"
   ]
  },
  {
   "cell_type": "code",
   "execution_count": 4,
   "metadata": {
    "collapsed": true
   },
   "outputs": [],
   "source": [
    "# 逻辑回归\n",
    "from sklearn.linear_model import LogisticRegression as LR\n",
    "# 随机逻辑回归\n",
    "from sklearn.linear_model import RandomizedLogisticRegression as RLR"
   ]
  },
  {
   "cell_type": "code",
   "execution_count": 5,
   "metadata": {},
   "outputs": [
    {
     "name": "stdout",
     "output_type": "stream",
     "text": [
      "通过随机逻辑回归模型筛选特征结束\n",
      "有效特征为: 工龄,地址,负债率,信用卡负债\n",
      "Index(['年龄', '教育', '工龄', '地址', '收入', '负债率', '信用卡负债', '其他负债'], dtype='object')\n",
      "[ 0.08   0.075  0.975  0.365  0.     0.985  0.585  0.035]\n"
     ]
    }
   ],
   "source": [
    "# 建立随机逻辑回归模型，筛选变量\n",
    "# 可以通过 selection_threshold 来设置阈值， 默认为 0.25\n",
    "rlr = RLR()\n",
    "# 训练模型\n",
    "rlr.fit(x, y)\n",
    "# 获取特征筛选结果，也可以通过 .scores_ 方法获取各个特征的分数\n",
    "rlr.get_support()\n",
    "print(u'通过随机逻辑回归模型筛选特征结束')\n",
    "# data.columns[:8] -> 此处需要 列 保持一致\n",
    "print(u'有效特征为: %s' % ','.join(data.columns[:8][rlr.get_support()]))\n",
    "print(data.columns[:8])\n",
    "# 获取各个特征的分数\n",
    "print(rlr.scores_)"
   ]
  },
  {
   "cell_type": "code",
   "execution_count": 6,
   "metadata": {},
   "outputs": [
    {
     "name": "stdout",
     "output_type": "stream",
     "text": [
      "[[ 17.        12.         9.3       11.359392]\n",
      " [ 10.         6.        17.3        1.362202]\n",
      " [ 15.        14.         5.5        0.856075]\n",
      " ..., \n",
      " [ 15.         3.         7.6        0.491264]\n",
      " [ 19.        22.         8.4        2.302608]\n",
      " [ 12.        14.        14.7        2.994684]]\n",
      "逻辑回归模型训练搞定\n",
      "模型的平均正确率为: 0.814285714286\n"
     ]
    }
   ],
   "source": [
    "# 筛选好特征\n",
    "x = data[data.columns[:8][rlr.get_support()]].as_matrix()\n",
    "print(x)\n",
    "# 建立逻辑回归模型\n",
    "lr = LR()\n",
    "# 用筛选后的特征数据来训练模型\n",
    "lr.fit(x, y)\n",
    "print(u'逻辑回归模型训练搞定')\n",
    "print(u'模型的平均正确率为: %s' % lr.score(x, y))"
   ]
  },
  {
   "cell_type": "code",
   "execution_count": null,
   "metadata": {
    "collapsed": true
   },
   "outputs": [],
   "source": []
  }
 ],
 "metadata": {
  "kernelspec": {
   "display_name": "Python 3",
   "language": "python",
   "name": "python3"
  },
  "language_info": {
   "codemirror_mode": {
    "name": "ipython",
    "version": 3
   },
   "file_extension": ".py",
   "mimetype": "text/x-python",
   "name": "python",
   "nbconvert_exporter": "python",
   "pygments_lexer": "ipython3",
   "version": "3.6.1"
  }
 },
 "nbformat": 4,
 "nbformat_minor": 2
}

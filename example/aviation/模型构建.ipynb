{
 "cells": [
  {
   "cell_type": "markdown",
   "metadata": {},
   "source": [
    "1. 根据客户的5个指标数据，对客户进行聚类分群\n",
    "2. 结合业务对每个客户群进行特征分析，分析其客户价值，并对每个客户群进行拍名"
   ]
  },
  {
   "cell_type": "markdown",
   "metadata": {},
   "source": [
    "### 客户聚类\n",
    "> K-Means p_173"
   ]
  },
  {
   "cell_type": "code",
   "execution_count": 1,
   "metadata": {
    "collapsed": true
   },
   "outputs": [],
   "source": [
    "import pandas as pd\n",
    "# 导入K均值聚类算法\n",
    "from sklearn.cluster import KMeans "
   ]
  },
  {
   "cell_type": "code",
   "execution_count": 2,
   "metadata": {},
   "outputs": [],
   "source": [
    "# 带聚类数据文件\n",
    "inputfile = 'E:\\\\NLP\\\\Python_Data_Analysis_And_Mining_Actual_Combat\\\\chapter7\\\\demo\\\\tmp\\\\zscoreddata.xls'\n",
    "# 聚类类别数\n",
    "k = 5"
   ]
  },
  {
   "cell_type": "code",
   "execution_count": 3,
   "metadata": {},
   "outputs": [],
   "source": [
    "# 读取数据\n",
    "data = pd.read_excel(inputfile)"
   ]
  },
  {
   "cell_type": "code",
   "execution_count": 4,
   "metadata": {},
   "outputs": [
    {
     "data": {
      "text/plain": [
       "KMeans(algorithm='auto', copy_x=True, init='k-means++', max_iter=300,\n",
       "    n_clusters=5, n_init=10, n_jobs=4, precompute_distances='auto',\n",
       "    random_state=None, tol=0.0001, verbose=0)"
      ]
     },
     "execution_count": 4,
     "metadata": {},
     "output_type": "execute_result"
    }
   ],
   "source": [
    "# 调用k-means算法进行聚类分析\n",
    "# 聚为 k 类， n_jobs -> 并行数(一般等于cpu数较好)\n",
    "kmodel = KMeans(n_clusters = k, n_jobs = 4)\n",
    "# 训练\n",
    "kmodel.fit(data)"
   ]
  },
  {
   "cell_type": "code",
   "execution_count": 5,
   "metadata": {},
   "outputs": [
    {
     "data": {
      "text/plain": [
       "array([[-0.70054928, -0.41515787, -0.16082531, -0.16059391, -0.25627856],\n",
       "       [ 0.48347647, -0.79941777,  2.48236495,  2.42356419,  0.30943042],\n",
       "       [ 0.05264343, -0.00294098, -0.23034172, -0.23461313,  2.17944049],\n",
       "       [-0.31419802,  1.68658056, -0.57386694, -0.53663955, -0.17214212],\n",
       "       [ 1.16063754, -0.37734893, -0.08700557, -0.09493321, -0.15853913]])"
      ]
     },
     "execution_count": 5,
     "metadata": {},
     "output_type": "execute_result"
    }
   ],
   "source": [
    "# 查看聚类中心\n",
    "kmodel.cluster_centers_"
   ]
  },
  {
   "cell_type": "code",
   "execution_count": 6,
   "metadata": {},
   "outputs": [
    {
     "data": {
      "text/plain": [
       "array([4, 4, 4, ..., 4, 4, 4])"
      ]
     },
     "execution_count": 6,
     "metadata": {},
     "output_type": "execute_result"
    }
   ],
   "source": [
    "# 查看个样本对应的类别\n",
    "kmodel.labels_"
   ]
  },
  {
   "cell_type": "markdown",
   "metadata": {},
   "source": [
    "### 客户价值分析\n",
    "> p_174"
   ]
  },
  {
   "cell_type": "code",
   "execution_count": 8,
   "metadata": {},
   "outputs": [
    {
     "name": "stdout",
     "output_type": "stream",
     "text": [
      "0    24628\n",
      "4    15728\n",
      "3    12121\n",
      "1     5339\n",
      "2     4228\n",
      "dtype: int64\n",
      "          0         1         2         3         4\n",
      "0 -0.700549 -0.415158 -0.160825 -0.160594 -0.256279\n",
      "1  0.483476 -0.799418  2.482365  2.423564  0.309430\n",
      "2  0.052643 -0.002941 -0.230342 -0.234613  2.179440\n",
      "3 -0.314198  1.686581 -0.573867 -0.536640 -0.172142\n",
      "4  1.160638 -0.377349 -0.087006 -0.094933 -0.158539\n",
      "         ZL        ZR        ZF        ZM        ZC   类别数目\n",
      "0 -0.700549 -0.415158 -0.160825 -0.160594 -0.256279  24628\n",
      "1  0.483476 -0.799418  2.482365  2.423564  0.309430   5339\n",
      "2  0.052643 -0.002941 -0.230342 -0.234613  2.179440   4228\n",
      "3 -0.314198  1.686581 -0.573867 -0.536640 -0.172142  12121\n",
      "4  1.160638 -0.377349 -0.087006 -0.094933 -0.158539  15728\n"
     ]
    }
   ],
   "source": [
    "# 简单打印结果\n",
    "# 统计各个类别的数目\n",
    "r1 = pd.Series(kmodel.labels_).value_counts()\n",
    "# 找出聚类中心\n",
    "r2 = pd.DataFrame(kmodel.cluster_centers_)\n",
    "print(r1)\n",
    "print(r2)\n",
    "# 横向连接(0为纵向)，得到聚类中心对应的类别下的数目\n",
    "r = pd.concat([r2, r1], axis = 1)\n",
    "# 重命名表头\n",
    "r.columns = list(data.columns) + [u'类别数目']\n",
    "print(r)"
   ]
  },
  {
   "cell_type": "code",
   "execution_count": null,
   "metadata": {
    "collapsed": true
   },
   "outputs": [],
   "source": []
  }
 ],
 "metadata": {
  "kernelspec": {
   "display_name": "Python 3",
   "language": "python",
   "name": "python3"
  },
  "language_info": {
   "codemirror_mode": {
    "name": "ipython",
    "version": 3
   },
   "file_extension": ".py",
   "mimetype": "text/x-python",
   "name": "python",
   "nbconvert_exporter": "python",
   "pygments_lexer": "ipython3",
   "version": "3.6.1"
  }
 },
 "nbformat": 4,
 "nbformat_minor": 2
}

{
 "cells": [
  {
   "cell_type": "markdown",
   "metadata": {},
   "source": [
    "### 对数据进行基本的探索 -> 返回缺失值个数以及最大最小值"
   ]
  },
  {
   "cell_type": "code",
   "execution_count": 1,
   "metadata": {
    "collapsed": true
   },
   "outputs": [],
   "source": [
    "import pandas as pd"
   ]
  },
  {
   "cell_type": "code",
   "execution_count": 2,
   "metadata": {
    "collapsed": true
   },
   "outputs": [],
   "source": [
    "# 航空原始数据，第一行为属性标签\n",
    "datafile = 'E:\\\\NLP\\\\Python_Data_Analysis_And_Mining_Actual_Combat\\\\chapter7\\\\demo\\\\data\\\\air_data.csv'\n",
    "# 数据探索结果表\n",
    "resultfile = 'E:\\\\NLP\\\\Python_Data_Analysis_And_Mining_Actual_Combat\\\\chapter7\\\\demo\\\\tmp\\\\air_data_result.csv'"
   ]
  },
  {
   "cell_type": "code",
   "execution_count": 4,
   "metadata": {},
   "outputs": [],
   "source": [
    "# 读取数据\n",
    "data = pd.read_csv(datafile)"
   ]
  },
  {
   "cell_type": "code",
   "execution_count": 11,
   "metadata": {
    "scrolled": true
   },
   "outputs": [
    {
     "name": "stdout",
     "output_type": "stream",
     "text": [
      "                         count unique         top   freq      mean       std  \\\n",
      "MEMBER_NO                62988    NaN         NaN    NaN   31494.5   18183.2   \n",
      "FFP_DATE                 62988   3068  2011/01/13    184       NaN       NaN   \n",
      "FIRST_FLIGHT_DATE        62988   3406  2013/02/16     96       NaN       NaN   \n",
      "GENDER                   62985      2           男  48134       NaN       NaN   \n",
      "FFP_TIER                 62988    NaN         NaN    NaN   4.10216  0.373856   \n",
      "WORK_CITY                60719   3310          广州   9385       NaN       NaN   \n",
      "WORK_PROVINCE            59743   1186          广东  17507       NaN       NaN   \n",
      "WORK_COUNTRY             62962    118          CN  57748       NaN       NaN   \n",
      "AGE                      62568    NaN         NaN    NaN   42.4763   9.88591   \n",
      "LOAD_TIME                62988      1  2014/03/31  62988       NaN       NaN   \n",
      "FLIGHT_COUNT             62988    NaN         NaN    NaN   11.8394   14.0495   \n",
      "BP_SUM                   62988    NaN         NaN    NaN   10925.1   16339.5   \n",
      "EP_SUM_YR_1              62988    NaN         NaN    NaN         0         0   \n",
      "EP_SUM_YR_2              62988    NaN         NaN    NaN    265.69    1645.7   \n",
      "SUM_YR_1                 62437    NaN         NaN    NaN   5355.38   8109.45   \n",
      "SUM_YR_2                 62850    NaN         NaN    NaN   5604.03   8703.36   \n",
      "SEG_KM_SUM               62988    NaN         NaN    NaN   17123.9   20960.8   \n",
      "WEIGHTED_SEG_KM          62988    NaN         NaN    NaN   12777.2   17578.6   \n",
      "LAST_FLIGHT_DATE         62988    731  2014/03/31    959       NaN       NaN   \n",
      "AVG_FLIGHT_COUNT         62988    NaN         NaN    NaN   1.54215     1.787   \n",
      "AVG_BP_SUM               62988    NaN         NaN    NaN   1421.44   2083.12   \n",
      "BEGIN_TO_FIRST           62988    NaN         NaN    NaN   120.145   159.573   \n",
      "LAST_TO_END              62988    NaN         NaN    NaN    176.12   183.822   \n",
      "AVG_INTERVAL             62988    NaN         NaN    NaN   67.7498   77.5179   \n",
      "MAX_INTERVAL             62988    NaN         NaN    NaN   166.034   123.397   \n",
      "ADD_POINTS_SUM_YR_1      62988    NaN         NaN    NaN   540.317   3956.08   \n",
      "ADD_POINTS_SUM_YR_2      62988    NaN         NaN    NaN   814.689    5121.8   \n",
      "EXCHANGE_COUNT           62988    NaN         NaN    NaN  0.319775     1.136   \n",
      "avg_discount             62988    NaN         NaN    NaN  0.721558  0.185427   \n",
      "P1Y_Flight_Count         62988    NaN         NaN    NaN   5.76626   7.21092   \n",
      "L1Y_Flight_Count         62988    NaN         NaN    NaN   6.07316   8.17513   \n",
      "P1Y_BP_SUM               62988    NaN         NaN    NaN   5366.72   8537.77   \n",
      "L1Y_BP_SUM               62988    NaN         NaN    NaN   5558.36   9351.96   \n",
      "EP_SUM                   62988    NaN         NaN    NaN    265.69    1645.7   \n",
      "ADD_Point_SUM            62988    NaN         NaN    NaN   1355.01   7868.48   \n",
      "Eli_Add_Point_Sum        62988    NaN         NaN    NaN    1620.7    8294.4   \n",
      "L1Y_ELi_Add_Points       62988    NaN         NaN    NaN   1080.38   5639.86   \n",
      "Points_Sum               62988    NaN         NaN    NaN   12545.8   20507.8   \n",
      "L1Y_Points_Sum           62988    NaN         NaN    NaN   6638.74   12601.8   \n",
      "Ration_L1Y_Flight_Count  62988    NaN         NaN    NaN  0.486419  0.319105   \n",
      "Ration_P1Y_Flight_Count  62988    NaN         NaN    NaN  0.513581  0.319105   \n",
      "Ration_P1Y_BPS           62988    NaN         NaN    NaN  0.522293  0.339632   \n",
      "Ration_L1Y_BPS           62988    NaN         NaN    NaN  0.468422  0.338956   \n",
      "Point_NotFlight          62988    NaN         NaN    NaN   2.72815   7.36416   \n",
      "\n",
      "                          min       50%       max  \n",
      "MEMBER_NO                   1   31494.5     62988  \n",
      "FFP_DATE                  NaN       NaN       NaN  \n",
      "FIRST_FLIGHT_DATE         NaN       NaN       NaN  \n",
      "GENDER                    NaN       NaN       NaN  \n",
      "FFP_TIER                    4         4         6  \n",
      "WORK_CITY                 NaN       NaN       NaN  \n",
      "WORK_PROVINCE             NaN       NaN       NaN  \n",
      "WORK_COUNTRY              NaN       NaN       NaN  \n",
      "AGE                         6        41       110  \n",
      "LOAD_TIME                 NaN       NaN       NaN  \n",
      "FLIGHT_COUNT                2         7       213  \n",
      "BP_SUM                      0      5700    505308  \n",
      "EP_SUM_YR_1                 0         0         0  \n",
      "EP_SUM_YR_2                 0         0     74460  \n",
      "SUM_YR_1                    0      2800    239560  \n",
      "SUM_YR_2                    0      2773    234188  \n",
      "SEG_KM_SUM                368      9994    580717  \n",
      "WEIGHTED_SEG_KM             0   6978.26    558440  \n",
      "LAST_FLIGHT_DATE          NaN       NaN       NaN  \n",
      "AVG_FLIGHT_COUNT         0.25     0.875    26.625  \n",
      "AVG_BP_SUM                  0   752.375   63163.5  \n",
      "BEGIN_TO_FIRST              0        50       729  \n",
      "LAST_TO_END                 1       108       731  \n",
      "AVG_INTERVAL                0   44.6667       728  \n",
      "MAX_INTERVAL                0       143       728  \n",
      "ADD_POINTS_SUM_YR_1         0         0    600000  \n",
      "ADD_POINTS_SUM_YR_2         0         0    728282  \n",
      "EXCHANGE_COUNT              0         0        46  \n",
      "avg_discount                0  0.711856       1.5  \n",
      "P1Y_Flight_Count            0         3       118  \n",
      "L1Y_Flight_Count            0         3       111  \n",
      "P1Y_BP_SUM                  0      2692    246197  \n",
      "L1Y_BP_SUM                  0      2547    259111  \n",
      "EP_SUM                      0         0     74460  \n",
      "ADD_Point_SUM               0         0    984938  \n",
      "Eli_Add_Point_Sum           0         0    984938  \n",
      "L1Y_ELi_Add_Points          0         0    728282  \n",
      "Points_Sum                  0    6328.5    985572  \n",
      "L1Y_Points_Sum              0    2860.5    728282  \n",
      "Ration_L1Y_Flight_Count     0       0.5         1  \n",
      "Ration_P1Y_Flight_Count     0       0.5         1  \n",
      "Ration_P1Y_BPS              0  0.514252  0.999989  \n",
      "Ration_L1Y_BPS              0  0.476747  0.999993  \n",
      "Point_NotFlight             0         0       140  \n"
     ]
    }
   ],
   "source": [
    "# 对数据的基本描述，percentiles参数是指定计算多少的分位数表(如1/4分位，中位数等)\n",
    "# T 转置，转置后更加方便查阅\n",
    "explore = data.describe(percentiles = [], include = 'all').T\n",
    "# describe() 函数会自动计算非空数值数，空值数需要手动计算\n",
    "explore['null'] = len(data) - explore['count']\n",
    "print(explore)"
   ]
  },
  {
   "cell_type": "code",
   "execution_count": null,
   "metadata": {
    "collapsed": true
   },
   "outputs": [],
   "source": []
  }
 ],
 "metadata": {
  "kernelspec": {
   "display_name": "Python 3",
   "language": "python",
   "name": "python3"
  },
  "language_info": {
   "codemirror_mode": {
    "name": "ipython",
    "version": 3
   },
   "file_extension": ".py",
   "mimetype": "text/x-python",
   "name": "python",
   "nbconvert_exporter": "python",
   "pygments_lexer": "ipython3",
   "version": "3.6.1"
  }
 },
 "nbformat": 4,
 "nbformat_minor": 2
}

{
 "cells": [
  {
   "cell_type": "code",
   "execution_count": null,
   "metadata": {
    "collapsed": true
   },
   "outputs": [],
   "source": [
    "from numpy import *\n",
    "# 操作\n",
    "# Python内部操作符对应的函数。这些函数主要分为几类：对象比较、逻辑比较、算术运算和序列操作\n",
    "import operator\n",
    "from os import listdir\n",
    "#从列方向扩展\n",
    "#tile(a,(size,1))"
   ]
  },
  {
   "cell_type": "code",
   "execution_count": null,
   "metadata": {
    "collapsed": true
   },
   "outputs": [],
   "source": [
    "# k -> k近邻的参考个数\n",
    "# testdata -> 测试数据\n",
    "# traindata -> 训练数据集\n",
    "# labels -> 标签类别名\n",
    "def knn(k,testdata,traindata,labels):\n",
    "    # shape -> 获取行列 -> list[]格式\n",
    "    # 获取行 -> 多少个\n",
    "    traindatasize=traindata.shape[0]\n",
    "    # 解决测试数据和训练数据维度不一样的情况\n",
    "    # 将测试数据维度扩展至训练数据维度(保持一致)\n",
    "    # tile -> 扩展\n",
    "    # 从列方向扩展\n",
    "    # 计算测试集和训练集的差值\n",
    "    dif=tile(testdata,(traindatasize,1))-traindata\n",
    "    # 欧式距离公式\n",
    "    # 计算平方再求和然后在开方\n",
    "    sqdif=dif**2\n",
    "    # 一行中的各列求和 axis = 1 -> 行\n",
    "    sumsqdif=sqdif.sum(axis=1)\n",
    "    # 开方\n",
    "    distance=sumsqdif**0.5\n",
    "    # 排序升序，从小到大(显示的是原数据的下标)\n",
    "    sortdistance=distance.argsort()\n",
    "    count={}\n",
    "    # 取 k 个\n",
    "    for i in range(0,k):\n",
    "        vote=labels[sortdistance[i]]\n",
    "        # vote 出现的次数 + 1\n",
    "        # count[vote] -> {vote: 次数}\n",
    "        count[vote]=count.get(vote,0)+1\n",
    "    # 排序 -> 数据，排序依据(次数), 从大到小(默认为升序)\n",
    "    '''\n",
    "        a = [1,2,3] \n",
    "        b=operator.itemgetter(1)      //定义函数b，获取对象下标为1的值\n",
    "        b(a) \n",
    "    2\n",
    "        b=operator.itemgetter(1,0)  //定义函数b，获取对象下标为1的值和为0的值\n",
    "        b(a) \n",
    "    (2, 1)\n",
    "    '''\n",
    "    sortcount=sorted(count.items(),key=operator.itemgetter(1),reverse=True)\n",
    "    # {vote: 次数}\n",
    "    # 取值\n",
    "    # vote\n",
    "    return sortcount[0][0]"
   ]
  }
 ],
 "metadata": {
  "kernelspec": {
   "display_name": "Python 3",
   "language": "python",
   "name": "python3"
  },
  "language_info": {
   "codemirror_mode": {
    "name": "ipython",
    "version": 3
   },
   "file_extension": ".py",
   "mimetype": "text/x-python",
   "name": "python",
   "nbconvert_exporter": "python",
   "pygments_lexer": "ipython3",
   "version": "3.6.1"
  }
 },
 "nbformat": 4,
 "nbformat_minor": 2
}

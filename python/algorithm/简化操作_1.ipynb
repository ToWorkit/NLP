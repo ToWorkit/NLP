{
 "cells": [
  {
   "cell_type": "markdown",
   "metadata": {},
   "source": [
    "## map(), reduce(), filter() 的循环速度要比内置的for或者while快很多"
   ]
  },
  {
   "cell_type": "code",
   "execution_count": 1,
   "metadata": {},
   "outputs": [
    {
     "name": "stdout",
     "output_type": "stream",
     "text": [
      "[3, 4, 5]\n",
      "[3, 8, 15]\n"
     ]
    }
   ],
   "source": [
    "# copy 列表并给每个元素都加2\n",
    "a = [1, 2, 3]\n",
    "b = map(lambda x: x + 2, a)\n",
    "# 因为map函数仅仅是创建一个待运行的命令容器，只有其他的函数调用时才会返回结果\n",
    "b = list(b)\n",
    "print(b)\n",
    "# 同时操作两个列表\n",
    "c = map(lambda x,y: x * y, a, b)\n",
    "print(list(c))"
   ]
  },
  {
   "cell_type": "code",
   "execution_count": 2,
   "metadata": {},
   "outputs": [
    {
     "name": "stdout",
     "output_type": "stream",
     "text": [
      "3628800\n"
     ]
    }
   ],
   "source": [
    "# 递归计算\n",
    "# 10 的阶乘\n",
    "from functools import reduce\n",
    "print(reduce(lambda x, y: x * y, range(1, 10 + 1)))"
   ]
  },
  {
   "cell_type": "code",
   "execution_count": 3,
   "metadata": {},
   "outputs": [
    {
     "name": "stdout",
     "output_type": "stream",
     "text": [
      "[6, 7, 8]\n",
      "[6, 7, 8]\n"
     ]
    }
   ],
   "source": [
    "# 过滤器\n",
    "b = [i for i in range(10) if i > 5 and i < 9]\n",
    "print(b)\n",
    "# 简化\n",
    "a = filter(lambda x: x > 5 and x < 9, range(10))\n",
    "# filter 函数仅仅是创建一个待运行的命令容器，只有其他的函数调用时才会返回结果\n",
    "print(list(a))"
   ]
  },
  {
   "cell_type": "code",
   "execution_count": null,
   "metadata": {
    "collapsed": true
   },
   "outputs": [],
   "source": []
  }
 ],
 "metadata": {
  "kernelspec": {
   "display_name": "Python 3",
   "language": "python",
   "name": "python3"
  },
  "language_info": {
   "codemirror_mode": {
    "name": "ipython",
    "version": 3
   },
   "file_extension": ".py",
   "mimetype": "text/x-python",
   "name": "python",
   "nbconvert_exporter": "python",
   "pygments_lexer": "ipython3",
   "version": "3.6.1"
  }
 },
 "nbformat": 4,
 "nbformat_minor": 2
}

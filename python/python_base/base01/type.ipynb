{
 "cells": [
  {
   "cell_type": "code",
   "execution_count": 1,
   "metadata": {},
   "outputs": [
    {
     "data": {
      "text/plain": [
       "str"
      ]
     },
     "execution_count": 1,
     "metadata": {},
     "output_type": "execute_result"
    }
   ],
   "source": [
    "type(\"Hello\")"
   ]
  },
  {
   "cell_type": "code",
   "execution_count": 2,
   "metadata": {},
   "outputs": [
    {
     "data": {
      "text/plain": [
       "'l'"
      ]
     },
     "execution_count": 2,
     "metadata": {},
     "output_type": "execute_result"
    }
   ],
   "source": [
    "str = \"Hello World\"\n",
    "str[-2]"
   ]
  },
  {
   "cell_type": "markdown",
   "metadata": {},
   "source": [
    "## 翻转"
   ]
  },
  {
   "cell_type": "code",
   "execution_count": 3,
   "metadata": {},
   "outputs": [
    {
     "data": {
      "text/plain": [
       "'dlroW olleH'"
      ]
     },
     "execution_count": 3,
     "metadata": {},
     "output_type": "execute_result"
    }
   ],
   "source": [
    "str[::-1]"
   ]
  },
  {
   "cell_type": "markdown",
   "metadata": {},
   "source": [
    "## 字符串指定分割"
   ]
  },
  {
   "cell_type": "code",
   "execution_count": 13,
   "metadata": {},
   "outputs": [
    {
     "name": "stdout",
     "output_type": "stream",
     "text": [
      "['Hello', 'Hello World, I Love You, You Love Me, I Love You And You Love Me']\n"
     ]
    }
   ],
   "source": [
    "str_1 = \"Hello, Hello World, I Love You, You Love Me, I Love You And You Love Me\"\n",
    "# 只分割一次\n",
    "str_1_1 = str_1.split(', ', maxsplit = 1);\n",
    "print(str_1_1)"
   ]
  },
  {
   "cell_type": "code",
   "execution_count": 6,
   "metadata": {},
   "outputs": [
    {
     "name": "stdout",
     "output_type": "stream",
     "text": [
      "Hello-Hello World-I Love You-You Love Me-I Love You And You Love Me\n"
     ]
    }
   ],
   "source": [
    "str_2 = \"-\".join([\"Hello\", \"Hello World\", \"I Love You\", \"You Love Me\", \"I Love You And You Love Me\"]);\n",
    "print(str_2)\n",
    "# 以 , 分割的数据格式为 csv 数据格式"
   ]
  },
  {
   "cell_type": "markdown",
   "metadata": {},
   "source": [
    "## 替换一次"
   ]
  },
  {
   "cell_type": "code",
   "execution_count": 14,
   "metadata": {},
   "outputs": [
    {
     "name": "stdout",
     "output_type": "stream",
     "text": [
      "H, Hello World, I Love You, You Love Me, I Love You And You Love Me\n"
     ]
    }
   ],
   "source": [
    "str_1 = str_1.replace(\"Hello\", \"H\", 1);\n",
    "print(str_1)"
   ]
  },
  {
   "cell_type": "markdown",
   "metadata": {},
   "source": [
    "## 字符串操作"
   ]
  },
  {
   "cell_type": "code",
   "execution_count": 16,
   "metadata": {},
   "outputs": [
    {
     "name": "stdout",
     "output_type": "stream",
     "text": [
      "True\n"
     ]
    }
   ],
   "source": [
    "str_02 = \"Hello, Hello World, I Love You, You Love Me, I Love You And You Love Me\";\n",
    "# 以什么开头\n",
    "print(str_02.startswith(\"Hello\"));"
   ]
  },
  {
   "cell_type": "code",
   "execution_count": 17,
   "metadata": {},
   "outputs": [
    {
     "name": "stdout",
     "output_type": "stream",
     "text": [
      "True\n"
     ]
    }
   ],
   "source": [
    "# 以什么结尾\n",
    "print(str_02.endswith(\"Me\"));"
   ]
  },
  {
   "cell_type": "code",
   "execution_count": 38,
   "metadata": {},
   "outputs": [
    {
     "name": "stdout",
     "output_type": "stream",
     "text": [
      "22\n",
      "L\n",
      "Love You, You Love Me, I Love You And You Love Me\n"
     ]
    }
   ],
   "source": [
    "# 查找元素\n",
    "index = str_02.find(\"Love\")\n",
    "print(str_02.find(\"Love\"));\n",
    "print(str_02[index])\n",
    "print(str_02[index:])\n",
    "# 要查找的，开始的索引(默认为0)\n",
    "print(str_02.find(\"Love\", index));"
   ]
  },
  {
   "cell_type": "code",
   "execution_count": 22,
   "metadata": {},
   "outputs": [
    {
     "name": "stdout",
     "output_type": "stream",
     "text": [
      "True\n"
     ]
    }
   ],
   "source": [
    "str_03 = \"abcd21ef\"\n",
    "# 查找数字\n",
    "print(str_03.isalnum())"
   ]
  },
  {
   "cell_type": "code",
   "execution_count": 24,
   "metadata": {},
   "outputs": [
    {
     "name": "stdout",
     "output_type": "stream",
     "text": [
      "4\n"
     ]
    }
   ],
   "source": [
    "# 计数\n",
    "print(str_02.count(\"Love\"));"
   ]
  },
  {
   "cell_type": "markdown",
   "metadata": {},
   "source": [
    "## 查看方法的解释"
   ]
  },
  {
   "cell_type": "code",
   "execution_count": 48,
   "metadata": {
    "collapsed": true
   },
   "outputs": [],
   "source": [
    "?str_03.isalnum"
   ]
  },
  {
   "cell_type": "markdown",
   "metadata": {},
   "source": [
    "## 字符串占位符"
   ]
  },
  {
   "cell_type": "code",
   "execution_count": 29,
   "metadata": {},
   "outputs": [
    {
     "name": "stdout",
     "output_type": "stream",
     "text": [
      "Hello World 嗯\n"
     ]
    }
   ],
   "source": [
    "print(\"Hello %s %s\" % (\"World\", \"\"));"
   ]
  },
  {
   "cell_type": "code",
   "execution_count": 32,
   "metadata": {},
   "outputs": [
    {
     "name": "stdout",
     "output_type": "stream",
     "text": [
      "Hello World 嗯\n"
     ]
    }
   ],
   "source": [
    "# python 3.x\n",
    "print(\"Hello {} {}\".format(\"World\", \"嗯\"))"
   ]
  },
  {
   "cell_type": "code",
   "execution_count": 33,
   "metadata": {},
   "outputs": [
    {
     "name": "stdout",
     "output_type": "stream",
     "text": [
      "1 2\n"
     ]
    }
   ],
   "source": [
    "print(\"%d %d\" % (1, 2))"
   ]
  },
  {
   "cell_type": "code",
   "execution_count": 34,
   "metadata": {},
   "outputs": [
    {
     "name": "stdout",
     "output_type": "stream",
     "text": [
      "Hello 嗯 World\n"
     ]
    }
   ],
   "source": [
    "# python 3.x\n",
    "print(\"Hello {first} {second}\".format(second = \"World\", first = \"嗯\"))"
   ]
  },
  {
   "cell_type": "code",
   "execution_count": 35,
   "metadata": {},
   "outputs": [
    {
     "name": "stdout",
     "output_type": "stream",
     "text": [
      "two one\n"
     ]
    }
   ],
   "source": [
    "print(\"{1} {0}\".format(\"one\", \"two\"))"
   ]
  },
  {
   "cell_type": "markdown",
   "metadata": {},
   "source": [
    "## 格式化"
   ]
  },
  {
   "cell_type": "code",
   "execution_count": 36,
   "metadata": {},
   "outputs": [
    {
     "name": "stdout",
     "output_type": "stream",
     "text": [
      "Sum 3 and Mount 2\n"
     ]
    }
   ],
   "source": [
    "a = 1\n",
    "b = 2\n",
    "print(f\"Sum {a + b} and Mount {a * b}\")"
   ]
  },
  {
   "cell_type": "code",
   "execution_count": 37,
   "metadata": {},
   "outputs": [
    {
     "name": "stdout",
     "output_type": "stream",
     "text": [
      "Hello Job, How's it Hello\n"
     ]
    }
   ],
   "source": [
    "name = \"Job\"\n",
    "question = \"Hello\"\n",
    "print(f\"Hello {name}, How's it {question}\")"
   ]
  },
  {
   "cell_type": "markdown",
   "metadata": {},
   "source": [
    "## 系统变量"
   ]
  },
  {
   "cell_type": "code",
   "execution_count": 41,
   "metadata": {},
   "outputs": [
    {
     "name": "stdout",
     "output_type": "stream",
     "text": [
      "print(value, ..., sep=' ', end='\\n', file=sys.stdout, flush=False)\n",
      "\n",
      "Prints the values to a stream, or to sys.stdout by default.\n",
      "Optional keyword arguments:\n",
      "file:  a file-like object (stream); defaults to the current sys.stdout.\n",
      "sep:   string inserted between values, default a space.\n",
      "end:   string appended after the last value, default a newline.\n",
      "flush: whether to forcibly flush the stream.\n"
     ]
    }
   ],
   "source": [
    "# 文档\n",
    "print(print.__doc__)"
   ]
  },
  {
   "cell_type": "markdown",
   "metadata": {},
   "source": [
    "## 查看最后的值，可做调试使用"
   ]
  },
  {
   "cell_type": "code",
   "execution_count": 42,
   "metadata": {},
   "outputs": [
    {
     "name": "stdout",
     "output_type": "stream",
     "text": [
      "while count:  0\n",
      "while count:  1\n",
      "while count:  2\n",
      "while count:  3\n",
      "while count:  4\n",
      "while count:  5\n",
      "while count:  6\n",
      "while count:  7\n",
      "while count:  8\n",
      "while count:  9\n",
      "while count:  10\n",
      "else:  11\n"
     ]
    }
   ],
   "source": [
    "count = 0\n",
    "while count < 11:\n",
    "    print(\"while count: \", count)\n",
    "    count += 1\n",
    "else:\n",
    "    print(\"else: \", count)"
   ]
  },
  {
   "cell_type": "markdown",
   "metadata": {},
   "source": [
    "## while中出现break时，else语句不会执行"
   ]
  },
  {
   "cell_type": "code",
   "execution_count": 43,
   "metadata": {},
   "outputs": [
    {
     "name": "stdout",
     "output_type": "stream",
     "text": [
      "while count:  0\n",
      "while count:  1\n",
      "while count:  2\n",
      "while count:  3\n",
      "while count:  4\n",
      "while count:  5\n",
      "while count:  6\n",
      "while count:  7\n",
      "while count:  8\n",
      "while count:  9\n",
      "while count:  10\n"
     ]
    }
   ],
   "source": [
    "count = 0\n",
    "while count < 11:\n",
    "    print(\"while count: \", count)\n",
    "    count += 1\n",
    "    if(count == 11):\n",
    "        break;\n",
    "else:\n",
    "    print(\"else: \", count)"
   ]
  },
  {
   "cell_type": "markdown",
   "metadata": {},
   "source": [
    "## 作用域"
   ]
  },
  {
   "cell_type": "code",
   "execution_count": 46,
   "metadata": {},
   "outputs": [
    {
     "name": "stdout",
     "output_type": "stream",
     "text": [
      "2\n",
      "1\n"
     ]
    }
   ],
   "source": [
    "x = 1\n",
    "def test():\n",
    "    x = 2\n",
    "    print(x)\n",
    "test()\n",
    "print(x)"
   ]
  },
  {
   "cell_type": "code",
   "execution_count": 47,
   "metadata": {},
   "outputs": [
    {
     "name": "stdout",
     "output_type": "stream",
     "text": [
      "2\n",
      "2\n"
     ]
    }
   ],
   "source": [
    "# 使用 global 声明全局\n",
    "x = 1\n",
    "def test():\n",
    "    global x\n",
    "    x = 2\n",
    "    print(x)\n",
    "test()\n",
    "print(x)"
   ]
  },
  {
   "cell_type": "code",
   "execution_count": null,
   "metadata": {
    "collapsed": true
   },
   "outputs": [],
   "source": []
  }
 ],
 "metadata": {
  "kernelspec": {
   "display_name": "Python 3",
   "language": "python",
   "name": "python3"
  },
  "language_info": {
   "codemirror_mode": {
    "name": "ipython",
    "version": 3
   },
   "file_extension": ".py",
   "mimetype": "text/x-python",
   "name": "python",
   "nbconvert_exporter": "python",
   "pygments_lexer": "ipython3",
   "version": "3.6.1"
  }
 },
 "nbformat": 4,
 "nbformat_minor": 2
}

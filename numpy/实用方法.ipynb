{
 "cells": [
  {
   "cell_type": "code",
   "execution_count": 1,
   "metadata": {
    "collapsed": true
   },
   "outputs": [],
   "source": [
    "import numpy as np"
   ]
  },
  {
   "cell_type": "markdown",
   "metadata": {},
   "source": [
    "### 将一个固定区间均等分成点数，使用linspace"
   ]
  },
  {
   "cell_type": "code",
   "execution_count": 2,
   "metadata": {},
   "outputs": [
    {
     "data": {
      "text/plain": [
       "array([ 1. ,  2.6,  4.2,  5.8,  7.4,  9. ])"
      ]
     },
     "execution_count": 2,
     "metadata": {},
     "output_type": "execute_result"
    }
   ],
   "source": [
    "# 将[1, 9]固定区间分成 6 个均匀的点\n",
    "np.linspace(1, 9, 6)"
   ]
  },
  {
   "cell_type": "code",
   "execution_count": 6,
   "metadata": {},
   "outputs": [
    {
     "name": "stdout",
     "output_type": "stream",
     "text": [
      "[ 0.1918416  -1.15883418  0.91104982 -0.81993462  0.9836794 ]\n",
      "[1 1 2] [-1.   0.   0.5  5. ]\n"
     ]
    }
   ],
   "source": [
    "# 对数据进行按区间统计计数\n",
    "data = np.random.randn(5)\n",
    "print(data)\n",
    "hist, bin_edges = np.histogram(data, [-1, 0, 0.5, 5.0])\n",
    "# 前闭后开区间 [-1, 0)中有1个 [0, 0.5)中有1个，{0.5，5）中有2个\n",
    "print(hist, bin_edges)"
   ]
  },
  {
   "cell_type": "code",
   "execution_count": null,
   "metadata": {
    "collapsed": true
   },
   "outputs": [],
   "source": [
    "# 使用"
   ]
  }
 ],
 "metadata": {
  "kernelspec": {
   "display_name": "Python 3",
   "language": "python",
   "name": "python3"
  },
  "language_info": {
   "codemirror_mode": {
    "name": "ipython",
    "version": 3
   },
   "file_extension": ".py",
   "mimetype": "text/x-python",
   "name": "python",
   "nbconvert_exporter": "python",
   "pygments_lexer": "ipython3",
   "version": "3.6.1"
  }
 },
 "nbformat": 4,
 "nbformat_minor": 2
}

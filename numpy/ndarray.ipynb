{
 "cells": [
  {
   "cell_type": "markdown",
   "metadata": {},
   "source": [
    "# adarray -> 多维数组对象"
   ]
  },
  {
   "cell_type": "code",
   "execution_count": 1,
   "metadata": {
    "collapsed": true
   },
   "outputs": [],
   "source": [
    "import numpy as np"
   ]
  },
  {
   "cell_type": "code",
   "execution_count": 2,
   "metadata": {},
   "outputs": [
    {
     "name": "stdout",
     "output_type": "stream",
     "text": [
      "[  1.    2.3   9.    0.   10. ]\n"
     ]
    }
   ],
   "source": [
    "# 创建\n",
    "data = [1, 2.3, 9, 0, 10]\n",
    "arr = np.array(data)\n",
    "# 吃鲸，居然木有逗号分隔\n",
    "print(arr)"
   ]
  },
  {
   "cell_type": "markdown",
   "metadata": {},
   "source": [
    "## 嵌套序列(由一组等长列表组成的列表)会转换为多维数组"
   ]
  },
  {
   "cell_type": "code",
   "execution_count": 3,
   "metadata": {},
   "outputs": [
    {
     "name": "stdout",
     "output_type": "stream",
     "text": [
      "[[1 2 2 1]\n",
      " [3 4 4 3]]\n",
      "2\n",
      "(2, 4)\n"
     ]
    }
   ],
   "source": [
    "data_1 = [[1, 2, 2, 1], [3, 4, 4, 3]]\n",
    "arr_1 = np.array(data_1)\n",
    "print(arr_1)\n",
    "# 项\n",
    "print(arr_1.ndim)\n",
    "# 长度，2 行，4列\n",
    "print(arr_1.shape)"
   ]
  },
  {
   "cell_type": "markdown",
   "metadata": {},
   "source": [
    "## zeros -> 全零，ones -> 全1"
   ]
  },
  {
   "cell_type": "code",
   "execution_count": 5,
   "metadata": {},
   "outputs": [
    {
     "name": "stdout",
     "output_type": "stream",
     "text": [
      "[ 0.  0.  0.  0.  0.  0.  0.  0.  0.  0.]\n",
      "[ 1.  1.  1.  1.  1.  1.  1.  1.  1.  1.]\n",
      "[[ 0.  0.  0.  0.  0.]\n",
      " [ 0.  0.  0.  0.  0.]\n",
      " [ 0.  0.  0.  0.  0.]]\n"
     ]
    }
   ],
   "source": [
    "zeros_ = np.zeros(10)\n",
    "print(zeros_)\n",
    "ones_ = np.ones(10)\n",
    "print(ones_)\n",
    "# 参数为元组形式 (3, 5) -> 3 行，5列\n",
    "zeros_01 = np.zeros((3, 5))\n",
    "print(zeros_01)"
   ]
  },
  {
   "cell_type": "markdown",
   "metadata": {},
   "source": [
    "## empty -> 创建一个没有任何具体值的数组"
   ]
  },
  {
   "cell_type": "code",
   "execution_count": 6,
   "metadata": {},
   "outputs": [
    {
     "name": "stdout",
     "output_type": "stream",
     "text": [
      "[[[  3.64893566e-316   3.64977360e-316   5.07627850e-310   1.26927730e-277\n",
      "     1.19293694e-307]\n",
      "  [  3.32653182e-111   3.99815252e+252   1.33360345e+241   2.36008372e-310\n",
      "     6.21805552e+175]\n",
      "  [  2.71115985e-181   5.82388376e-313   9.10016856e+276   1.29722313e-277\n",
      "     1.79292066e-313]\n",
      "  [  9.11750439e-304   6.11996055e+067   2.74683061e-312   6.14372935e+257\n",
      "     1.32915991e-311]]\n",
      "\n",
      " [[  2.95526650e-287   3.06528923e-313   1.26585842e-306   3.65881448e+233\n",
      "     3.99550968e+252]\n",
      "  [  1.73073372e-308   1.33360345e+241   4.04452398e-311   1.16443429e-171\n",
      "     9.00687745e-313]\n",
      "  [  4.44387685e+252   3.63938643e-306   1.33360302e+241   1.43659115e-310\n",
      "     5.03961303e-266]\n",
      "  [  3.99046880e-008   1.54544953e-310   4.02977901e-270   1.45177583e-231\n",
      "     2.76472359e-306]]]\n"
     ]
    }
   ],
   "source": [
    "# 参数为 元组 形式 -> 2 项， 4 行， 5 列\n",
    "ememem = np.empty((2, 4, 5))\n",
    "print(ememem)"
   ]
  },
  {
   "cell_type": "markdown",
   "metadata": {},
   "source": [
    "## arange -> 参考python的range数组"
   ]
  },
  {
   "cell_type": "code",
   "execution_count": 8,
   "metadata": {},
   "outputs": [
    {
     "name": "stdout",
     "output_type": "stream",
     "text": [
      "[ 0  1  2  3  4  5  6  7  8  9 10 11 12 13 14]\n"
     ]
    }
   ],
   "source": [
    "ara_ = np.arange(15)\n",
    "print(ara_)"
   ]
  },
  {
   "cell_type": "markdown",
   "metadata": {},
   "source": [
    "## 矢量化 -> 不使用循环即可对数据执行批量运算\n",
    "### 不同大小的数组之间的运算叫作广播"
   ]
  },
  {
   "cell_type": "code",
   "execution_count": 11,
   "metadata": {},
   "outputs": [
    {
     "name": "stdout",
     "output_type": "stream",
     "text": [
      "[[  4.   9.   1.]\n",
      " [ 16.  36.  64.]]\n",
      "[[ 0.  0.  0.]\n",
      " [ 0.  0.  0.]]\n",
      "[[ 0.5         0.33333333  1.        ]\n",
      " [ 0.25        0.16666667  0.125     ]]\n",
      "[[ 1.41421356  1.73205081  1.        ]\n",
      " [ 2.          2.44948974  2.82842712]]\n"
     ]
    }
   ],
   "source": [
    "arr = np.array([[2., 3., 1.], [4., 6., 8.]])\n",
    "# 自己操作自己\n",
    "print(arr * arr)\n",
    "print(arr - arr)\n",
    "# 数组与标量的算术运算会将标量传播到各个元素上(对每个元素都做操作)\n",
    "print(1 / arr)\n",
    "# 0.5 次幂\n",
    "print(arr ** 0.5)"
   ]
  },
  {
   "cell_type": "markdown",
   "metadata": {},
   "source": [
    "## 索引和切片"
   ]
  },
  {
   "cell_type": "code",
   "execution_count": 13,
   "metadata": {},
   "outputs": [
    {
     "name": "stdout",
     "output_type": "stream",
     "text": [
      "[0 1 2 3 4 5 6 7 8 9]\n",
      "5\n",
      "[2 3]\n"
     ]
    }
   ],
   "source": [
    "arr = np.arange(10)\n",
    "print(arr)\n",
    "# 取下标为 5 的\n",
    "print(arr[5])\n",
    "# 含头不含尾\n",
    "print(arr[2: 4])"
   ]
  },
  {
   "cell_type": "code",
   "execution_count": 19,
   "metadata": {},
   "outputs": [
    {
     "name": "stdout",
     "output_type": "stream",
     "text": [
      "[ 0  1  2 11 11 11  6  7  8  9]\n",
      "[  0   1   2  11 666  11   6   7   8   9]\n",
      "[  0   1   2  11 666  11   6   7   8   9]\n",
      "[  7 222]\n",
      "[0 1]\n"
     ]
    }
   ],
   "source": [
    "# 当给一个切片赋值标量时，会自动广播到切片数据的所有项\n",
    "arr[3: 6] = 11\n",
    "print(arr)\n",
    "# 切片是对原始数组做操作，有任何修改同样会影响原数据\n",
    "# [:] -> 代表所有项\n",
    "arr_slice = arr[2: 5]\n",
    "arr_slice[2] = 666\n",
    "print(arr)\n",
    "# 使用copy复制数据，修改copy的数据不会影响原数据\n",
    "arr_copy = arr[7: 9].copy()\n",
    "arr_copy[1] = 222\n",
    "print(arr)\n",
    "print(arr_copy)\n",
    "print(arr[:2])"
   ]
  },
  {
   "cell_type": "code",
   "execution_count": 20,
   "metadata": {},
   "outputs": [
    {
     "name": "stdout",
     "output_type": "stream",
     "text": [
      "[ 1.   2.   0.2  0.   0.   0.9]\n"
     ]
    }
   ],
   "source": [
    "# 将数据中的 负值 全设置为 0\n",
    "data = np.array([1, 2, 0.2, -2, -1, 0.9])\n",
    "data[data < 0] = 0\n",
    "print(data)"
   ]
  },
  {
   "cell_type": "markdown",
   "metadata": {},
   "source": [
    "## 数组转置和轴对换"
   ]
  },
  {
   "cell_type": "code",
   "execution_count": 27,
   "metadata": {},
   "outputs": [
    {
     "name": "stdout",
     "output_type": "stream",
     "text": [
      "[ 0  1  2  3  4  5  6  7  8  9 10 11 12 13 14]\n",
      "[[ 0  1  2  3  4]\n",
      " [ 5  6  7  8  9]\n",
      " [10 11 12 13 14]]\n",
      "[[ 0  5 10]\n",
      " [ 1  6 11]\n",
      " [ 2  7 12]\n",
      " [ 3  8 13]\n",
      " [ 4  9 14]]\n"
     ]
    }
   ],
   "source": [
    "arr = np.arange(15)\n",
    "print(arr)\n",
    "# 传入的参数是 元组\n",
    "arr_reshape = arr.reshape((3, 5))\n",
    "# 3 行 5 列\n",
    "print(arr_reshape)\n",
    "# 转置\n",
    "# 轴对换\n",
    "print(arr_reshape.T)"
   ]
  },
  {
   "cell_type": "markdown",
   "metadata": {},
   "source": [
    "## where -> 逻辑语句"
   ]
  },
  {
   "cell_type": "code",
   "execution_count": 32,
   "metadata": {},
   "outputs": [
    {
     "name": "stdout",
     "output_type": "stream",
     "text": [
      "[[ 0.59226027 -1.29420885  1.25007591  0.60481789]\n",
      " [ 0.22206609  0.21107414  0.08754141  2.00620292]\n",
      " [ 1.22061636 -0.0874622  -0.13414211  1.9638952 ]\n",
      " [ 1.30235363 -2.48136165  0.06850167  1.13779426]]\n",
      "[[ 2.         -1.29420885  2.          2.        ]\n",
      " [ 2.          2.          2.          2.        ]\n",
      " [ 2.         -0.0874622  -0.13414211  2.        ]\n",
      " [ 2.         -2.48136165  2.          2.        ]]\n"
     ]
    }
   ],
   "source": [
    "# 随机生成4行，4列\n",
    "arr = np.random.randn(4, 4)\n",
    "print(arr)\n",
    "# 操作不会影响原数组，需要重新赋值\n",
    "# arr = np.where(arr > 0, 2, -2)\n",
    "\n",
    "# 只将正值设置为2\n",
    "arr = np.where(arr > 0, 2, arr)\n",
    "print(arr)"
   ]
  },
  {
   "cell_type": "code",
   "execution_count": null,
   "metadata": {
    "collapsed": true
   },
   "outputs": [],
   "source": []
  }
 ],
 "metadata": {
  "kernelspec": {
   "display_name": "Python 3",
   "language": "python",
   "name": "python3"
  },
  "language_info": {
   "codemirror_mode": {
    "name": "ipython",
    "version": 3
   },
   "file_extension": ".py",
   "mimetype": "text/x-python",
   "name": "python",
   "nbconvert_exporter": "python",
   "pygments_lexer": "ipython3",
   "version": "3.6.1"
  }
 },
 "nbformat": 4,
 "nbformat_minor": 2
}

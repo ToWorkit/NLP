{
 "cells": [
  {
   "cell_type": "markdown",
   "metadata": {},
   "source": [
    "## 数据组织和呈现的方式"
   ]
  },
  {
   "cell_type": "code",
   "execution_count": 2,
   "metadata": {
    "collapsed": true
   },
   "outputs": [],
   "source": [
    "from pandas import DataFrame, Series"
   ]
  },
  {
   "cell_type": "code",
   "execution_count": 3,
   "metadata": {},
   "outputs": [
    {
     "name": "stdout",
     "output_type": "stream",
     "text": [
      "   age  name\n",
      "0   21  jack\n",
      "1   22   tom\n",
      "2   23  mary\n",
      "<bound method DataFrame.iteritems of    age  name\n",
      "0   21  jack\n",
      "1   22   tom\n",
      "2   23  mary>\n"
     ]
    }
   ],
   "source": [
    "df_ = DataFrame({\n",
    "    'age': [21, 22, 23],\n",
    "    'name': ['jack', 'tom', 'mary']\n",
    "})\n",
    "print(df_)\n",
    "print(df_.items)"
   ]
  },
  {
   "cell_type": "code",
   "execution_count": 5,
   "metadata": {},
   "outputs": [
    {
     "name": "stdout",
     "output_type": "stream",
     "text": [
      "        age  name\n",
      "first    21  jack\n",
      "second   22   tom\n",
      "third    23  mary\n",
      "four     24   tim\n",
      "five     25   kal\n"
     ]
    }
   ],
   "source": [
    "df = DataFrame({\n",
    "    'age': [21, 22, 23, 24, 25],\n",
    "    'name': ['jack', 'tom', 'mary', 'tim', 'kal']\n",
    "}, index = ['first', 'second', 'third', 'four', 'five'])\n",
    "print(df)"
   ]
  },
  {
   "cell_type": "markdown",
   "metadata": {},
   "source": [
    "## 访问"
   ]
  },
  {
   "cell_type": "code",
   "execution_count": 6,
   "metadata": {},
   "outputs": [
    {
     "data": {
      "text/plain": [
       "first     21\n",
       "second    22\n",
       "third     23\n",
       "four      24\n",
       "five      25\n",
       "Name: age, dtype: int64"
      ]
     },
     "execution_count": 6,
     "metadata": {},
     "output_type": "execute_result"
    }
   ],
   "source": [
    "# 按列访问\n",
    "df['age']"
   ]
  },
  {
   "cell_type": "code",
   "execution_count": 8,
   "metadata": {},
   "outputs": [
    {
     "data": {
      "text/html": [
       "<div>\n",
       "<style>\n",
       "    .dataframe thead tr:only-child th {\n",
       "        text-align: right;\n",
       "    }\n",
       "\n",
       "    .dataframe thead th {\n",
       "        text-align: left;\n",
       "    }\n",
       "\n",
       "    .dataframe tbody tr th {\n",
       "        vertical-align: top;\n",
       "    }\n",
       "</style>\n",
       "<table border=\"1\" class=\"dataframe\">\n",
       "  <thead>\n",
       "    <tr style=\"text-align: right;\">\n",
       "      <th></th>\n",
       "      <th>age</th>\n",
       "      <th>name</th>\n",
       "    </tr>\n",
       "  </thead>\n",
       "  <tbody>\n",
       "    <tr>\n",
       "      <th>second</th>\n",
       "      <td>22</td>\n",
       "      <td>tom</td>\n",
       "    </tr>\n",
       "    <tr>\n",
       "      <th>third</th>\n",
       "      <td>23</td>\n",
       "      <td>mary</td>\n",
       "    </tr>\n",
       "  </tbody>\n",
       "</table>\n",
       "</div>"
      ],
      "text/plain": [
       "        age  name\n",
       "second   22   tom\n",
       "third    23  mary"
      ]
     },
     "execution_count": 8,
     "metadata": {},
     "output_type": "execute_result"
    }
   ],
   "source": [
    "# 按行访问\n",
    "df[1:3]"
   ]
  },
  {
   "cell_type": "code",
   "execution_count": 12,
   "metadata": {},
   "outputs": [
    {
     "data": {
      "text/html": [
       "<div>\n",
       "<style>\n",
       "    .dataframe thead tr:only-child th {\n",
       "        text-align: right;\n",
       "    }\n",
       "\n",
       "    .dataframe thead th {\n",
       "        text-align: left;\n",
       "    }\n",
       "\n",
       "    .dataframe tbody tr th {\n",
       "        vertical-align: top;\n",
       "    }\n",
       "</style>\n",
       "<table border=\"1\" class=\"dataframe\">\n",
       "  <thead>\n",
       "    <tr style=\"text-align: right;\">\n",
       "      <th></th>\n",
       "      <th>age</th>\n",
       "    </tr>\n",
       "  </thead>\n",
       "  <tbody>\n",
       "    <tr>\n",
       "      <th>first</th>\n",
       "      <td>21</td>\n",
       "    </tr>\n",
       "    <tr>\n",
       "      <th>second</th>\n",
       "      <td>22</td>\n",
       "    </tr>\n",
       "  </tbody>\n",
       "</table>\n",
       "</div>"
      ],
      "text/plain": [
       "        age\n",
       "first    21\n",
       "second   22"
      ]
     },
     "execution_count": 12,
     "metadata": {},
     "output_type": "execute_result"
    }
   ],
   "source": [
    "# 按行列号访问\n",
    "df.iloc[0:2, 0:1]"
   ]
  },
  {
   "cell_type": "code",
   "execution_count": 14,
   "metadata": {},
   "outputs": [
    {
     "data": {
      "text/plain": [
       "'jack'"
      ]
     },
     "execution_count": 14,
     "metadata": {},
     "output_type": "execute_result"
    }
   ],
   "source": [
    "# 按行索引，列名访问\n",
    "df.at['first', 'name']"
   ]
  },
  {
   "cell_type": "code",
   "execution_count": 17,
   "metadata": {},
   "outputs": [
    {
     "name": "stdout",
     "output_type": "stream",
     "text": [
      "Index(['age', 'name'], dtype='object') 原列名\n",
      "Index(['age_', 'name_'], dtype='object') 修改后\n"
     ]
    }
   ],
   "source": [
    "# 修改列名\n",
    "print(df.columns, '原列名')\n",
    "df.columns = ['age_', 'name_']\n",
    "print(df.columns, '修改后')"
   ]
  },
  {
   "cell_type": "code",
   "execution_count": 21,
   "metadata": {},
   "outputs": [
    {
     "name": "stdout",
     "output_type": "stream",
     "text": [
      "RangeIndex(start=1, stop=6, step=1) 原行索引\n",
      "RangeIndex(start=1, stop=6, step=1) 修改后\n",
      "   age_ name_\n",
      "1    21  jack\n",
      "2    22   tom\n",
      "3    23  mary\n",
      "4    24   tim\n",
      "5    25   kal\n"
     ]
    }
   ],
   "source": [
    "# 修改行索引\n",
    "print(df.index, '原行索引, 参考上面，修改后直接修改原始数据')\n",
    "df.index = range(1, 6)\n",
    "print(df.index, '修改后')\n",
    "print(df)"
   ]
  },
  {
   "cell_type": "markdown",
   "metadata": {},
   "source": [
    "### 根据行列删除 -> 不会操作原始数据， del -> 删除会操作原始数据"
   ]
  },
  {
   "cell_type": "code",
   "execution_count": 23,
   "metadata": {},
   "outputs": [
    {
     "data": {
      "text/html": [
       "<div>\n",
       "<style>\n",
       "    .dataframe thead tr:only-child th {\n",
       "        text-align: right;\n",
       "    }\n",
       "\n",
       "    .dataframe thead th {\n",
       "        text-align: left;\n",
       "    }\n",
       "\n",
       "    .dataframe tbody tr th {\n",
       "        vertical-align: top;\n",
       "    }\n",
       "</style>\n",
       "<table border=\"1\" class=\"dataframe\">\n",
       "  <thead>\n",
       "    <tr style=\"text-align: right;\">\n",
       "      <th></th>\n",
       "      <th>age_</th>\n",
       "      <th>name_</th>\n",
       "    </tr>\n",
       "  </thead>\n",
       "  <tbody>\n",
       "    <tr>\n",
       "      <th>2</th>\n",
       "      <td>22</td>\n",
       "      <td>tom</td>\n",
       "    </tr>\n",
       "    <tr>\n",
       "      <th>3</th>\n",
       "      <td>23</td>\n",
       "      <td>mary</td>\n",
       "    </tr>\n",
       "    <tr>\n",
       "      <th>4</th>\n",
       "      <td>24</td>\n",
       "      <td>tim</td>\n",
       "    </tr>\n",
       "    <tr>\n",
       "      <th>5</th>\n",
       "      <td>25</td>\n",
       "      <td>kal</td>\n",
       "    </tr>\n",
       "  </tbody>\n",
       "</table>\n",
       "</div>"
      ],
      "text/plain": [
       "   age_ name_\n",
       "2    22   tom\n",
       "3    23  mary\n",
       "4    24   tim\n",
       "5    25   kal"
      ]
     },
     "execution_count": 23,
     "metadata": {},
     "output_type": "execute_result"
    }
   ],
   "source": [
    "# 根据行索引删除\n",
    "# axis = 0 -> 默认，行\n",
    "df.drop(1, axis=0)\n",
    "# print(df)"
   ]
  },
  {
   "cell_type": "code",
   "execution_count": 24,
   "metadata": {},
   "outputs": [
    {
     "name": "stdout",
     "output_type": "stream",
     "text": [
      "   age_ name_\n",
      "1    21  jack\n",
      "2    22   tom\n",
      "3    23  mary\n",
      "4    24   tim\n",
      "5    25   kal\n"
     ]
    }
   ],
   "source": [
    "# 不会操作原始数据\n",
    "print(df)"
   ]
  },
  {
   "cell_type": "code",
   "execution_count": 26,
   "metadata": {},
   "outputs": [
    {
     "data": {
      "text/html": [
       "<div>\n",
       "<style>\n",
       "    .dataframe thead tr:only-child th {\n",
       "        text-align: right;\n",
       "    }\n",
       "\n",
       "    .dataframe thead th {\n",
       "        text-align: left;\n",
       "    }\n",
       "\n",
       "    .dataframe tbody tr th {\n",
       "        vertical-align: top;\n",
       "    }\n",
       "</style>\n",
       "<table border=\"1\" class=\"dataframe\">\n",
       "  <thead>\n",
       "    <tr style=\"text-align: right;\">\n",
       "      <th></th>\n",
       "      <th>name_</th>\n",
       "    </tr>\n",
       "  </thead>\n",
       "  <tbody>\n",
       "    <tr>\n",
       "      <th>1</th>\n",
       "      <td>jack</td>\n",
       "    </tr>\n",
       "    <tr>\n",
       "      <th>2</th>\n",
       "      <td>tom</td>\n",
       "    </tr>\n",
       "    <tr>\n",
       "      <th>3</th>\n",
       "      <td>mary</td>\n",
       "    </tr>\n",
       "    <tr>\n",
       "      <th>4</th>\n",
       "      <td>tim</td>\n",
       "    </tr>\n",
       "    <tr>\n",
       "      <th>5</th>\n",
       "      <td>kal</td>\n",
       "    </tr>\n",
       "  </tbody>\n",
       "</table>\n",
       "</div>"
      ],
      "text/plain": [
       "  name_\n",
       "1  jack\n",
       "2   tom\n",
       "3  mary\n",
       "4   tim\n",
       "5   kal"
      ]
     },
     "execution_count": 26,
     "metadata": {},
     "output_type": "execute_result"
    }
   ],
   "source": [
    "# 按列名删除\n",
    "# axis = 1 -> 列\n",
    "df.drop('age_', axis=1)"
   ]
  },
  {
   "cell_type": "code",
   "execution_count": 27,
   "metadata": {},
   "outputs": [
    {
     "name": "stdout",
     "output_type": "stream",
     "text": [
      "   age_ name_\n",
      "1    21  jack\n",
      "2    22   tom\n",
      "3    23  mary\n",
      "4    24   tim\n",
      "5    25   kal\n"
     ]
    }
   ],
   "source": [
    "print(df)"
   ]
  },
  {
   "cell_type": "code",
   "execution_count": 31,
   "metadata": {},
   "outputs": [
    {
     "name": "stdout",
     "output_type": "stream",
     "text": [
      "  name_\n",
      "1  jack\n",
      "2   tom\n",
      "3  mary\n",
      "4   tim\n",
      "5   kal\n"
     ]
    }
   ],
   "source": [
    "# 第二种删除方法\n",
    "del df['age_']\n",
    "# 会操作原始数据\n",
    "print(df)"
   ]
  },
  {
   "cell_type": "markdown",
   "metadata": {},
   "source": [
    "### 增加"
   ]
  },
  {
   "cell_type": "code",
   "execution_count": 37,
   "metadata": {},
   "outputs": [
    {
     "name": "stdout",
     "output_type": "stream",
     "text": [
      "        age  name\n",
      "first    21  jack\n",
      "second   22   tom\n",
      "third    23  mary\n",
      "four     24   tim\n",
      "five     25   kal\n",
      "5        26   lop\n"
     ]
    }
   ],
   "source": [
    "df = DataFrame({\n",
    "    'age': [21, 22, 23, 24, 25],\n",
    "    'name': ['jack', 'tom', 'mary', 'tim', 'kal']\n",
    "}, index = ['first', 'second', 'third', 'four', 'five'])\n",
    "# print(df)\n",
    "# 增加行\n",
    "df.loc[len(df)] = [26, 'lop']\n",
    "print(df)"
   ]
  },
  {
   "cell_type": "code",
   "execution_count": 38,
   "metadata": {},
   "outputs": [
    {
     "name": "stdout",
     "output_type": "stream",
     "text": [
      "        age  name  gender\n",
      "first    21  jack       1\n",
      "second   22   tom       0\n",
      "third    23  mary       0\n",
      "four     24   tim       0\n",
      "five     25   kal       1\n",
      "5        26   lop       0\n"
     ]
    }
   ],
   "source": [
    "# 增加列\n",
    "df['gender'] = [1, 0, 0, 0, 1, 0]\n",
    "print(df)"
   ]
  },
  {
   "cell_type": "code",
   "execution_count": 42,
   "metadata": {},
   "outputs": [
    {
     "data": {
      "text/plain": [
       "0    2\n",
       "1    3\n",
       "2    4\n",
       "dtype: int64"
      ]
     },
     "execution_count": 42,
     "metadata": {},
     "output_type": "execute_result"
    }
   ],
   "source": [
    "Series([2, 3, 4])"
   ]
  },
  {
   "cell_type": "markdown",
   "metadata": {},
   "source": [
    "## 遍历"
   ]
  },
  {
   "cell_type": "code",
   "execution_count": 43,
   "metadata": {},
   "outputs": [
    {
     "data": {
      "text/html": [
       "<div>\n",
       "<style>\n",
       "    .dataframe thead tr:only-child th {\n",
       "        text-align: right;\n",
       "    }\n",
       "\n",
       "    .dataframe thead th {\n",
       "        text-align: left;\n",
       "    }\n",
       "\n",
       "    .dataframe tbody tr th {\n",
       "        vertical-align: top;\n",
       "    }\n",
       "</style>\n",
       "<table border=\"1\" class=\"dataframe\">\n",
       "  <thead>\n",
       "    <tr style=\"text-align: right;\">\n",
       "      <th></th>\n",
       "      <th>age</th>\n",
       "      <th>name</th>\n",
       "    </tr>\n",
       "  </thead>\n",
       "  <tbody>\n",
       "    <tr>\n",
       "      <th>0</th>\n",
       "      <td>21</td>\n",
       "      <td>a</td>\n",
       "    </tr>\n",
       "    <tr>\n",
       "      <th>1</th>\n",
       "      <td>22</td>\n",
       "      <td>b</td>\n",
       "    </tr>\n",
       "    <tr>\n",
       "      <th>2</th>\n",
       "      <td>23</td>\n",
       "      <td>c</td>\n",
       "    </tr>\n",
       "  </tbody>\n",
       "</table>\n",
       "</div>"
      ],
      "text/plain": [
       "   age name\n",
       "0   21    a\n",
       "1   22    b\n",
       "2   23    c"
      ]
     },
     "execution_count": 43,
     "metadata": {},
     "output_type": "execute_result"
    }
   ],
   "source": [
    "df = DataFrame({\n",
    "    'age': Series([21, 22, 23]),\n",
    "    'name': Series(['a', 'b', 'c'])\n",
    "})\n",
    "df"
   ]
  },
  {
   "cell_type": "code",
   "execution_count": 48,
   "metadata": {},
   "outputs": [
    {
     "name": "stdout",
     "output_type": "stream",
     "text": [
      "列： age\n",
      "值：\n",
      " 0    21\n",
      "1    22\n",
      "2    23\n",
      "Name: age, dtype: int64\n",
      "------------\n",
      "列： name\n",
      "值：\n",
      " 0    a\n",
      "1    b\n",
      "2    c\n",
      "Name: name, dtype: object\n",
      "------------\n"
     ]
    }
   ],
   "source": [
    "# 遍历列\n",
    "for col in df:\n",
    "    print('列：', col)\n",
    "    print('值：\\n', df[col])\n",
    "    print('------------')"
   ]
  },
  {
   "cell_type": "code",
   "execution_count": 58,
   "metadata": {},
   "outputs": [
    {
     "name": "stdout",
     "output_type": "stream",
     "text": [
      "现在是第:  0 行\n",
      "age     21\n",
      "name     a\n",
      "Name: 0, dtype: object\n",
      "现在是第:  1 行\n",
      "age     22\n",
      "name     b\n",
      "Name: 1, dtype: object\n",
      "现在是第:  2 行\n",
      "age     23\n",
      "name     c\n",
      "Name: 2, dtype: object\n"
     ]
    }
   ],
   "source": [
    "# 遍历行，1\n",
    "# df.iloc\n",
    "for row in df.index:\n",
    "    print('现在是第: ', row, '行')\n",
    "    print(df.iloc()[row])"
   ]
  },
  {
   "cell_type": "code",
   "execution_count": 63,
   "metadata": {},
   "outputs": [
    {
     "name": "stdout",
     "output_type": "stream",
     "text": [
      "[21 'a']\n",
      "21\n",
      "[22 'b']\n",
      "22\n",
      "[23 'c']\n",
      "23\n"
     ]
    }
   ],
   "source": [
    "# 遍历行，2\n",
    "for r in df.values:\n",
    "    print(r)\n",
    "    print(r[0])"
   ]
  },
  {
   "cell_type": "code",
   "execution_count": 66,
   "metadata": {},
   "outputs": [
    {
     "name": "stdout",
     "output_type": "stream",
     "text": [
      "0\n",
      "age     21\n",
      "name     a\n",
      "Name: 0, dtype: object\n",
      "1\n",
      "age     22\n",
      "name     b\n",
      "Name: 1, dtype: object\n",
      "2\n",
      "age     23\n",
      "name     c\n",
      "Name: 2, dtype: object\n"
     ]
    }
   ],
   "source": [
    "# 遍历行，3\n",
    "for index, row in df.iterrows():\n",
    "    print(index)\n",
    "    print(row)"
   ]
  },
  {
   "cell_type": "code",
   "execution_count": 67,
   "metadata": {
    "collapsed": true
   },
   "outputs": [],
   "source": [
    "import numpy as np"
   ]
  },
  {
   "cell_type": "code",
   "execution_count": 68,
   "metadata": {},
   "outputs": [
    {
     "data": {
      "text/plain": [
       "array([-1.2457956 ,  1.3244505 ,  0.91201535,  0.60403867,  1.03929585])"
      ]
     },
     "execution_count": 68,
     "metadata": {},
     "output_type": "execute_result"
    }
   ],
   "source": [
    "np.random.randn(5)"
   ]
  },
  {
   "cell_type": "markdown",
   "metadata": {},
   "source": [
    "## 判断"
   ]
  },
  {
   "cell_type": "code",
   "execution_count": 69,
   "metadata": {},
   "outputs": [
    {
     "data": {
      "text/html": [
       "<div>\n",
       "<style>\n",
       "    .dataframe thead tr:only-child th {\n",
       "        text-align: right;\n",
       "    }\n",
       "\n",
       "    .dataframe thead th {\n",
       "        text-align: left;\n",
       "    }\n",
       "\n",
       "    .dataframe tbody tr th {\n",
       "        vertical-align: top;\n",
       "    }\n",
       "</style>\n",
       "<table border=\"1\" class=\"dataframe\">\n",
       "  <thead>\n",
       "    <tr style=\"text-align: right;\">\n",
       "      <th></th>\n",
       "      <th>data_</th>\n",
       "      <th>data_01</th>\n",
       "    </tr>\n",
       "  </thead>\n",
       "  <tbody>\n",
       "    <tr>\n",
       "      <th>0</th>\n",
       "      <td>-0.363531</td>\n",
       "      <td>0.491511</td>\n",
       "    </tr>\n",
       "    <tr>\n",
       "      <th>1</th>\n",
       "      <td>-0.999652</td>\n",
       "      <td>1.165870</td>\n",
       "    </tr>\n",
       "    <tr>\n",
       "      <th>2</th>\n",
       "      <td>-2.151753</td>\n",
       "      <td>1.191461</td>\n",
       "    </tr>\n",
       "    <tr>\n",
       "      <th>3</th>\n",
       "      <td>-1.652179</td>\n",
       "      <td>-0.167977</td>\n",
       "    </tr>\n",
       "    <tr>\n",
       "      <th>4</th>\n",
       "      <td>-1.122669</td>\n",
       "      <td>0.056055</td>\n",
       "    </tr>\n",
       "  </tbody>\n",
       "</table>\n",
       "</div>"
      ],
      "text/plain": [
       "      data_   data_01\n",
       "0 -0.363531  0.491511\n",
       "1 -0.999652  1.165870\n",
       "2 -2.151753  1.191461\n",
       "3 -1.652179 -0.167977\n",
       "4 -1.122669  0.056055"
      ]
     },
     "execution_count": 69,
     "metadata": {},
     "output_type": "execute_result"
    }
   ],
   "source": [
    "df = DataFrame({\n",
    "    'data_': np.random.randn(5),\n",
    "    'data_01': np.random.randn(5),\n",
    "})\n",
    "df"
   ]
  },
  {
   "cell_type": "code",
   "execution_count": null,
   "metadata": {
    "collapsed": true
   },
   "outputs": [],
   "source": []
  }
 ],
 "metadata": {
  "kernelspec": {
   "display_name": "Python 3",
   "language": "python",
   "name": "python3"
  },
  "language_info": {
   "codemirror_mode": {
    "name": "ipython",
    "version": 3
   },
   "file_extension": ".py",
   "mimetype": "text/x-python",
   "name": "python",
   "nbconvert_exporter": "python",
   "pygments_lexer": "ipython3",
   "version": "3.6.1"
  }
 },
 "nbformat": 4,
 "nbformat_minor": 2
}

{
 "cells": [
  {
   "cell_type": "markdown",
   "metadata": {},
   "source": [
    "## 一维数组"
   ]
  },
  {
   "cell_type": "code",
   "execution_count": 1,
   "metadata": {
    "collapsed": true
   },
   "outputs": [],
   "source": [
    "from pandas import Series"
   ]
  },
  {
   "cell_type": "code",
   "execution_count": 2,
   "metadata": {},
   "outputs": [
    {
     "name": "stdout",
     "output_type": "stream",
     "text": [
      "first      one\n",
      "second    True\n",
      "third        1\n",
      "dtype: object\n",
      "0     one\n",
      "1    True\n",
      "2       1\n",
      "dtype: object\n"
     ]
    }
   ],
   "source": [
    "# 定义\n",
    "# 可以有不同类型的值\n",
    "x = Series(['one', True, 1], index=['first', 'second', 'third'])\n",
    "print(x)\n",
    "x_01 = Series(['one', True, 1])\n",
    "print(x_01)"
   ]
  },
  {
   "cell_type": "markdown",
   "metadata": {},
   "source": [
    "### 访问"
   ]
  },
  {
   "cell_type": "code",
   "execution_count": 3,
   "metadata": {},
   "outputs": [
    {
     "name": "stdout",
     "output_type": "stream",
     "text": [
      "True\n",
      "1\n"
     ]
    }
   ],
   "source": [
    "print(x[1])\n",
    "# 根据index\n",
    "print(x['third'])"
   ]
  },
  {
   "cell_type": "markdown",
   "metadata": {},
   "source": [
    "### 追加 "
   ]
  },
  {
   "cell_type": "code",
   "execution_count": 4,
   "metadata": {},
   "outputs": [
    {
     "name": "stdout",
     "output_type": "stream",
     "text": [
      "first      one\n",
      "second    True\n",
      "third        1\n",
      "dtype: object\n",
      "--------------------\n",
      "first      one\n",
      "second    True\n",
      "third        1\n",
      "0            6\n",
      "dtype: object\n"
     ]
    }
   ],
   "source": [
    "# 不可以追加单个元素\n",
    "# x.append('6')\n",
    "# 追加一个序列\n",
    "n = Series(['6'])\n",
    "x.append(n)\n",
    "# 不会操作原始值\n",
    "print(x)\n",
    "print('--------------------')\n",
    "x_02 = x.append(n)\n",
    "print(x_02)"
   ]
  },
  {
   "cell_type": "markdown",
   "metadata": {},
   "source": [
    "### 判断"
   ]
  },
  {
   "cell_type": "code",
   "execution_count": 5,
   "metadata": {},
   "outputs": [
    {
     "data": {
      "text/plain": [
       "True"
      ]
     },
     "execution_count": 5,
     "metadata": {},
     "output_type": "execute_result"
    }
   ],
   "source": [
    "# 判断索引\n",
    "'third' in x"
   ]
  },
  {
   "cell_type": "code",
   "execution_count": 6,
   "metadata": {},
   "outputs": [
    {
     "data": {
      "text/plain": [
       "True"
      ]
     },
     "execution_count": 6,
     "metadata": {},
     "output_type": "execute_result"
    }
   ],
   "source": [
    "# 判断值\n",
    "'one' in x.values"
   ]
  },
  {
   "cell_type": "code",
   "execution_count": 7,
   "metadata": {},
   "outputs": [
    {
     "name": "stdout",
     "output_type": "stream",
     "text": [
      "second    True\n",
      "dtype: object\n"
     ]
    }
   ],
   "source": [
    "# 切片 -> 含头不含尾\n",
    "print(x[1:2])"
   ]
  },
  {
   "cell_type": "code",
   "execution_count": 8,
   "metadata": {},
   "outputs": [
    {
     "data": {
      "text/plain": [
       "first      one\n",
       "third        1\n",
       "second    True\n",
       "dtype: object"
      ]
     },
     "execution_count": 8,
     "metadata": {},
     "output_type": "execute_result"
    }
   ],
   "source": [
    "# 定位获取，常用于随机抽样 -> 和正常值对比着看\n",
    "x[[0, 2, 1]]"
   ]
  },
  {
   "cell_type": "markdown",
   "metadata": {},
   "source": [
    "### 删除"
   ]
  },
  {
   "cell_type": "code",
   "execution_count": 9,
   "metadata": {},
   "outputs": [
    {
     "name": "stdout",
     "output_type": "stream",
     "text": [
      "first      one\n",
      "second    True\n",
      "third        1\n",
      "dtype: object\n",
      "------------------\n",
      "second    True\n",
      "third        1\n",
      "dtype: object\n"
     ]
    }
   ],
   "source": [
    "# 根据index删除\n",
    "x.drop('first')\n",
    "# 同样不会操作原始数据\n",
    "print(x)\n",
    "print('------------------')\n",
    "x_03 = x.drop('first')\n",
    "print(x_03)"
   ]
  },
  {
   "cell_type": "code",
   "execution_count": 10,
   "metadata": {},
   "outputs": [
    {
     "data": {
      "text/plain": [
       "first    one\n",
       "third      1\n",
       "dtype: object"
      ]
     },
     "execution_count": 10,
     "metadata": {},
     "output_type": "execute_result"
    }
   ],
   "source": [
    "# 根据位置删除\n",
    "# 不会操作原始数据\n",
    "x.drop(x.index[1])"
   ]
  },
  {
   "cell_type": "code",
   "execution_count": 11,
   "metadata": {},
   "outputs": [
    {
     "name": "stdout",
     "output_type": "stream",
     "text": [
      "first      one\n",
      "second    True\n",
      "third        1\n",
      "dtype: object\n"
     ]
    }
   ],
   "source": [
    "print(x)"
   ]
  },
  {
   "cell_type": "code",
   "execution_count": 12,
   "metadata": {},
   "outputs": [
    {
     "data": {
      "text/plain": [
       "second    True\n",
       "third        1\n",
       "dtype: object"
      ]
     },
     "execution_count": 12,
     "metadata": {},
     "output_type": "execute_result"
    }
   ],
   "source": [
    "# 根据值删除\n",
    "# 不会操作原始数据\n",
    "x['one' != x.values]\n",
    "# x['one' == x.values]"
   ]
  },
  {
   "cell_type": "code",
   "execution_count": 13,
   "metadata": {},
   "outputs": [
    {
     "name": "stdout",
     "output_type": "stream",
     "text": [
      "first      one\n",
      "second    True\n",
      "third        1\n",
      "dtype: object\n"
     ]
    }
   ],
   "source": [
    "print(x)"
   ]
  },
  {
   "cell_type": "markdown",
   "metadata": {
    "collapsed": true
   },
   "source": [
    "## 遍历"
   ]
  },
  {
   "cell_type": "code",
   "execution_count": 16,
   "metadata": {},
   "outputs": [
    {
     "name": "stdout",
     "output_type": "stream",
     "text": [
      "one         a\n",
      "two      True\n",
      "three       1\n",
      "dtype: object\n"
     ]
    },
    {
     "data": {
      "text/plain": [
       "'a'"
      ]
     },
     "execution_count": 16,
     "metadata": {},
     "output_type": "execute_result"
    }
   ],
   "source": [
    "x = Series(['a', True, 1], index = ['one', 'two', 'three'])\n",
    "print(x)\n",
    "x[0]"
   ]
  },
  {
   "cell_type": "code",
   "execution_count": 15,
   "metadata": {},
   "outputs": [
    {
     "data": {
      "text/plain": [
       "True"
      ]
     },
     "execution_count": 15,
     "metadata": {},
     "output_type": "execute_result"
    }
   ],
   "source": [
    "x['two']"
   ]
  },
  {
   "cell_type": "code",
   "execution_count": 17,
   "metadata": {},
   "outputs": [
    {
     "name": "stdout",
     "output_type": "stream",
     "text": [
      "索引： one\n",
      "值： a\n",
      "-----------\n",
      "索引： two\n",
      "值： True\n",
      "-----------\n",
      "索引： three\n",
      "值： 1\n",
      "-----------\n"
     ]
    }
   ],
   "source": [
    "# 遍历索引查找\n",
    "for i in x.index:\n",
    "    print('索引：', i)\n",
    "    print('值：', x[i])\n",
    "    print('-----------')"
   ]
  },
  {
   "cell_type": "code",
   "execution_count": null,
   "metadata": {
    "collapsed": true
   },
   "outputs": [],
   "source": []
  }
 ],
 "metadata": {
  "kernelspec": {
   "display_name": "Python 3",
   "language": "python",
   "name": "python3"
  },
  "language_info": {
   "codemirror_mode": {
    "name": "ipython",
    "version": 3
   },
   "file_extension": ".py",
   "mimetype": "text/x-python",
   "name": "python",
   "nbconvert_exporter": "python",
   "pygments_lexer": "ipython3",
   "version": "3.6.1"
  }
 },
 "nbformat": 4,
 "nbformat_minor": 2
}

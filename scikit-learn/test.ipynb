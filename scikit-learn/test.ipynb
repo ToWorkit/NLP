{
 "cells": [
  {
   "cell_type": "markdown",
   "metadata": {},
   "source": [
    "### 鸢尾花"
   ]
  },
  {
   "cell_type": "code",
   "execution_count": 2,
   "metadata": {},
   "outputs": [
    {
     "name": "stdout",
     "output_type": "stream",
     "text": [
      "(150, 4)\n"
     ]
    }
   ],
   "source": [
    "# 导入数据集\n",
    "from sklearn import datasets\n",
    "# 加载数据集\n",
    "iris = datasets.load_iris()\n",
    "# 查看数据集大小\n",
    "print(iris.data.shape)"
   ]
  },
  {
   "cell_type": "code",
   "execution_count": 4,
   "metadata": {},
   "outputs": [
    {
     "data": {
      "text/plain": [
       "array([[ 0.18424211,  0.45122465, -0.80794563, -0.4507135 ],\n",
       "       [ 0.05836529, -0.89020367,  0.39628141, -0.92961766],\n",
       "       [-0.85068465, -0.98669137,  1.38108095,  1.86531577]])"
      ]
     },
     "execution_count": 4,
     "metadata": {},
     "output_type": "execute_result"
    }
   ],
   "source": [
    "# 导入svm(支持向量机)模型\n",
    "from sklearn import svm\n",
    "# 建立线性svm分类器\n",
    "clf = svm.LinearSVC()\n",
    "# 用数据训练模型\n",
    "clf.fit(iris.data, iris.target)\n",
    "# 训练好模型之后，输入新的数据进行预测\n",
    "clf.predict([[5.0, 3.6, 1.3, 0.25]])\n",
    "# 查看训练好模型的参数\n",
    "clf.coef_"
   ]
  },
  {
   "cell_type": "code",
   "execution_count": null,
   "metadata": {
    "collapsed": true
   },
   "outputs": [],
   "source": []
  }
 ],
 "metadata": {
  "kernelspec": {
   "display_name": "Python 3",
   "language": "python",
   "name": "python3"
  },
  "language_info": {
   "codemirror_mode": {
    "name": "ipython",
    "version": 3
   },
   "file_extension": ".py",
   "mimetype": "text/x-python",
   "name": "python",
   "nbconvert_exporter": "python",
   "pygments_lexer": "ipython3",
   "version": "3.6.1"
  }
 },
 "nbformat": 4,
 "nbformat_minor": 2
}

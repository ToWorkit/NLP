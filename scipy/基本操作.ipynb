{
 "cells": [
  {
   "cell_type": "markdown",
   "metadata": {},
   "source": [
    "## Numpy提供了多维数组功能，但只是一般的数组，并不是矩阵，例如，当两个数组相乘时，只是对应元素相乘，而不是矩阵乘法，Scipy提供了真正的矩阵，以及大量基于矩阵运算的对象与函数"
   ]
  },
  {
   "cell_type": "markdown",
   "metadata": {},
   "source": [
    "### 求解非线性方程组 2 * x1 - x2 ^ 2 = 1, x1 ^ 2 - x2 = 2"
   ]
  },
  {
   "cell_type": "code",
   "execution_count": 1,
   "metadata": {},
   "outputs": [
    {
     "name": "stdout",
     "output_type": "stream",
     "text": [
      "[ 1.91963957  1.68501606]\n"
     ]
    }
   ],
   "source": [
    "# 导入求解方程组的函数\n",
    "from scipy.optimize import fsolve\n",
    "# 定义要求解的方程组\n",
    "def f(x):\n",
    "    x1 = x[0]\n",
    "    x2 = x[1]\n",
    "    return [2 * x1 - x2 ** 2 - 1, x1 ** 2 - x2 - 2]\n",
    "# 初值为 [1, 1] 传入求解\n",
    "_result = fsolve(f, [1, 2])\n",
    "print(_result)"
   ]
  },
  {
   "cell_type": "markdown",
   "metadata": {},
   "source": [
    "### 数值积分"
   ]
  },
  {
   "cell_type": "code",
   "execution_count": 4,
   "metadata": {},
   "outputs": [
    {
     "name": "stdout",
     "output_type": "stream",
     "text": [
      "3.141592653589797\n",
      "1.0002356720661965e-09\n"
     ]
    }
   ],
   "source": [
    "# 导入积分函数\n",
    "from scipy import integrate\n",
    "# 定义被积函数\n",
    "def g(x):\n",
    "    return (1 - x ** 2) ** 0.5\n",
    "# 积分结果和误差\n",
    "pi_2, err = integrate.quad(g, -1, 1)\n",
    "# 由被积函数可得积分结果为圆周率(pi)的一半\n",
    "print(pi_2 * 2)\n",
    "print(err)"
   ]
  },
  {
   "cell_type": "code",
   "execution_count": null,
   "metadata": {
    "collapsed": true
   },
   "outputs": [],
   "source": []
  }
 ],
 "metadata": {
  "kernelspec": {
   "display_name": "Python 3",
   "language": "python",
   "name": "python3"
  },
  "language_info": {
   "codemirror_mode": {
    "name": "ipython",
    "version": 3
   },
   "file_extension": ".py",
   "mimetype": "text/x-python",
   "name": "python",
   "nbconvert_exporter": "python",
   "pygments_lexer": "ipython3",
   "version": "3.6.1"
  }
 },
 "nbformat": 4,
 "nbformat_minor": 2
}

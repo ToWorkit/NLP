{
 "cells": [
  {
   "cell_type": "code",
   "execution_count": 1,
   "metadata": {
    "collapsed": true
   },
   "outputs": [],
   "source": [
    "from numpy import *\n",
    "# 操作\n",
    "# Python内部操作符对应的函数。这些函数主要分为几类：对象比较、逻辑比较、算术运算和序列操作\n",
    "import operator\n",
    "from os import listdir"
   ]
  },
  {
   "cell_type": "code",
   "execution_count": 2,
   "metadata": {
    "collapsed": true
   },
   "outputs": [],
   "source": [
    "# k -> k近邻的参考个数\n",
    "# testdata -> 测试数据\n",
    "# traindata -> 训练数据集\n",
    "# labels -> 标签类别名\n",
    "def knn(k, testdata, traindata, labels):\n",
    "    # shape -> 获取行列 -> list[] 格式\n",
    "    # 获取行 -> 多少个\n",
    "    traindatasize = traindata.shape[0]\n",
    "    # 解决测试数据和训练数据维度不一样的情况\n",
    "    # 将测试数据维度扩展至训练数据维度(保持一致)\n",
    "    # tile -> 扩展\n",
    "    # 从列的方向\n",
    "    # 计算测试集和训练集的差值\n",
    "    dif = tile(testdata(traindatasize, 1)) - traindata\n",
    "    # 欧式距离公式 -> 计算平方再求和然后再开方\n",
    "    # 平方\n",
    "    sqdif = dif ** 2\n",
    "    # 一行中的各列求和 axis =1 -> 行\n",
    "    sumsqdif = sqdif.sum(axis = 1)\n",
    "    # 开方\n",
    "    distance = sumsqdif ** 0.5\n",
    "    # 排序(升序)，从小到大(原始数据的下标)\n",
    "    sortdistance = distance.agsort()\n",
    "    count = {}\n",
    "    # 取 k 个\n",
    "    for i in range(0, k):\n",
    "        # 标签集中取对应的数据\n",
    "        vote = labels[sortdistance[i]]\n",
    "        # vote 出现的次数 + 1\n",
    "        # count[vote] -> {vote: 次数}\n",
    "        '''\n",
    "            >>> a[4] = a.get(0, 0) + 1\n",
    "            >>> a[4]\n",
    "            1\n",
    "            >>> a[4] = a.get(4, 0) + 1\n",
    "            >>> a[4]\n",
    "            2\n",
    "        '''\n",
    "        count[vote] = count.get(vote, 0) + 1\n",
    "        # 排序 -> 数据，排序依据, 从大到小(降序，默认为升序)\n",
    "        '''\n",
    "        a = [1,2,3] \n",
    "        b=operator.itemgetter(1)      //定义函数b，获取对象下标为1的值\n",
    "        b(a) \n",
    "            2\n",
    "        b=operator.itemgetter(1,0)  //定义函数b，获取对象下标为1的值和为0的值\n",
    "        b(a) \n",
    "            (2, 1) \n",
    "        '''\n",
    "        sortcount = sorted(count.items(), key = operator.itemgetter(1), reverse = True)\n",
    "        # {vote： 次数}\n",
    "        # 取值\n",
    "        # vote      \n",
    "        return sortcount[0][0]"
   ]
  },
  {
   "cell_type": "code",
   "execution_count": 3,
   "metadata": {
    "collapsed": true
   },
   "outputs": [],
   "source": [
    "# 1.加载数据 -> 一个数组1024个项[0,1,2...] => 相当于列\n",
    "# 长度1024（列），每一行存储一个文件\n",
    "# 用一个数组存储所有训练数据，行：文件总数，列：1024\n",
    "def datatoarray(fname):\n",
    "    arr = []\n",
    "    fh = open(fname)\n",
    "    # 准换为文本的图片数据(32 * 32)\n",
    "    for i in range(0, 32):\n",
    "        # 逐行的读取\n",
    "        thisline = fh.readline()\n",
    "        for j in range(0, 32):\n",
    "            arr.append(int(thisline[j]))\n",
    "    return arr"
   ]
  },
  {
   "cell_type": "code",
   "execution_count": 4,
   "metadata": {
    "collapsed": true
   },
   "outputs": [],
   "source": [
    "# 2. 建立一个函数取文件名前缀\n",
    "def seplabel(fname):\n",
    "    label = fname.split('_')[0]\n",
    "    return label"
   ]
  },
  {
   "cell_type": "code",
   "execution_count": 5,
   "metadata": {
    "collapsed": true
   },
   "outputs": [],
   "source": [
    "# 3. 建立训练数据\n",
    "def traindata():\n",
    "    labels = []\n",
    "    # 读取文件夹中的所有文件名\n",
    "    trainfile = listdir('E:\\\\爬虫\\\\Python3数据分析\\\\源码\\\\第7周\\\\testandtraindata\\\\traindata')\n",
    "    num = len(trainfile)\n",
    "    # 全零矩阵 -> 作储存的容器\n",
    "    # 参数为原组\n",
    "    trainarr = zeros((num, 1024))\n",
    "    for i in range(0, num):\n",
    "        # 文件名\n",
    "        thisfname = trainfile[i]\n",
    "        # 对应的标签名\n",
    "        thislabel = seplabel(thisfname)\n",
    "        # 添加到标签存储中\n",
    "        labels.append(thislabel)\n",
    "        # 赋值\n",
    "        '''\n",
    "            [\n",
    "                [],\n",
    "                [],\n",
    "                []\n",
    "            ]\n",
    "            >>> from numpy import *\n",
    "            >>> arr = zeros((2, 5))\n",
    "            >>> arr\n",
    "            array([[ 0.,  0.,  0.,  0.,  0.],\n",
    "                   [ 0.,  0.,  0.,  0.,  0.]])\n",
    "            >>> arr[1,:] = [2, 1, 4, 5, 7]\n",
    "            >>> arr\n",
    "            array([[ 0.,  0.,  0.,  0.,  0.],\n",
    "                   [ 2.,  1.,  4.,  5.,  7.]])\n",
    "        '''\n",
    "        # 加载数据并赋值\n",
    "        trainarr[i,:] = datatoarray('traindata/' + thisfname)\n",
    "    return trainarr, labels"
   ]
  },
  {
   "cell_type": "code",
   "execution_count": 6,
   "metadata": {
    "collapsed": true
   },
   "outputs": [],
   "source": [
    "# 4. 用测试数据调用KNN算法去测试，查看准确度\n",
    "def datatest():\n",
    "    trainarr, labels = traindata()\n",
    "    # 获取测试集下的文件\n",
    "    testlist = listdir('testdata')\n",
    "    tnum = len(testlist)\n",
    "    for i in range(0, tnum):\n",
    "        thistestfile = testlist[i]\n",
    "        # 获取数据\n",
    "        testarr = datatoarray('testdata/' + thistestfile)\n",
    "        # 训练\n",
    "        rknn = knn(3, testarr, trainarr, labels)\n",
    "        print(rknn)"
   ]
  },
  {
   "cell_type": "code",
   "execution_count": 7,
   "metadata": {},
   "outputs": [
    {
     "ename": "NameError",
     "evalue": "name 'testdatam' is not defined",
     "output_type": "error",
     "traceback": [
      "\u001b[1;31m---------------------------------------------------------------------------\u001b[0m",
      "\u001b[1;31mNameError\u001b[0m                                 Traceback (most recent call last)",
      "\u001b[1;32m<ipython-input-7-bad93c055a4c>\u001b[0m in \u001b[0;36m<module>\u001b[1;34m()\u001b[0m\n\u001b[0;32m      3\u001b[0m \u001b[0mthistestfile\u001b[0m \u001b[1;33m=\u001b[0m \u001b[1;34m\"7_43.txt\"\u001b[0m\u001b[1;33m\u001b[0m\u001b[0m\n\u001b[0;32m      4\u001b[0m \u001b[0mtestarr\u001b[0m \u001b[1;33m=\u001b[0m \u001b[0mdatatoarray\u001b[0m\u001b[1;33m(\u001b[0m\u001b[1;34m'E:\\\\爬虫\\\\Python3数据分析\\\\源码\\\\第7周\\\\testandtraindata\\\\testdata\\\\'\u001b[0m \u001b[1;33m+\u001b[0m \u001b[0mthistestfile\u001b[0m\u001b[1;33m)\u001b[0m\u001b[1;33m\u001b[0m\u001b[0m\n\u001b[1;32m----> 5\u001b[1;33m \u001b[0mrknn\u001b[0m \u001b[1;33m=\u001b[0m \u001b[0mknn\u001b[0m\u001b[1;33m(\u001b[0m\u001b[1;36m3\u001b[0m\u001b[1;33m,\u001b[0m \u001b[0mtestarr\u001b[0m\u001b[1;33m,\u001b[0m \u001b[0mtrainarr\u001b[0m\u001b[1;33m,\u001b[0m \u001b[0mlabels\u001b[0m\u001b[1;33m)\u001b[0m\u001b[1;33m\u001b[0m\u001b[0m\n\u001b[0m\u001b[0;32m      6\u001b[0m \u001b[0mprint\u001b[0m\u001b[1;33m(\u001b[0m\u001b[0mrknn\u001b[0m\u001b[1;33m)\u001b[0m\u001b[1;33m\u001b[0m\u001b[0m\n",
      "\u001b[1;32m<ipython-input-2-0732e9960f7f>\u001b[0m in \u001b[0;36mknn\u001b[1;34m(k, testdata, traindata, labels)\u001b[0m\n\u001b[0;32m     12\u001b[0m     \u001b[1;31m# 从列的方向\u001b[0m\u001b[1;33m\u001b[0m\u001b[1;33m\u001b[0m\u001b[0m\n\u001b[0;32m     13\u001b[0m     \u001b[1;31m# 计算测试集和训练集的差值\u001b[0m\u001b[1;33m\u001b[0m\u001b[1;33m\u001b[0m\u001b[0m\n\u001b[1;32m---> 14\u001b[1;33m     \u001b[0mdif\u001b[0m \u001b[1;33m=\u001b[0m \u001b[0mtile\u001b[0m\u001b[1;33m(\u001b[0m\u001b[0mtestdatam\u001b[0m \u001b[1;33m(\u001b[0m\u001b[0mtraindatasize\u001b[0m\u001b[1;33m,\u001b[0m \u001b[1;36m1\u001b[0m\u001b[1;33m)\u001b[0m\u001b[1;33m)\u001b[0m \u001b[1;33m-\u001b[0m \u001b[0mtraindata\u001b[0m\u001b[1;33m\u001b[0m\u001b[0m\n\u001b[0m\u001b[0;32m     15\u001b[0m     \u001b[1;31m# 欧式距离公式 -> 计算平方再求和然后再开方\u001b[0m\u001b[1;33m\u001b[0m\u001b[1;33m\u001b[0m\u001b[0m\n\u001b[0;32m     16\u001b[0m     \u001b[1;31m# 平方\u001b[0m\u001b[1;33m\u001b[0m\u001b[1;33m\u001b[0m\u001b[0m\n",
      "\u001b[1;31mNameError\u001b[0m: name 'testdatam' is not defined"
     ]
    }
   ],
   "source": [
    "# 5. 抽取某一个测试文件用来实验\n",
    "trainarr, labels = traindata()\n",
    "thistestfile = \"7_43.txt\"\n",
    "testarr = datatoarray('testdata/' + thistestfile)\n",
    "rknn = knn(3, testarr, trainarr, labels)\n",
    "print(rknn)"
   ]
  }
 ],
 "metadata": {
  "kernelspec": {
   "display_name": "Python 3",
   "language": "python",
   "name": "python3"
  },
  "language_info": {
   "codemirror_mode": {
    "name": "ipython",
    "version": 3
   },
   "file_extension": ".py",
   "mimetype": "text/x-python",
   "name": "python",
   "nbconvert_exporter": "python",
   "pygments_lexer": "ipython3",
   "version": "3.6.1"
  }
 },
 "nbformat": 4,
 "nbformat_minor": 2
}
